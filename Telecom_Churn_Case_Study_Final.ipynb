{
 "cells": [
  {
   "cell_type": "markdown",
   "metadata": {},
   "source": [
    "## <span style=\"color:#008abc\"><b>Telecom Churn Case Study</b></span>"
   ]
  },
  {
   "cell_type": "markdown",
   "metadata": {},
   "source": [
    "<span style=\"color:#008abc\"><b>Problem Statement</b></span>"
   ]
  },
  {
   "cell_type": "markdown",
   "metadata": {},
   "source": [
    "In the telecom industry, customers are able to choose from multiple service providers and actively switch from one operator to another. In this highly competitive market, the telecommunications industry experiences an average of 15-25% annual churn rate. Given the fact that it costs 5-10 times more to acquire a new customer than to retain an existing one, customer retention has now become even more important than customer acquisition.\n",
    "\n",
    " \n",
    "\n",
    "For many incumbent operators, retaining high profitable customers is the number one business goal.\n",
    "\n",
    " \n",
    "\n",
    "To reduce customer churn, telecom companies need to predict which customers are at high risk of churn."
   ]
  },
  {
   "cell_type": "markdown",
   "metadata": {},
   "source": [
    "<span style=\"color:#008abc\"><b>Business Goal</b></span>"
   ]
  },
  {
   "cell_type": "markdown",
   "metadata": {},
   "source": [
    "- Derive new features\n",
    "- Filter high-value customers\n",
    "- Tag churners and remove attributes of the churn phase\n",
    "- Handle class imbalance\n",
    "\n",
    "Build models to predict churn. The predictive model that you’re going to build will serve two purposes:\n",
    "\n",
    "- It will be used to predict whether a high-value customer will churn or not, in near future (i.e. churn phase). By knowing this, the company can take action steps such as providing special plans, discounts on recharge etc.\n",
    "\n",
    "- It will be used to identify important variables that are strong predictors of churn. These variables may also indicate why customers choose to switch to other networks.\n",
    "\n",
    "\n",
    "<b>Final</b></n>\n",
    "\n",
    "The business objective is to predict the churn in the last (i.e. the ninth) month using the data (features) from the first three months. To do this task well, understanding the typical customer behaviour during churn will be helpful."
   ]
  },
  {
   "cell_type": "markdown",
   "metadata": {},
   "source": [
    "## <span style=\"color:#008abc\"><b> Data Collection</b></span>"
   ]
  },
  {
   "cell_type": "markdown",
   "metadata": {},
   "source": [
    "> ### <span style=\"color:#008abc\">Import Libraries</span>"
   ]
  },
  {
   "cell_type": "code",
   "execution_count": 1,
   "metadata": {},
   "outputs": [],
   "source": [
    "## Analysis & Computation\n",
    "import pandas as pd\n",
    "import numpy as np\n",
    "\n",
    "## Plotting\n",
    "import matplotlib.pyplot as plt\n",
    "import seaborn as sns\n",
    "\n",
    "## Parameters\n",
    "params = {'legend.fontsize': 'x-large',\n",
    "          'figure.figsize': (10,3),\n",
    "          'axes.labelsize': 'x-large',\n",
    "          'axes.labelcolor': '#008abc',\n",
    "          'axes.titlesize':'15',\n",
    "          'text.color':'green',\n",
    "          'axes.titlepad': 35,\n",
    "          'xtick.labelsize':'small',\n",
    "          'ytick.labelsize':'small'}\n",
    "plt.rcParams.update(params)\n",
    "\n",
    "## Ignore warnings\n",
    "import warnings\n",
    "warnings.filterwarnings('ignore')\n",
    "\n",
    "## Autocomplete cell\n",
    "%config IPCompleter.greedy=True\n",
    "\n",
    "## Display full text\n",
    "pd.set_option('display.max_colwidth', -1)"
   ]
  },
  {
   "cell_type": "markdown",
   "metadata": {},
   "source": [
    "> ### <span style=\"color:#008abc\">Read the data</span>"
   ]
  },
  {
   "cell_type": "code",
   "execution_count": 2,
   "metadata": {},
   "outputs": [
    {
     "data": {
      "text/html": [
       "<div>\n",
       "<style scoped>\n",
       "    .dataframe tbody tr th:only-of-type {\n",
       "        vertical-align: middle;\n",
       "    }\n",
       "\n",
       "    .dataframe tbody tr th {\n",
       "        vertical-align: top;\n",
       "    }\n",
       "\n",
       "    .dataframe thead th {\n",
       "        text-align: right;\n",
       "    }\n",
       "</style>\n",
       "<table border=\"1\" class=\"dataframe\">\n",
       "  <thead>\n",
       "    <tr style=\"text-align: right;\">\n",
       "      <th></th>\n",
       "      <th>mobile_number</th>\n",
       "      <th>circle_id</th>\n",
       "      <th>loc_og_t2o_mou</th>\n",
       "      <th>std_og_t2o_mou</th>\n",
       "      <th>loc_ic_t2o_mou</th>\n",
       "      <th>last_date_of_month_6</th>\n",
       "      <th>last_date_of_month_7</th>\n",
       "      <th>last_date_of_month_8</th>\n",
       "      <th>last_date_of_month_9</th>\n",
       "      <th>arpu_6</th>\n",
       "      <th>...</th>\n",
       "      <th>sachet_3g_9</th>\n",
       "      <th>fb_user_6</th>\n",
       "      <th>fb_user_7</th>\n",
       "      <th>fb_user_8</th>\n",
       "      <th>fb_user_9</th>\n",
       "      <th>aon</th>\n",
       "      <th>aug_vbc_3g</th>\n",
       "      <th>jul_vbc_3g</th>\n",
       "      <th>jun_vbc_3g</th>\n",
       "      <th>sep_vbc_3g</th>\n",
       "    </tr>\n",
       "  </thead>\n",
       "  <tbody>\n",
       "    <tr>\n",
       "      <th>0</th>\n",
       "      <td>7000842753</td>\n",
       "      <td>109</td>\n",
       "      <td>0.0</td>\n",
       "      <td>0.0</td>\n",
       "      <td>0.0</td>\n",
       "      <td>6/30/2014</td>\n",
       "      <td>7/31/2014</td>\n",
       "      <td>8/31/2014</td>\n",
       "      <td>9/30/2014</td>\n",
       "      <td>197.385</td>\n",
       "      <td>...</td>\n",
       "      <td>0</td>\n",
       "      <td>1.0</td>\n",
       "      <td>1.0</td>\n",
       "      <td>1.0</td>\n",
       "      <td>NaN</td>\n",
       "      <td>968</td>\n",
       "      <td>30.4</td>\n",
       "      <td>0.0</td>\n",
       "      <td>101.20</td>\n",
       "      <td>3.58</td>\n",
       "    </tr>\n",
       "    <tr>\n",
       "      <th>1</th>\n",
       "      <td>7001865778</td>\n",
       "      <td>109</td>\n",
       "      <td>0.0</td>\n",
       "      <td>0.0</td>\n",
       "      <td>0.0</td>\n",
       "      <td>6/30/2014</td>\n",
       "      <td>7/31/2014</td>\n",
       "      <td>8/31/2014</td>\n",
       "      <td>9/30/2014</td>\n",
       "      <td>34.047</td>\n",
       "      <td>...</td>\n",
       "      <td>0</td>\n",
       "      <td>NaN</td>\n",
       "      <td>1.0</td>\n",
       "      <td>1.0</td>\n",
       "      <td>NaN</td>\n",
       "      <td>1006</td>\n",
       "      <td>0.0</td>\n",
       "      <td>0.0</td>\n",
       "      <td>0.00</td>\n",
       "      <td>0.00</td>\n",
       "    </tr>\n",
       "    <tr>\n",
       "      <th>2</th>\n",
       "      <td>7001625959</td>\n",
       "      <td>109</td>\n",
       "      <td>0.0</td>\n",
       "      <td>0.0</td>\n",
       "      <td>0.0</td>\n",
       "      <td>6/30/2014</td>\n",
       "      <td>7/31/2014</td>\n",
       "      <td>8/31/2014</td>\n",
       "      <td>9/30/2014</td>\n",
       "      <td>167.690</td>\n",
       "      <td>...</td>\n",
       "      <td>0</td>\n",
       "      <td>NaN</td>\n",
       "      <td>NaN</td>\n",
       "      <td>NaN</td>\n",
       "      <td>1.0</td>\n",
       "      <td>1103</td>\n",
       "      <td>0.0</td>\n",
       "      <td>0.0</td>\n",
       "      <td>4.17</td>\n",
       "      <td>0.00</td>\n",
       "    </tr>\n",
       "    <tr>\n",
       "      <th>3</th>\n",
       "      <td>7001204172</td>\n",
       "      <td>109</td>\n",
       "      <td>0.0</td>\n",
       "      <td>0.0</td>\n",
       "      <td>0.0</td>\n",
       "      <td>6/30/2014</td>\n",
       "      <td>7/31/2014</td>\n",
       "      <td>8/31/2014</td>\n",
       "      <td>9/30/2014</td>\n",
       "      <td>221.338</td>\n",
       "      <td>...</td>\n",
       "      <td>0</td>\n",
       "      <td>NaN</td>\n",
       "      <td>NaN</td>\n",
       "      <td>NaN</td>\n",
       "      <td>NaN</td>\n",
       "      <td>2491</td>\n",
       "      <td>0.0</td>\n",
       "      <td>0.0</td>\n",
       "      <td>0.00</td>\n",
       "      <td>0.00</td>\n",
       "    </tr>\n",
       "    <tr>\n",
       "      <th>4</th>\n",
       "      <td>7000142493</td>\n",
       "      <td>109</td>\n",
       "      <td>0.0</td>\n",
       "      <td>0.0</td>\n",
       "      <td>0.0</td>\n",
       "      <td>6/30/2014</td>\n",
       "      <td>7/31/2014</td>\n",
       "      <td>8/31/2014</td>\n",
       "      <td>9/30/2014</td>\n",
       "      <td>261.636</td>\n",
       "      <td>...</td>\n",
       "      <td>0</td>\n",
       "      <td>0.0</td>\n",
       "      <td>NaN</td>\n",
       "      <td>NaN</td>\n",
       "      <td>NaN</td>\n",
       "      <td>1526</td>\n",
       "      <td>0.0</td>\n",
       "      <td>0.0</td>\n",
       "      <td>0.00</td>\n",
       "      <td>0.00</td>\n",
       "    </tr>\n",
       "  </tbody>\n",
       "</table>\n",
       "<p>5 rows × 226 columns</p>\n",
       "</div>"
      ],
      "text/plain": [
       "   mobile_number  circle_id  loc_og_t2o_mou  std_og_t2o_mou  loc_ic_t2o_mou  \\\n",
       "0  7000842753     109        0.0             0.0             0.0              \n",
       "1  7001865778     109        0.0             0.0             0.0              \n",
       "2  7001625959     109        0.0             0.0             0.0              \n",
       "3  7001204172     109        0.0             0.0             0.0              \n",
       "4  7000142493     109        0.0             0.0             0.0              \n",
       "\n",
       "  last_date_of_month_6 last_date_of_month_7 last_date_of_month_8  \\\n",
       "0  6/30/2014            7/31/2014            8/31/2014             \n",
       "1  6/30/2014            7/31/2014            8/31/2014             \n",
       "2  6/30/2014            7/31/2014            8/31/2014             \n",
       "3  6/30/2014            7/31/2014            8/31/2014             \n",
       "4  6/30/2014            7/31/2014            8/31/2014             \n",
       "\n",
       "  last_date_of_month_9   arpu_6     ...      sachet_3g_9  fb_user_6  \\\n",
       "0  9/30/2014            197.385     ...      0            1.0         \n",
       "1  9/30/2014            34.047      ...      0           NaN          \n",
       "2  9/30/2014            167.690     ...      0           NaN          \n",
       "3  9/30/2014            221.338     ...      0           NaN          \n",
       "4  9/30/2014            261.636     ...      0            0.0         \n",
       "\n",
       "   fb_user_7  fb_user_8  fb_user_9   aon  aug_vbc_3g  jul_vbc_3g  jun_vbc_3g  \\\n",
       "0  1.0        1.0       NaN         968   30.4        0.0         101.20       \n",
       "1  1.0        1.0       NaN         1006  0.0         0.0         0.00         \n",
       "2 NaN        NaN         1.0        1103  0.0         0.0         4.17         \n",
       "3 NaN        NaN        NaN         2491  0.0         0.0         0.00         \n",
       "4 NaN        NaN        NaN         1526  0.0         0.0         0.00         \n",
       "\n",
       "   sep_vbc_3g  \n",
       "0  3.58        \n",
       "1  0.00        \n",
       "2  0.00        \n",
       "3  0.00        \n",
       "4  0.00        \n",
       "\n",
       "[5 rows x 226 columns]"
      ]
     },
     "execution_count": 2,
     "metadata": {},
     "output_type": "execute_result"
    }
   ],
   "source": [
    "usage_df = pd.read_csv('telecom_churn_data.csv')\n",
    "usage_df.head()"
   ]
  },
  {
   "cell_type": "code",
   "execution_count": 3,
   "metadata": {},
   "outputs": [
    {
     "data": {
      "text/html": [
       "<div>\n",
       "<style scoped>\n",
       "    .dataframe tbody tr th:only-of-type {\n",
       "        vertical-align: middle;\n",
       "    }\n",
       "\n",
       "    .dataframe tbody tr th {\n",
       "        vertical-align: top;\n",
       "    }\n",
       "\n",
       "    .dataframe thead th {\n",
       "        text-align: right;\n",
       "    }\n",
       "</style>\n",
       "<table border=\"1\" class=\"dataframe\">\n",
       "  <thead>\n",
       "    <tr style=\"text-align: right;\">\n",
       "      <th></th>\n",
       "      <th>Acronyms</th>\n",
       "      <th>Descriptions</th>\n",
       "    </tr>\n",
       "  </thead>\n",
       "  <tbody>\n",
       "    <tr>\n",
       "      <th>0</th>\n",
       "      <td>MOBILE_NUMBER</td>\n",
       "      <td>Customer phone number</td>\n",
       "    </tr>\n",
       "    <tr>\n",
       "      <th>1</th>\n",
       "      <td>CIRCLE_ID</td>\n",
       "      <td>Telecom circle area to which the customer belongs to</td>\n",
       "    </tr>\n",
       "    <tr>\n",
       "      <th>2</th>\n",
       "      <td>LOC</td>\n",
       "      <td>Local calls - within same telecom circle</td>\n",
       "    </tr>\n",
       "    <tr>\n",
       "      <th>3</th>\n",
       "      <td>STD</td>\n",
       "      <td>STD calls - outside the calling circle</td>\n",
       "    </tr>\n",
       "    <tr>\n",
       "      <th>4</th>\n",
       "      <td>IC</td>\n",
       "      <td>Incoming calls</td>\n",
       "    </tr>\n",
       "    <tr>\n",
       "      <th>5</th>\n",
       "      <td>OG</td>\n",
       "      <td>Outgoing calls</td>\n",
       "    </tr>\n",
       "    <tr>\n",
       "      <th>6</th>\n",
       "      <td>T2T</td>\n",
       "      <td>Operator T to T, i.e. within same operator (mobile to mobile)</td>\n",
       "    </tr>\n",
       "    <tr>\n",
       "      <th>7</th>\n",
       "      <td>T2M</td>\n",
       "      <td>Operator T to other operator mobile</td>\n",
       "    </tr>\n",
       "    <tr>\n",
       "      <th>8</th>\n",
       "      <td>T2O</td>\n",
       "      <td>Operator T to other operator fixed line</td>\n",
       "    </tr>\n",
       "    <tr>\n",
       "      <th>9</th>\n",
       "      <td>T2F</td>\n",
       "      <td>Operator T to fixed lines of T</td>\n",
       "    </tr>\n",
       "    <tr>\n",
       "      <th>10</th>\n",
       "      <td>T2C</td>\n",
       "      <td>Operator T to it’s own call center</td>\n",
       "    </tr>\n",
       "    <tr>\n",
       "      <th>11</th>\n",
       "      <td>ARPU</td>\n",
       "      <td>Average revenue per user</td>\n",
       "    </tr>\n",
       "    <tr>\n",
       "      <th>12</th>\n",
       "      <td>MOU</td>\n",
       "      <td>Minutes of usage - voice calls</td>\n",
       "    </tr>\n",
       "    <tr>\n",
       "      <th>13</th>\n",
       "      <td>AON</td>\n",
       "      <td>Age on network - number of days the customer is using the operator T network</td>\n",
       "    </tr>\n",
       "    <tr>\n",
       "      <th>14</th>\n",
       "      <td>ONNET</td>\n",
       "      <td>All kind of calls within the same operator network</td>\n",
       "    </tr>\n",
       "    <tr>\n",
       "      <th>15</th>\n",
       "      <td>OFFNET</td>\n",
       "      <td>All kind of calls outside the operator T network</td>\n",
       "    </tr>\n",
       "    <tr>\n",
       "      <th>16</th>\n",
       "      <td>ROAM</td>\n",
       "      <td>Indicates that customer is in roaming zone during the call</td>\n",
       "    </tr>\n",
       "    <tr>\n",
       "      <th>17</th>\n",
       "      <td>SPL</td>\n",
       "      <td>Special calls</td>\n",
       "    </tr>\n",
       "    <tr>\n",
       "      <th>18</th>\n",
       "      <td>ISD</td>\n",
       "      <td>ISD calls</td>\n",
       "    </tr>\n",
       "    <tr>\n",
       "      <th>19</th>\n",
       "      <td>RECH</td>\n",
       "      <td>Recharge</td>\n",
       "    </tr>\n",
       "    <tr>\n",
       "      <th>20</th>\n",
       "      <td>NUM</td>\n",
       "      <td>Number</td>\n",
       "    </tr>\n",
       "    <tr>\n",
       "      <th>21</th>\n",
       "      <td>AMT</td>\n",
       "      <td>Amount in local currency</td>\n",
       "    </tr>\n",
       "    <tr>\n",
       "      <th>22</th>\n",
       "      <td>MAX</td>\n",
       "      <td>Maximum</td>\n",
       "    </tr>\n",
       "    <tr>\n",
       "      <th>23</th>\n",
       "      <td>DATA</td>\n",
       "      <td>Mobile internet</td>\n",
       "    </tr>\n",
       "    <tr>\n",
       "      <th>24</th>\n",
       "      <td>3G</td>\n",
       "      <td>3G network</td>\n",
       "    </tr>\n",
       "    <tr>\n",
       "      <th>25</th>\n",
       "      <td>AV</td>\n",
       "      <td>Average</td>\n",
       "    </tr>\n",
       "    <tr>\n",
       "      <th>26</th>\n",
       "      <td>VOL</td>\n",
       "      <td>Mobile internet usage volume (in MB)</td>\n",
       "    </tr>\n",
       "    <tr>\n",
       "      <th>27</th>\n",
       "      <td>2G</td>\n",
       "      <td>2G network</td>\n",
       "    </tr>\n",
       "    <tr>\n",
       "      <th>28</th>\n",
       "      <td>PCK</td>\n",
       "      <td>Prepaid service schemes called - PACKS</td>\n",
       "    </tr>\n",
       "    <tr>\n",
       "      <th>29</th>\n",
       "      <td>NIGHT</td>\n",
       "      <td>Scheme to use during specific night hours only</td>\n",
       "    </tr>\n",
       "    <tr>\n",
       "      <th>30</th>\n",
       "      <td>MONTHLY</td>\n",
       "      <td>Service schemes with validity equivalent to a month</td>\n",
       "    </tr>\n",
       "    <tr>\n",
       "      <th>31</th>\n",
       "      <td>SACHET</td>\n",
       "      <td>Service schemes with validity smaller than a month</td>\n",
       "    </tr>\n",
       "    <tr>\n",
       "      <th>32</th>\n",
       "      <td>*.6</td>\n",
       "      <td>KPI for the month of June</td>\n",
       "    </tr>\n",
       "    <tr>\n",
       "      <th>33</th>\n",
       "      <td>*.7</td>\n",
       "      <td>KPI for the month of July</td>\n",
       "    </tr>\n",
       "    <tr>\n",
       "      <th>34</th>\n",
       "      <td>*.8</td>\n",
       "      <td>KPI for the month of August</td>\n",
       "    </tr>\n",
       "    <tr>\n",
       "      <th>35</th>\n",
       "      <td>*.9</td>\n",
       "      <td>KPI for the month of September</td>\n",
       "    </tr>\n",
       "    <tr>\n",
       "      <th>36</th>\n",
       "      <td>FB_USER</td>\n",
       "      <td>Service scheme to avail services of Facebook and similar social networking sites</td>\n",
       "    </tr>\n",
       "    <tr>\n",
       "      <th>37</th>\n",
       "      <td>VBC</td>\n",
       "      <td>Volume based cost - when no specific scheme is not purchased and paid as per usage</td>\n",
       "    </tr>\n",
       "  </tbody>\n",
       "</table>\n",
       "</div>"
      ],
      "text/plain": [
       "     Acronyms      \\\n",
       "0   MOBILE_NUMBER   \n",
       "1   CIRCLE_ID       \n",
       "2   LOC             \n",
       "3   STD             \n",
       "4   IC              \n",
       "5   OG              \n",
       "6   T2T             \n",
       "7   T2M             \n",
       "8   T2O             \n",
       "9   T2F             \n",
       "10  T2C             \n",
       "11  ARPU            \n",
       "12  MOU             \n",
       "13  AON             \n",
       "14  ONNET           \n",
       "15  OFFNET          \n",
       "16  ROAM            \n",
       "17  SPL             \n",
       "18  ISD             \n",
       "19  RECH            \n",
       "20  NUM             \n",
       "21  AMT             \n",
       "22  MAX             \n",
       "23  DATA            \n",
       "24  3G              \n",
       "25  AV              \n",
       "26  VOL             \n",
       "27  2G              \n",
       "28  PCK             \n",
       "29  NIGHT           \n",
       "30  MONTHLY         \n",
       "31  SACHET          \n",
       "32  *.6             \n",
       "33  *.7             \n",
       "34  *.8             \n",
       "35  *.9             \n",
       "36  FB_USER         \n",
       "37  VBC             \n",
       "\n",
       "                                                                          Descriptions  \n",
       "0   Customer phone number                                                               \n",
       "1   Telecom circle area to which the customer belongs to                                \n",
       "2   Local calls - within same telecom circle                                            \n",
       "3   STD calls - outside the calling circle                                              \n",
       "4   Incoming calls                                                                      \n",
       "5   Outgoing calls                                                                      \n",
       "6   Operator T to T, i.e. within same operator (mobile to mobile)                       \n",
       "7   Operator T to other operator mobile                                                 \n",
       "8   Operator T to other operator fixed line                                             \n",
       "9   Operator T to fixed lines of T                                                      \n",
       "10  Operator T to it’s own call center                                                  \n",
       "11  Average revenue per user                                                            \n",
       "12  Minutes of usage - voice calls                                                      \n",
       "13  Age on network - number of days the customer is using the operator T network        \n",
       "14  All kind of calls within the same operator network                                  \n",
       "15  All kind of calls outside the operator T network                                    \n",
       "16  Indicates that customer is in roaming zone during the call                          \n",
       "17  Special calls                                                                       \n",
       "18  ISD calls                                                                           \n",
       "19  Recharge                                                                            \n",
       "20  Number                                                                              \n",
       "21  Amount in local currency                                                            \n",
       "22  Maximum                                                                             \n",
       "23  Mobile internet                                                                     \n",
       "24  3G network                                                                          \n",
       "25  Average                                                                             \n",
       "26  Mobile internet usage volume (in MB)                                                \n",
       "27  2G network                                                                          \n",
       "28  Prepaid service schemes called - PACKS                                              \n",
       "29  Scheme to use during specific night hours only                                      \n",
       "30  Service schemes with validity equivalent to a month                                 \n",
       "31  Service schemes with validity smaller than a month                                  \n",
       "32  KPI for the month of June                                                           \n",
       "33  KPI for the month of July                                                           \n",
       "34  KPI for the month of August                                                         \n",
       "35  KPI for the month of September                                                      \n",
       "36  Service scheme to avail services of Facebook and similar social networking sites    \n",
       "37  Volume based cost - when no specific scheme is not purchased and paid as per usage  "
      ]
     },
     "execution_count": 3,
     "metadata": {},
     "output_type": "execute_result"
    }
   ],
   "source": [
    "## Data Dictionary\n",
    "metadata = pd.read_excel('Data+Dictionary-+Telecom+Churn+Case+Study.xlsx')\n",
    "metadata"
   ]
  },
  {
   "cell_type": "markdown",
   "metadata": {},
   "source": [
    "> ### <span style=\"color:#008abc\">Inspect the data</span>"
   ]
  },
  {
   "cell_type": "code",
   "execution_count": 4,
   "metadata": {},
   "outputs": [
    {
     "data": {
      "text/plain": [
       "(99999, 226)"
      ]
     },
     "execution_count": 4,
     "metadata": {},
     "output_type": "execute_result"
    }
   ],
   "source": [
    "usage_df.shape"
   ]
  },
  {
   "cell_type": "code",
   "execution_count": 183,
   "metadata": {},
   "outputs": [
    {
     "name": "stdout",
     "output_type": "stream",
     "text": [
      "<class 'pandas.core.frame.DataFrame'>\n",
      "RangeIndex: 99999 entries, 0 to 99998\n",
      "Columns: 226 entries, mobile_number to sep_vbc_3g\n",
      "dtypes: float64(179), int64(35), object(12)\n",
      "memory usage: 172.4+ MB\n"
     ]
    }
   ],
   "source": [
    "usage_df.info()"
   ]
  },
  {
   "cell_type": "code",
   "execution_count": 5,
   "metadata": {},
   "outputs": [
    {
     "data": {
      "text/html": [
       "<div>\n",
       "<style scoped>\n",
       "    .dataframe tbody tr th:only-of-type {\n",
       "        vertical-align: middle;\n",
       "    }\n",
       "\n",
       "    .dataframe tbody tr th {\n",
       "        vertical-align: top;\n",
       "    }\n",
       "\n",
       "    .dataframe thead th {\n",
       "        text-align: right;\n",
       "    }\n",
       "</style>\n",
       "<table border=\"1\" class=\"dataframe\">\n",
       "  <thead>\n",
       "    <tr style=\"text-align: right;\">\n",
       "      <th></th>\n",
       "      <th>mobile_number</th>\n",
       "      <th>circle_id</th>\n",
       "      <th>loc_og_t2o_mou</th>\n",
       "      <th>std_og_t2o_mou</th>\n",
       "      <th>loc_ic_t2o_mou</th>\n",
       "      <th>arpu_6</th>\n",
       "      <th>arpu_7</th>\n",
       "      <th>arpu_8</th>\n",
       "      <th>arpu_9</th>\n",
       "      <th>onnet_mou_6</th>\n",
       "      <th>...</th>\n",
       "      <th>sachet_3g_9</th>\n",
       "      <th>fb_user_6</th>\n",
       "      <th>fb_user_7</th>\n",
       "      <th>fb_user_8</th>\n",
       "      <th>fb_user_9</th>\n",
       "      <th>aon</th>\n",
       "      <th>aug_vbc_3g</th>\n",
       "      <th>jul_vbc_3g</th>\n",
       "      <th>jun_vbc_3g</th>\n",
       "      <th>sep_vbc_3g</th>\n",
       "    </tr>\n",
       "  </thead>\n",
       "  <tbody>\n",
       "    <tr>\n",
       "      <th>count</th>\n",
       "      <td>9.999900e+04</td>\n",
       "      <td>99999.0</td>\n",
       "      <td>98981.0</td>\n",
       "      <td>98981.0</td>\n",
       "      <td>98981.0</td>\n",
       "      <td>99999.000000</td>\n",
       "      <td>99999.000000</td>\n",
       "      <td>99999.000000</td>\n",
       "      <td>99999.000000</td>\n",
       "      <td>96062.000000</td>\n",
       "      <td>...</td>\n",
       "      <td>99999.000000</td>\n",
       "      <td>25153.000000</td>\n",
       "      <td>25571.000000</td>\n",
       "      <td>26339.000000</td>\n",
       "      <td>25922.000000</td>\n",
       "      <td>99999.000000</td>\n",
       "      <td>99999.000000</td>\n",
       "      <td>99999.000000</td>\n",
       "      <td>99999.000000</td>\n",
       "      <td>99999.000000</td>\n",
       "    </tr>\n",
       "    <tr>\n",
       "      <th>mean</th>\n",
       "      <td>7.001207e+09</td>\n",
       "      <td>109.0</td>\n",
       "      <td>0.0</td>\n",
       "      <td>0.0</td>\n",
       "      <td>0.0</td>\n",
       "      <td>282.987358</td>\n",
       "      <td>278.536648</td>\n",
       "      <td>279.154731</td>\n",
       "      <td>261.645069</td>\n",
       "      <td>132.395875</td>\n",
       "      <td>...</td>\n",
       "      <td>0.084581</td>\n",
       "      <td>0.914404</td>\n",
       "      <td>0.908764</td>\n",
       "      <td>0.890808</td>\n",
       "      <td>0.860968</td>\n",
       "      <td>1219.854749</td>\n",
       "      <td>68.170248</td>\n",
       "      <td>66.839062</td>\n",
       "      <td>60.021204</td>\n",
       "      <td>3.299373</td>\n",
       "    </tr>\n",
       "    <tr>\n",
       "      <th>std</th>\n",
       "      <td>6.956694e+05</td>\n",
       "      <td>0.0</td>\n",
       "      <td>0.0</td>\n",
       "      <td>0.0</td>\n",
       "      <td>0.0</td>\n",
       "      <td>328.439770</td>\n",
       "      <td>338.156291</td>\n",
       "      <td>344.474791</td>\n",
       "      <td>341.998630</td>\n",
       "      <td>297.207406</td>\n",
       "      <td>...</td>\n",
       "      <td>0.650457</td>\n",
       "      <td>0.279772</td>\n",
       "      <td>0.287950</td>\n",
       "      <td>0.311885</td>\n",
       "      <td>0.345987</td>\n",
       "      <td>954.733842</td>\n",
       "      <td>267.580450</td>\n",
       "      <td>271.201856</td>\n",
       "      <td>253.938223</td>\n",
       "      <td>32.408353</td>\n",
       "    </tr>\n",
       "    <tr>\n",
       "      <th>min</th>\n",
       "      <td>7.000000e+09</td>\n",
       "      <td>109.0</td>\n",
       "      <td>0.0</td>\n",
       "      <td>0.0</td>\n",
       "      <td>0.0</td>\n",
       "      <td>-2258.709000</td>\n",
       "      <td>-2014.045000</td>\n",
       "      <td>-945.808000</td>\n",
       "      <td>-1899.505000</td>\n",
       "      <td>0.000000</td>\n",
       "      <td>...</td>\n",
       "      <td>0.000000</td>\n",
       "      <td>0.000000</td>\n",
       "      <td>0.000000</td>\n",
       "      <td>0.000000</td>\n",
       "      <td>0.000000</td>\n",
       "      <td>180.000000</td>\n",
       "      <td>0.000000</td>\n",
       "      <td>0.000000</td>\n",
       "      <td>0.000000</td>\n",
       "      <td>0.000000</td>\n",
       "    </tr>\n",
       "    <tr>\n",
       "      <th>25%</th>\n",
       "      <td>7.000606e+09</td>\n",
       "      <td>109.0</td>\n",
       "      <td>0.0</td>\n",
       "      <td>0.0</td>\n",
       "      <td>0.0</td>\n",
       "      <td>93.411500</td>\n",
       "      <td>86.980500</td>\n",
       "      <td>84.126000</td>\n",
       "      <td>62.685000</td>\n",
       "      <td>7.380000</td>\n",
       "      <td>...</td>\n",
       "      <td>0.000000</td>\n",
       "      <td>1.000000</td>\n",
       "      <td>1.000000</td>\n",
       "      <td>1.000000</td>\n",
       "      <td>1.000000</td>\n",
       "      <td>467.000000</td>\n",
       "      <td>0.000000</td>\n",
       "      <td>0.000000</td>\n",
       "      <td>0.000000</td>\n",
       "      <td>0.000000</td>\n",
       "    </tr>\n",
       "    <tr>\n",
       "      <th>50%</th>\n",
       "      <td>7.001205e+09</td>\n",
       "      <td>109.0</td>\n",
       "      <td>0.0</td>\n",
       "      <td>0.0</td>\n",
       "      <td>0.0</td>\n",
       "      <td>197.704000</td>\n",
       "      <td>191.640000</td>\n",
       "      <td>192.080000</td>\n",
       "      <td>176.849000</td>\n",
       "      <td>34.310000</td>\n",
       "      <td>...</td>\n",
       "      <td>0.000000</td>\n",
       "      <td>1.000000</td>\n",
       "      <td>1.000000</td>\n",
       "      <td>1.000000</td>\n",
       "      <td>1.000000</td>\n",
       "      <td>863.000000</td>\n",
       "      <td>0.000000</td>\n",
       "      <td>0.000000</td>\n",
       "      <td>0.000000</td>\n",
       "      <td>0.000000</td>\n",
       "    </tr>\n",
       "    <tr>\n",
       "      <th>75%</th>\n",
       "      <td>7.001812e+09</td>\n",
       "      <td>109.0</td>\n",
       "      <td>0.0</td>\n",
       "      <td>0.0</td>\n",
       "      <td>0.0</td>\n",
       "      <td>371.060000</td>\n",
       "      <td>365.344500</td>\n",
       "      <td>369.370500</td>\n",
       "      <td>353.466500</td>\n",
       "      <td>118.740000</td>\n",
       "      <td>...</td>\n",
       "      <td>0.000000</td>\n",
       "      <td>1.000000</td>\n",
       "      <td>1.000000</td>\n",
       "      <td>1.000000</td>\n",
       "      <td>1.000000</td>\n",
       "      <td>1807.500000</td>\n",
       "      <td>0.000000</td>\n",
       "      <td>0.000000</td>\n",
       "      <td>0.000000</td>\n",
       "      <td>0.000000</td>\n",
       "    </tr>\n",
       "    <tr>\n",
       "      <th>max</th>\n",
       "      <td>7.002411e+09</td>\n",
       "      <td>109.0</td>\n",
       "      <td>0.0</td>\n",
       "      <td>0.0</td>\n",
       "      <td>0.0</td>\n",
       "      <td>27731.088000</td>\n",
       "      <td>35145.834000</td>\n",
       "      <td>33543.624000</td>\n",
       "      <td>38805.617000</td>\n",
       "      <td>7376.710000</td>\n",
       "      <td>...</td>\n",
       "      <td>49.000000</td>\n",
       "      <td>1.000000</td>\n",
       "      <td>1.000000</td>\n",
       "      <td>1.000000</td>\n",
       "      <td>1.000000</td>\n",
       "      <td>4337.000000</td>\n",
       "      <td>12916.220000</td>\n",
       "      <td>9165.600000</td>\n",
       "      <td>11166.210000</td>\n",
       "      <td>2618.570000</td>\n",
       "    </tr>\n",
       "  </tbody>\n",
       "</table>\n",
       "<p>8 rows × 214 columns</p>\n",
       "</div>"
      ],
      "text/plain": [
       "       mobile_number  circle_id  loc_og_t2o_mou  std_og_t2o_mou  \\\n",
       "count  9.999900e+04   99999.0    98981.0         98981.0          \n",
       "mean   7.001207e+09   109.0      0.0             0.0              \n",
       "std    6.956694e+05   0.0        0.0             0.0              \n",
       "min    7.000000e+09   109.0      0.0             0.0              \n",
       "25%    7.000606e+09   109.0      0.0             0.0              \n",
       "50%    7.001205e+09   109.0      0.0             0.0              \n",
       "75%    7.001812e+09   109.0      0.0             0.0              \n",
       "max    7.002411e+09   109.0      0.0             0.0              \n",
       "\n",
       "       loc_ic_t2o_mou        arpu_6        arpu_7        arpu_8        arpu_9  \\\n",
       "count  98981.0         99999.000000  99999.000000  99999.000000  99999.000000   \n",
       "mean   0.0             282.987358    278.536648    279.154731    261.645069     \n",
       "std    0.0             328.439770    338.156291    344.474791    341.998630     \n",
       "min    0.0            -2258.709000  -2014.045000  -945.808000   -1899.505000    \n",
       "25%    0.0             93.411500     86.980500     84.126000     62.685000      \n",
       "50%    0.0             197.704000    191.640000    192.080000    176.849000     \n",
       "75%    0.0             371.060000    365.344500    369.370500    353.466500     \n",
       "max    0.0             27731.088000  35145.834000  33543.624000  38805.617000   \n",
       "\n",
       "        onnet_mou_6      ...        sachet_3g_9     fb_user_6     fb_user_7  \\\n",
       "count  96062.000000      ...       99999.000000  25153.000000  25571.000000   \n",
       "mean   132.395875        ...       0.084581      0.914404      0.908764       \n",
       "std    297.207406        ...       0.650457      0.279772      0.287950       \n",
       "min    0.000000          ...       0.000000      0.000000      0.000000       \n",
       "25%    7.380000          ...       0.000000      1.000000      1.000000       \n",
       "50%    34.310000         ...       0.000000      1.000000      1.000000       \n",
       "75%    118.740000        ...       0.000000      1.000000      1.000000       \n",
       "max    7376.710000       ...       49.000000     1.000000      1.000000       \n",
       "\n",
       "          fb_user_8     fb_user_9           aon    aug_vbc_3g    jul_vbc_3g  \\\n",
       "count  26339.000000  25922.000000  99999.000000  99999.000000  99999.000000   \n",
       "mean   0.890808      0.860968      1219.854749   68.170248     66.839062      \n",
       "std    0.311885      0.345987      954.733842    267.580450    271.201856     \n",
       "min    0.000000      0.000000      180.000000    0.000000      0.000000       \n",
       "25%    1.000000      1.000000      467.000000    0.000000      0.000000       \n",
       "50%    1.000000      1.000000      863.000000    0.000000      0.000000       \n",
       "75%    1.000000      1.000000      1807.500000   0.000000      0.000000       \n",
       "max    1.000000      1.000000      4337.000000   12916.220000  9165.600000    \n",
       "\n",
       "         jun_vbc_3g    sep_vbc_3g  \n",
       "count  99999.000000  99999.000000  \n",
       "mean   60.021204     3.299373      \n",
       "std    253.938223    32.408353     \n",
       "min    0.000000      0.000000      \n",
       "25%    0.000000      0.000000      \n",
       "50%    0.000000      0.000000      \n",
       "75%    0.000000      0.000000      \n",
       "max    11166.210000  2618.570000   \n",
       "\n",
       "[8 rows x 214 columns]"
      ]
     },
     "execution_count": 5,
     "metadata": {},
     "output_type": "execute_result"
    }
   ],
   "source": [
    "usage_df.describe()"
   ]
  },
  {
   "cell_type": "code",
   "execution_count": 6,
   "metadata": {},
   "outputs": [],
   "source": [
    "def Info(text):\n",
    "    from IPython.display import display, HTML\n",
    "    data=HTML('''<div class=\"alert alert-block alert-info\"><span style=\"color:black\">'''+text+'''</span></div>''')\n",
    "    display(data)"
   ]
  },
  {
   "cell_type": "markdown",
   "metadata": {},
   "source": [
    "___"
   ]
  },
  {
   "cell_type": "markdown",
   "metadata": {},
   "source": [
    "## <span style=\"color:#008abc\"><b> Data Preparation & Cleaning</b></span>"
   ]
  },
  {
   "cell_type": "markdown",
   "metadata": {},
   "source": [
    "## <span style=\"color:#008abc\"><b>Filter high-value customers</b></span>"
   ]
  },
  {
   "cell_type": "markdown",
   "metadata": {},
   "source": [
    "As per the requireemnt, the churn needs to be predicted only for the high-value customers, i.e, Those who have recharged with an amount more than or equal to X, where X is the 70th percentile of the average recharge amount in the first two months (the good phase)."
   ]
  },
  {
   "cell_type": "code",
   "execution_count": 7,
   "metadata": {},
   "outputs": [
    {
     "name": "stdout",
     "output_type": "stream",
     "text": [
      "['total_rech_num_6', 'total_rech_num_7', 'total_rech_num_8', 'total_rech_num_9', 'total_rech_amt_6', 'total_rech_amt_7', 'total_rech_amt_8', 'total_rech_amt_9', 'max_rech_amt_6', 'max_rech_amt_7', 'max_rech_amt_8', 'max_rech_amt_9', 'date_of_last_rech_6', 'date_of_last_rech_7', 'date_of_last_rech_8', 'date_of_last_rech_9', 'date_of_last_rech_data_6', 'date_of_last_rech_data_7', 'date_of_last_rech_data_8', 'date_of_last_rech_data_9', 'total_rech_data_6', 'total_rech_data_7', 'total_rech_data_8', 'total_rech_data_9', 'max_rech_data_6', 'max_rech_data_7', 'max_rech_data_8', 'max_rech_data_9', 'count_rech_2g_6', 'count_rech_2g_7', 'count_rech_2g_8', 'count_rech_2g_9', 'count_rech_3g_6', 'count_rech_3g_7', 'count_rech_3g_8', 'count_rech_3g_9', 'av_rech_amt_data_6', 'av_rech_amt_data_7', 'av_rech_amt_data_8', 'av_rech_amt_data_9']\n"
     ]
    },
    {
     "data": {
      "text/html": [
       "<div class=\"alert alert-block alert-info\"><span style=\"color:black\">Let's compute the average recharge amount for the 6th and 7th month. For that we will compute the total data recharge and then use it with the actual total recharge for that month</span></div>"
      ],
      "text/plain": [
       "<IPython.core.display.HTML object>"
      ]
     },
     "metadata": {},
     "output_type": "display_data"
    }
   ],
   "source": [
    "## Fecth columns containing recharge data\n",
    "recharge_columns = [col for col in usage_df.columns if 'rech' in col]\n",
    "print(recharge_columns)\n",
    "text=\"Let's compute the average recharge amount for the 6th and 7th month. For that we will compute the total data recharge and then use it with the actual total recharge for that month\"\n",
    "Info(text)"
   ]
  },
  {
   "cell_type": "code",
   "execution_count": 8,
   "metadata": {},
   "outputs": [
    {
     "data": {
      "text/html": [
       "<div class=\"alert alert-block alert-info\"><span style=\"color:black\"><b>Inference:</b> The 70th percentile of average spend for the 6th and 7th month is <b>478.0</b>, and there are <b>30001</b> high value customers, who have recharged more than 478.0</span></div>"
      ],
      "text/plain": [
       "<IPython.core.display.HTML object>"
      ]
     },
     "metadata": {},
     "output_type": "display_data"
    }
   ],
   "source": [
    "## Compute total recharge amount for the 6th month\n",
    "\n",
    "total_data_recharge_june = usage_df.total_rech_data_6.fillna(0)*usage_df.av_rech_amt_data_6.fillna(0)\n",
    "total_recharge_june = usage_df.total_rech_amt_6.fillna(0) + total_data_recharge_june.fillna(0)\n",
    "\n",
    "## Compute total recharge amount for the 7th month\n",
    "total_data_recharge_july = usage_df.total_rech_data_7.fillna(0)*usage_df.av_rech_amt_data_7.fillna(0)\n",
    "total_recharge_july = usage_df.total_rech_amt_7.fillna(0) + total_data_recharge_july.fillna(0)\n",
    "\n",
    "## Average recharge amount \n",
    "avg_recharge = (total_recharge_june+total_recharge_july)/2\n",
    "\n",
    "## 70th percentile of average\n",
    "avg_rech_70_perc = np.percentile(avg_recharge, 70.0)\n",
    "\n",
    "## Records where recharge is greater than 70th percentile\n",
    "high_val_cust_df = usage_df[avg_recharge>=avg_rech_70_perc]\n",
    "high_val_cust_df.shape\n",
    "\n",
    "text = \"<b>Inference:</b> The 70th percentile of average spend for the 6th and 7th month is <b>%s</b>, and there are <b>%s</b> high value customers, who have recharged more than %s\"%(avg_rech_70_perc,high_val_cust_df.shape[0],avg_rech_70_perc)\n",
    "Info(text)"
   ]
  },
  {
   "cell_type": "markdown",
   "metadata": {},
   "source": [
    "___"
   ]
  },
  {
   "cell_type": "markdown",
   "metadata": {},
   "source": [
    "## <span style=\"color:#008abc\"><b>Tag Churners</b></span>"
   ]
  },
  {
   "cell_type": "markdown",
   "metadata": {},
   "source": [
    "The customers need to be tagged as (churn=1, else 0) based on the fourth month as follows, based ont he requirement:\n",
    "Those who have not made any calls (either incoming or outgoing) AND have not used mobile internet even once in the churn phase. The attributes that need to be used to tag churners are:\n",
    "\n",
    "- total_ic_mou_9\n",
    "\n",
    "- total_og_mou_9\n",
    "\n",
    "- vol_2g_mb_9\n",
    "\n",
    "- vol_3g_mb_9\n",
    "\n",
    "After tagging churners, all the attributes corresponding to the churn phase (all attributes having ‘ _9’, etc. in their names) has to be removed."
   ]
  },
  {
   "cell_type": "code",
   "execution_count": 9,
   "metadata": {},
   "outputs": [
    {
     "data": {
      "text/plain": [
       "total_ic_mou_9    0\n",
       "total_og_mou_9    0\n",
       "vol_2g_mb_9       0\n",
       "vol_3g_mb_9       0\n",
       "dtype: int64"
      ]
     },
     "execution_count": 9,
     "metadata": {},
     "output_type": "execute_result"
    }
   ],
   "source": [
    "## Let's check the 4 columns that are required to tag the customer as churn\n",
    "high_val_cust_df[['total_ic_mou_9','total_og_mou_9','vol_2g_mb_9','vol_3g_mb_9']].isnull().sum()"
   ]
  },
  {
   "cell_type": "markdown",
   "metadata": {},
   "source": [
    "> <div class=\"alert alert-block alert-info\">\n",
    "    <span style=\"color:black\"><b>Inference:</b> There are no NULL values in any of the 4 columns. Let's proceed to tag the customers.\n",
    "</div>"
   ]
  },
  {
   "cell_type": "code",
   "execution_count": 10,
   "metadata": {},
   "outputs": [
    {
     "data": {
      "text/html": [
       "<div>\n",
       "<style scoped>\n",
       "    .dataframe tbody tr th:only-of-type {\n",
       "        vertical-align: middle;\n",
       "    }\n",
       "\n",
       "    .dataframe tbody tr th {\n",
       "        vertical-align: top;\n",
       "    }\n",
       "\n",
       "    .dataframe thead th {\n",
       "        text-align: right;\n",
       "    }\n",
       "</style>\n",
       "<table border=\"1\" class=\"dataframe\">\n",
       "  <thead>\n",
       "    <tr style=\"text-align: right;\">\n",
       "      <th></th>\n",
       "      <th>churn</th>\n",
       "      <th>total_ic_mou_9</th>\n",
       "      <th>total_og_mou_9</th>\n",
       "      <th>vol_2g_mb_9</th>\n",
       "      <th>vol_3g_mb_9</th>\n",
       "    </tr>\n",
       "  </thead>\n",
       "  <tbody>\n",
       "    <tr>\n",
       "      <th>0</th>\n",
       "      <td>1</td>\n",
       "      <td>0.00</td>\n",
       "      <td>0.00</td>\n",
       "      <td>0.00</td>\n",
       "      <td>0.00</td>\n",
       "    </tr>\n",
       "    <tr>\n",
       "      <th>7</th>\n",
       "      <td>1</td>\n",
       "      <td>0.00</td>\n",
       "      <td>0.00</td>\n",
       "      <td>0.00</td>\n",
       "      <td>0.00</td>\n",
       "    </tr>\n",
       "    <tr>\n",
       "      <th>8</th>\n",
       "      <td>0</td>\n",
       "      <td>34.91</td>\n",
       "      <td>142.18</td>\n",
       "      <td>0.00</td>\n",
       "      <td>0.00</td>\n",
       "    </tr>\n",
       "    <tr>\n",
       "      <th>21</th>\n",
       "      <td>0</td>\n",
       "      <td>252.61</td>\n",
       "      <td>1031.53</td>\n",
       "      <td>0.00</td>\n",
       "      <td>0.00</td>\n",
       "    </tr>\n",
       "    <tr>\n",
       "      <th>23</th>\n",
       "      <td>0</td>\n",
       "      <td>127.48</td>\n",
       "      <td>127.63</td>\n",
       "      <td>13.93</td>\n",
       "      <td>314.74</td>\n",
       "    </tr>\n",
       "  </tbody>\n",
       "</table>\n",
       "</div>"
      ],
      "text/plain": [
       "    churn  total_ic_mou_9  total_og_mou_9  vol_2g_mb_9  vol_3g_mb_9\n",
       "0   1      0.00            0.00            0.00         0.00       \n",
       "7   1      0.00            0.00            0.00         0.00       \n",
       "8   0      34.91           142.18          0.00         0.00       \n",
       "21  0      252.61          1031.53         0.00         0.00       \n",
       "23  0      127.48          127.63          13.93        314.74     "
      ]
     },
     "execution_count": 10,
     "metadata": {},
     "output_type": "execute_result"
    }
   ],
   "source": [
    "## Tag customers as churn when all the 4 columns are 0\n",
    "high_val_cust_df['churn'] = np.where(high_val_cust_df[['total_ic_mou_9','total_og_mou_9','vol_2g_mb_9','vol_3g_mb_9']].sum(1)==0,1,0)\n",
    "high_val_cust_df[['churn','total_ic_mou_9','total_og_mou_9','vol_2g_mb_9','vol_3g_mb_9']].head()"
   ]
  },
  {
   "cell_type": "code",
   "execution_count": 11,
   "metadata": {},
   "outputs": [],
   "source": [
    "## Rename columns containing month names to number format\n",
    "high_val_cust_df.rename(columns={'jun_vbc_3g': 'vbc_3g_6', 'jul_vbc_3g': 'vbc_3g_7', 'aug_vbc_3g': 'vbc_3g_8', 'sep_vbc_3g': 'vbc_3g_9'}, inplace=True)"
   ]
  },
  {
   "cell_type": "code",
   "execution_count": 12,
   "metadata": {},
   "outputs": [
    {
     "data": {
      "text/plain": [
       "(30001, 172)"
      ]
     },
     "execution_count": 12,
     "metadata": {},
     "output_type": "execute_result"
    }
   ],
   "source": [
    "## Remove columns pertaining to churn - 9th month data\n",
    "cols_to_drop = [ col for col in high_val_cust_df.columns if '_9' in col]\n",
    "high_val_cust_df.drop(cols_to_drop,1,inplace=True)\n",
    "high_val_cust_df.shape"
   ]
  },
  {
   "cell_type": "markdown",
   "metadata": {},
   "source": [
    "___ "
   ]
  },
  {
   "cell_type": "markdown",
   "metadata": {},
   "source": [
    "> ### <span style=\"color:#008abc\">Handle missing values </span>"
   ]
  },
  {
   "cell_type": "code",
   "execution_count": 13,
   "metadata": {
    "scrolled": true
   },
   "outputs": [
    {
     "data": {
      "text/plain": [
       "Index(['fb_user_8', 'arpu_3g_8', 'date_of_last_rech_data_8',\n",
       "       'total_rech_data_8', 'max_rech_data_8', 'count_rech_2g_8',\n",
       "       'av_rech_amt_data_8', 'count_rech_3g_8', 'arpu_2g_8',\n",
       "       'night_pck_user_8', 'arpu_2g_6', 'count_rech_3g_6', 'fb_user_6',\n",
       "       'total_rech_data_6', 'max_rech_data_6', 'count_rech_2g_6',\n",
       "       'night_pck_user_6', 'date_of_last_rech_data_6', 'av_rech_amt_data_6',\n",
       "       'arpu_3g_6', 'count_rech_3g_7', 'arpu_2g_7', 'fb_user_7',\n",
       "       'night_pck_user_7', 'max_rech_data_7', 'av_rech_amt_data_7',\n",
       "       'total_rech_data_7', 'arpu_3g_7', 'date_of_last_rech_data_7',\n",
       "       'count_rech_2g_7'],\n",
       "      dtype='object')"
      ]
     },
     "execution_count": 13,
     "metadata": {},
     "output_type": "execute_result"
    }
   ],
   "source": [
    "## Let's look at the missing value percentages and drop columns with more than 40% null values.\n",
    "mis_val_perc = round((high_val_cust_df.isnull().sum()/len(high_val_cust_df))*100,2)\n",
    "cols_to_drop = mis_val_perc.loc[(mis_val_perc>40)].sort_values(ascending=False).index\n",
    "cols_to_drop"
   ]
  },
  {
   "cell_type": "markdown",
   "metadata": {},
   "source": [
    "> <div class=\"alert alert-block alert-info\">\n",
    "    <span style=\"color:black\"><b>Inference:</b> We will drop the columns having more than 40% of missing values, as imputing them will lead to creation of bias.\n",
    "</div>"
   ]
  },
  {
   "cell_type": "code",
   "execution_count": 14,
   "metadata": {},
   "outputs": [
    {
     "data": {
      "text/plain": [
       "(30001, 142)"
      ]
     },
     "execution_count": 14,
     "metadata": {},
     "output_type": "execute_result"
    }
   ],
   "source": [
    "high_val_cust_df.drop(cols_to_drop,1,inplace=True)\n",
    "high_val_cust_df.shape"
   ]
  },
  {
   "cell_type": "code",
   "execution_count": 15,
   "metadata": {},
   "outputs": [
    {
     "name": "stdout",
     "output_type": "stream",
     "text": [
      "Index(['loc_og_t2f_mou_8', 'std_ic_t2f_mou_8', 'std_ic_t2m_mou_8',\n",
      "       'isd_og_mou_8', 'std_ic_t2t_mou_8', 'loc_og_t2c_mou_8', 'loc_ic_mou_8',\n",
      "       'loc_og_mou_8', 'loc_ic_t2f_mou_8', 'std_og_t2t_mou_8',\n",
      "       'loc_ic_t2m_mou_8', 'std_og_t2m_mou_8', 'loc_ic_t2t_mou_8',\n",
      "       'std_og_t2f_mou_8', 'og_others_8', 'std_og_t2c_mou_8', 'spl_og_mou_8',\n",
      "       'loc_og_t2m_mou_8', 'std_og_mou_8', 'spl_ic_mou_8', 'roam_ic_mou_8',\n",
      "       'loc_og_t2t_mou_8', 'std_ic_t2o_mou_8', 'ic_others_8', 'onnet_mou_8',\n",
      "       'roam_og_mou_8', 'isd_ic_mou_8', 'std_ic_mou_8', 'offnet_mou_8',\n",
      "       'date_of_last_rech_8', 'std_og_t2t_mou_6', 'loc_og_t2f_mou_6',\n",
      "       'std_og_t2m_mou_6', 'roam_ic_mou_6', 'roam_og_mou_6',\n",
      "       'std_og_t2f_mou_6', 'loc_og_mou_6', 'offnet_mou_6', 'std_og_t2c_mou_6',\n",
      "       'loc_og_t2t_mou_6', 'loc_og_t2c_mou_6', 'std_og_mou_6', 'onnet_mou_6',\n",
      "       'loc_og_t2m_mou_6', 'isd_og_mou_6', 'spl_og_mou_6', 'loc_ic_t2m_mou_6',\n",
      "       'std_ic_t2m_mou_6', 'std_ic_t2o_mou_6', 'std_ic_t2t_mou_6',\n",
      "       'std_ic_mou_6', 'loc_ic_mou_6', 'loc_ic_t2f_mou_6', 'std_ic_t2f_mou_6',\n",
      "       'spl_ic_mou_6', 'isd_ic_mou_6', 'loc_ic_t2t_mou_6', 'og_others_6',\n",
      "       'ic_others_6', 'roam_ic_mou_7', 'spl_ic_mou_7', 'isd_ic_mou_7',\n",
      "       'roam_og_mou_7', 'std_ic_mou_7', 'offnet_mou_7', 'loc_og_t2t_mou_7',\n",
      "       'std_ic_t2o_mou_7', 'ic_others_7', 'onnet_mou_7', 'loc_og_t2m_mou_7',\n",
      "       'std_ic_t2f_mou_7', 'loc_og_t2f_mou_7', 'isd_og_mou_7',\n",
      "       'loc_ic_t2m_mou_7', 'spl_og_mou_7', 'std_og_mou_7', 'og_others_7',\n",
      "       'std_og_t2c_mou_7', 'std_ic_t2m_mou_7', 'std_og_t2f_mou_7',\n",
      "       'loc_ic_t2t_mou_7', 'std_og_t2m_mou_7', 'loc_ic_t2f_mou_7',\n",
      "       'std_og_t2t_mou_7', 'loc_ic_mou_7', 'loc_og_mou_7', 'std_ic_t2t_mou_7',\n",
      "       'loc_og_t2c_mou_7', 'loc_ic_t2o_mou', 'std_og_t2o_mou',\n",
      "       'loc_og_t2o_mou', 'last_date_of_month_8', 'date_of_last_rech_7',\n",
      "       'date_of_last_rech_6', 'last_date_of_month_7'],\n",
      "      dtype='object')\n"
     ]
    },
    {
     "data": {
      "text/plain": [
       "array([3.91, 1.94, 1.82, 1.79, 0.75, 0.55, 0.33, 0.24, 0.09])"
      ]
     },
     "execution_count": 15,
     "metadata": {},
     "output_type": "execute_result"
    }
   ],
   "source": [
    "mis_val_perc = round((high_val_cust_df.isnull().sum()/len(high_val_cust_df))*100,2)\n",
    "cols_to_drop = mis_val_perc.loc[(mis_val_perc<40) & (mis_val_perc>0)].sort_values(ascending=False)\n",
    "print(cols_to_drop.index)\n",
    "cols_to_drop.unique()"
   ]
  },
  {
   "cell_type": "markdown",
   "metadata": {},
   "source": [
    "> <div class=\"alert alert-block alert-info\">\n",
    "    <span style=\"color:black\"><b>Inference:</b> Most of the columns have less than 4% of missing values. As most of the columns are related to usage and price(excluding date of last recharge columns), we can replace the missing values with 0. As imputing them would be incorrect in the current scenario.\n",
    "</div>\n",
    "\n",
    "___"
   ]
  },
  {
   "cell_type": "code",
   "execution_count": 16,
   "metadata": {},
   "outputs": [],
   "source": [
    "## Replace Nan's in price related columns with 0\n",
    "price_cols = [ col for col in cols_to_drop.index if 'date' not in col ]\n",
    "high_val_cust_df[price_cols]=high_val_cust_df[price_cols].fillna(0)"
   ]
  },
  {
   "cell_type": "code",
   "execution_count": 17,
   "metadata": {},
   "outputs": [
    {
     "data": {
      "text/plain": [
       "date_of_last_rech_8     1.94\n",
       "last_date_of_month_8    0.55\n",
       "date_of_last_rech_7     0.33\n",
       "date_of_last_rech_6     0.24\n",
       "last_date_of_month_7    0.09\n",
       "dtype: float64"
      ]
     },
     "execution_count": 17,
     "metadata": {},
     "output_type": "execute_result"
    }
   ],
   "source": [
    "mis_val_perc = round((high_val_cust_df.isnull().sum()/len(high_val_cust_df))*100,2)\n",
    "cols_to_drop = mis_val_perc.loc[(mis_val_perc<40) & (mis_val_perc>0)].sort_values(ascending=False)\n",
    "cols_to_drop"
   ]
  },
  {
   "cell_type": "code",
   "execution_count": 18,
   "metadata": {},
   "outputs": [],
   "source": [
    "## Replace Nan's with correct values\n",
    "high_val_cust_df['last_date_of_month_8']=high_val_cust_df['last_date_of_month_8'].fillna('8/31/2014')\n",
    "high_val_cust_df['last_date_of_month_7']=high_val_cust_df['last_date_of_month_7'].fillna('7/31/2014')"
   ]
  },
  {
   "cell_type": "markdown",
   "metadata": {},
   "source": [
    "> <div class=\"alert alert-block alert-info\">\n",
    "    <span style=\"color:black\"><b>Inference:</b> All the columns are of `date` type. Of them `last_date_of_month` is a static value for the month.Let's handle the remaining columns seperately.\n",
    "</div>\n"
   ]
  },
  {
   "cell_type": "code",
   "execution_count": 19,
   "metadata": {},
   "outputs": [
    {
     "data": {
      "text/plain": [
       "Index(['date_of_last_rech_6', 'date_of_last_rech_7', 'date_of_last_rech_8'], dtype='object')"
      ]
     },
     "execution_count": 19,
     "metadata": {},
     "output_type": "execute_result"
    }
   ],
   "source": [
    "## Replace Nan's in date related columns with a static date\n",
    "mis_val_perc = round((high_val_cust_df.isnull().sum()/len(high_val_cust_df))*100,2)\n",
    "cols_to_drop=mis_val_perc[mis_val_perc!=0].index\n",
    "cols_to_drop"
   ]
  },
  {
   "cell_type": "code",
   "execution_count": 20,
   "metadata": {},
   "outputs": [
    {
     "ename": "KeyboardInterrupt",
     "evalue": "",
     "output_type": "error",
     "traceback": [
      "\u001b[1;31m---------------------------------------------------------------------------\u001b[0m",
      "\u001b[1;31mValueError\u001b[0m                                Traceback (most recent call last)",
      "\u001b[1;32mpandas\\_libs\\tslib.pyx\u001b[0m in \u001b[0;36mpandas._libs.tslib.array_to_datetime\u001b[1;34m()\u001b[0m\n",
      "\u001b[1;32mpandas\\_libs\\tslibs\\np_datetime.pyx\u001b[0m in \u001b[0;36mpandas._libs.tslibs.np_datetime._string_to_dts\u001b[1;34m()\u001b[0m\n",
      "\u001b[1;31mValueError\u001b[0m: Error parsing datetime string \"8/31/2014\" at position 1",
      "\nDuring handling of the above exception, another exception occurred:\n",
      "\u001b[1;31mKeyboardInterrupt\u001b[0m                         Traceback (most recent call last)",
      "\u001b[1;32m<ipython-input-20-a5f345d72fa3>\u001b[0m in \u001b[0;36m<module>\u001b[1;34m\u001b[0m\n\u001b[0;32m     11\u001b[0m \u001b[1;33m\u001b[0m\u001b[0m\n\u001b[0;32m     12\u001b[0m \u001b[0mhigh_val_cust_df\u001b[0m\u001b[1;33m[\u001b[0m\u001b[1;34m'date_of_last_rech_8'\u001b[0m\u001b[1;33m]\u001b[0m\u001b[1;33m=\u001b[0m\u001b[0mpd\u001b[0m\u001b[1;33m.\u001b[0m\u001b[0mto_datetime\u001b[0m\u001b[1;33m(\u001b[0m\u001b[0mhigh_val_cust_df\u001b[0m\u001b[1;33m[\u001b[0m\u001b[1;34m'date_of_last_rech_8'\u001b[0m\u001b[1;33m]\u001b[0m\u001b[1;33m)\u001b[0m\u001b[1;33m\u001b[0m\u001b[1;33m\u001b[0m\u001b[0m\n\u001b[1;32m---> 13\u001b[1;33m \u001b[0mhigh_val_cust_df\u001b[0m\u001b[1;33m[\u001b[0m\u001b[1;34m'last_date_of_month_8'\u001b[0m\u001b[1;33m]\u001b[0m\u001b[1;33m=\u001b[0m\u001b[0mpd\u001b[0m\u001b[1;33m.\u001b[0m\u001b[0mto_datetime\u001b[0m\u001b[1;33m(\u001b[0m\u001b[0mhigh_val_cust_df\u001b[0m\u001b[1;33m[\u001b[0m\u001b[1;34m'last_date_of_month_8'\u001b[0m\u001b[1;33m]\u001b[0m\u001b[1;33m)\u001b[0m\u001b[1;33m\u001b[0m\u001b[1;33m\u001b[0m\u001b[0m\n\u001b[0m\u001b[0;32m     14\u001b[0m \u001b[0mhigh_val_cust_df\u001b[0m\u001b[1;33m[\u001b[0m\u001b[1;34m'last_rech_days_8'\u001b[0m\u001b[1;33m]\u001b[0m \u001b[1;33m=\u001b[0m \u001b[1;33m(\u001b[0m\u001b[0mhigh_val_cust_df\u001b[0m\u001b[1;33m[\u001b[0m\u001b[1;34m'last_date_of_month_8'\u001b[0m\u001b[1;33m]\u001b[0m \u001b[1;33m-\u001b[0m \u001b[0mhigh_val_cust_df\u001b[0m\u001b[1;33m[\u001b[0m\u001b[1;34m'date_of_last_rech_8'\u001b[0m\u001b[1;33m]\u001b[0m\u001b[1;33m)\u001b[0m\u001b[1;33m.\u001b[0m\u001b[0mdt\u001b[0m\u001b[1;33m.\u001b[0m\u001b[0mdays\u001b[0m\u001b[1;33m\u001b[0m\u001b[1;33m\u001b[0m\u001b[0m\n",
      "\u001b[1;32m~\\Anaconda3\\lib\\site-packages\\pandas\\core\\tools\\datetimes.py\u001b[0m in \u001b[0;36mto_datetime\u001b[1;34m(arg, errors, dayfirst, yearfirst, utc, box, format, exact, unit, infer_datetime_format, origin, cache)\u001b[0m\n\u001b[0;32m    449\u001b[0m         \u001b[1;32melse\u001b[0m\u001b[1;33m:\u001b[0m\u001b[1;33m\u001b[0m\u001b[1;33m\u001b[0m\u001b[0m\n\u001b[0;32m    450\u001b[0m             \u001b[1;32mfrom\u001b[0m \u001b[0mpandas\u001b[0m \u001b[1;32mimport\u001b[0m \u001b[0mSeries\u001b[0m\u001b[1;33m\u001b[0m\u001b[1;33m\u001b[0m\u001b[0m\n\u001b[1;32m--> 451\u001b[1;33m             \u001b[0mvalues\u001b[0m \u001b[1;33m=\u001b[0m \u001b[0m_convert_listlike\u001b[0m\u001b[1;33m(\u001b[0m\u001b[0marg\u001b[0m\u001b[1;33m.\u001b[0m\u001b[0m_values\u001b[0m\u001b[1;33m,\u001b[0m \u001b[1;32mTrue\u001b[0m\u001b[1;33m,\u001b[0m \u001b[0mformat\u001b[0m\u001b[1;33m)\u001b[0m\u001b[1;33m\u001b[0m\u001b[1;33m\u001b[0m\u001b[0m\n\u001b[0m\u001b[0;32m    452\u001b[0m             \u001b[0mresult\u001b[0m \u001b[1;33m=\u001b[0m \u001b[0mSeries\u001b[0m\u001b[1;33m(\u001b[0m\u001b[0mvalues\u001b[0m\u001b[1;33m,\u001b[0m \u001b[0mindex\u001b[0m\u001b[1;33m=\u001b[0m\u001b[0marg\u001b[0m\u001b[1;33m.\u001b[0m\u001b[0mindex\u001b[0m\u001b[1;33m,\u001b[0m \u001b[0mname\u001b[0m\u001b[1;33m=\u001b[0m\u001b[0marg\u001b[0m\u001b[1;33m.\u001b[0m\u001b[0mname\u001b[0m\u001b[1;33m)\u001b[0m\u001b[1;33m\u001b[0m\u001b[1;33m\u001b[0m\u001b[0m\n\u001b[0;32m    453\u001b[0m     \u001b[1;32melif\u001b[0m \u001b[0misinstance\u001b[0m\u001b[1;33m(\u001b[0m\u001b[0marg\u001b[0m\u001b[1;33m,\u001b[0m \u001b[1;33m(\u001b[0m\u001b[0mABCDataFrame\u001b[0m\u001b[1;33m,\u001b[0m \u001b[0mMutableMapping\u001b[0m\u001b[1;33m)\u001b[0m\u001b[1;33m)\u001b[0m\u001b[1;33m:\u001b[0m\u001b[1;33m\u001b[0m\u001b[1;33m\u001b[0m\u001b[0m\n",
      "\u001b[1;32m~\\Anaconda3\\lib\\site-packages\\pandas\\core\\tools\\datetimes.py\u001b[0m in \u001b[0;36m_convert_listlike\u001b[1;34m(arg, box, format, name, tz)\u001b[0m\n\u001b[0;32m    366\u001b[0m                     \u001b[0mdayfirst\u001b[0m\u001b[1;33m=\u001b[0m\u001b[0mdayfirst\u001b[0m\u001b[1;33m,\u001b[0m\u001b[1;33m\u001b[0m\u001b[1;33m\u001b[0m\u001b[0m\n\u001b[0;32m    367\u001b[0m                     \u001b[0myearfirst\u001b[0m\u001b[1;33m=\u001b[0m\u001b[0myearfirst\u001b[0m\u001b[1;33m,\u001b[0m\u001b[1;33m\u001b[0m\u001b[1;33m\u001b[0m\u001b[0m\n\u001b[1;32m--> 368\u001b[1;33m                     \u001b[0mrequire_iso8601\u001b[0m\u001b[1;33m=\u001b[0m\u001b[0mrequire_iso8601\u001b[0m\u001b[1;33m\u001b[0m\u001b[1;33m\u001b[0m\u001b[0m\n\u001b[0m\u001b[0;32m    369\u001b[0m                 )\n\u001b[0;32m    370\u001b[0m \u001b[1;33m\u001b[0m\u001b[0m\n",
      "\u001b[1;32mpandas\\_libs\\tslib.pyx\u001b[0m in \u001b[0;36mpandas._libs.tslib.array_to_datetime\u001b[1;34m()\u001b[0m\n",
      "\u001b[1;32mpandas\\_libs\\tslib.pyx\u001b[0m in \u001b[0;36mpandas._libs.tslib.array_to_datetime\u001b[1;34m()\u001b[0m\n",
      "\u001b[1;32mpandas\\_libs\\tslibs\\parsing.pyx\u001b[0m in \u001b[0;36mpandas._libs.tslibs.parsing.parse_datetime_string\u001b[1;34m()\u001b[0m\n",
      "\u001b[1;32m~\\Anaconda3\\lib\\site-packages\\dateutil\\parser\\_parser.py\u001b[0m in \u001b[0;36mparse\u001b[1;34m(timestr, parserinfo, **kwargs)\u001b[0m\n\u001b[0;32m   1354\u001b[0m         \u001b[1;32mreturn\u001b[0m \u001b[0mparser\u001b[0m\u001b[1;33m(\u001b[0m\u001b[0mparserinfo\u001b[0m\u001b[1;33m)\u001b[0m\u001b[1;33m.\u001b[0m\u001b[0mparse\u001b[0m\u001b[1;33m(\u001b[0m\u001b[0mtimestr\u001b[0m\u001b[1;33m,\u001b[0m \u001b[1;33m**\u001b[0m\u001b[0mkwargs\u001b[0m\u001b[1;33m)\u001b[0m\u001b[1;33m\u001b[0m\u001b[1;33m\u001b[0m\u001b[0m\n\u001b[0;32m   1355\u001b[0m     \u001b[1;32melse\u001b[0m\u001b[1;33m:\u001b[0m\u001b[1;33m\u001b[0m\u001b[1;33m\u001b[0m\u001b[0m\n\u001b[1;32m-> 1356\u001b[1;33m         \u001b[1;32mreturn\u001b[0m \u001b[0mDEFAULTPARSER\u001b[0m\u001b[1;33m.\u001b[0m\u001b[0mparse\u001b[0m\u001b[1;33m(\u001b[0m\u001b[0mtimestr\u001b[0m\u001b[1;33m,\u001b[0m \u001b[1;33m**\u001b[0m\u001b[0mkwargs\u001b[0m\u001b[1;33m)\u001b[0m\u001b[1;33m\u001b[0m\u001b[1;33m\u001b[0m\u001b[0m\n\u001b[0m\u001b[0;32m   1357\u001b[0m \u001b[1;33m\u001b[0m\u001b[0m\n\u001b[0;32m   1358\u001b[0m \u001b[1;33m\u001b[0m\u001b[0m\n",
      "\u001b[1;32m~\\Anaconda3\\lib\\site-packages\\dateutil\\parser\\_parser.py\u001b[0m in \u001b[0;36mparse\u001b[1;34m(self, timestr, default, ignoretz, tzinfos, **kwargs)\u001b[0m\n\u001b[0;32m    643\u001b[0m                                                       second=0, microsecond=0)\n\u001b[0;32m    644\u001b[0m \u001b[1;33m\u001b[0m\u001b[0m\n\u001b[1;32m--> 645\u001b[1;33m         \u001b[0mres\u001b[0m\u001b[1;33m,\u001b[0m \u001b[0mskipped_tokens\u001b[0m \u001b[1;33m=\u001b[0m \u001b[0mself\u001b[0m\u001b[1;33m.\u001b[0m\u001b[0m_parse\u001b[0m\u001b[1;33m(\u001b[0m\u001b[0mtimestr\u001b[0m\u001b[1;33m,\u001b[0m \u001b[1;33m**\u001b[0m\u001b[0mkwargs\u001b[0m\u001b[1;33m)\u001b[0m\u001b[1;33m\u001b[0m\u001b[1;33m\u001b[0m\u001b[0m\n\u001b[0m\u001b[0;32m    646\u001b[0m \u001b[1;33m\u001b[0m\u001b[0m\n\u001b[0;32m    647\u001b[0m         \u001b[1;32mif\u001b[0m \u001b[0mres\u001b[0m \u001b[1;32mis\u001b[0m \u001b[1;32mNone\u001b[0m\u001b[1;33m:\u001b[0m\u001b[1;33m\u001b[0m\u001b[1;33m\u001b[0m\u001b[0m\n",
      "\u001b[1;32m~\\Anaconda3\\lib\\site-packages\\dateutil\\parser\\_parser.py\u001b[0m in \u001b[0;36m_parse\u001b[1;34m(self, timestr, dayfirst, yearfirst, fuzzy, fuzzy_with_tokens)\u001b[0m\n\u001b[0;32m    740\u001b[0m                 \u001b[1;32mif\u001b[0m \u001b[0mvalue\u001b[0m \u001b[1;32mis\u001b[0m \u001b[1;32mnot\u001b[0m \u001b[1;32mNone\u001b[0m\u001b[1;33m:\u001b[0m\u001b[1;33m\u001b[0m\u001b[1;33m\u001b[0m\u001b[0m\n\u001b[0;32m    741\u001b[0m                     \u001b[1;31m# Numeric token\u001b[0m\u001b[1;33m\u001b[0m\u001b[1;33m\u001b[0m\u001b[1;33m\u001b[0m\u001b[0m\n\u001b[1;32m--> 742\u001b[1;33m                     \u001b[0mi\u001b[0m \u001b[1;33m=\u001b[0m \u001b[0mself\u001b[0m\u001b[1;33m.\u001b[0m\u001b[0m_parse_numeric_token\u001b[0m\u001b[1;33m(\u001b[0m\u001b[0ml\u001b[0m\u001b[1;33m,\u001b[0m \u001b[0mi\u001b[0m\u001b[1;33m,\u001b[0m \u001b[0minfo\u001b[0m\u001b[1;33m,\u001b[0m \u001b[0mymd\u001b[0m\u001b[1;33m,\u001b[0m \u001b[0mres\u001b[0m\u001b[1;33m,\u001b[0m \u001b[0mfuzzy\u001b[0m\u001b[1;33m)\u001b[0m\u001b[1;33m\u001b[0m\u001b[1;33m\u001b[0m\u001b[0m\n\u001b[0m\u001b[0;32m    743\u001b[0m \u001b[1;33m\u001b[0m\u001b[0m\n\u001b[0;32m    744\u001b[0m                 \u001b[1;31m# Check weekday\u001b[0m\u001b[1;33m\u001b[0m\u001b[1;33m\u001b[0m\u001b[1;33m\u001b[0m\u001b[0m\n",
      "\u001b[1;32m~\\Anaconda3\\lib\\site-packages\\dateutil\\parser\\_parser.py\u001b[0m in \u001b[0;36m_parse_numeric_token\u001b[1;34m(self, tokens, idx, info, ymd, res, fuzzy)\u001b[0m\n\u001b[0;32m    879\u001b[0m         \u001b[0mvalue_repr\u001b[0m \u001b[1;33m=\u001b[0m \u001b[0mtokens\u001b[0m\u001b[1;33m[\u001b[0m\u001b[0midx\u001b[0m\u001b[1;33m]\u001b[0m\u001b[1;33m\u001b[0m\u001b[1;33m\u001b[0m\u001b[0m\n\u001b[0;32m    880\u001b[0m         \u001b[1;32mtry\u001b[0m\u001b[1;33m:\u001b[0m\u001b[1;33m\u001b[0m\u001b[1;33m\u001b[0m\u001b[0m\n\u001b[1;32m--> 881\u001b[1;33m             \u001b[0mvalue\u001b[0m \u001b[1;33m=\u001b[0m \u001b[0mself\u001b[0m\u001b[1;33m.\u001b[0m\u001b[0m_to_decimal\u001b[0m\u001b[1;33m(\u001b[0m\u001b[0mvalue_repr\u001b[0m\u001b[1;33m)\u001b[0m\u001b[1;33m\u001b[0m\u001b[1;33m\u001b[0m\u001b[0m\n\u001b[0m\u001b[0;32m    882\u001b[0m         \u001b[1;32mexcept\u001b[0m \u001b[0mException\u001b[0m \u001b[1;32mas\u001b[0m \u001b[0me\u001b[0m\u001b[1;33m:\u001b[0m\u001b[1;33m\u001b[0m\u001b[1;33m\u001b[0m\u001b[0m\n\u001b[0;32m    883\u001b[0m             \u001b[0msix\u001b[0m\u001b[1;33m.\u001b[0m\u001b[0mraise_from\u001b[0m\u001b[1;33m(\u001b[0m\u001b[0mValueError\u001b[0m\u001b[1;33m(\u001b[0m\u001b[1;34m'Unknown numeric token'\u001b[0m\u001b[1;33m)\u001b[0m\u001b[1;33m,\u001b[0m \u001b[0me\u001b[0m\u001b[1;33m)\u001b[0m\u001b[1;33m\u001b[0m\u001b[1;33m\u001b[0m\u001b[0m\n",
      "\u001b[1;32m~\\Anaconda3\\lib\\site-packages\\dateutil\\parser\\_parser.py\u001b[0m in \u001b[0;36m_to_decimal\u001b[1;34m(self, val)\u001b[0m\n\u001b[0;32m   1244\u001b[0m             \u001b[0mdecimal_value\u001b[0m \u001b[1;33m=\u001b[0m \u001b[0mDecimal\u001b[0m\u001b[1;33m(\u001b[0m\u001b[0mval\u001b[0m\u001b[1;33m)\u001b[0m\u001b[1;33m\u001b[0m\u001b[1;33m\u001b[0m\u001b[0m\n\u001b[0;32m   1245\u001b[0m             \u001b[1;31m# See GH 662, edge case, infinite value should not be converted via `_to_decimal`\u001b[0m\u001b[1;33m\u001b[0m\u001b[1;33m\u001b[0m\u001b[1;33m\u001b[0m\u001b[0m\n\u001b[1;32m-> 1246\u001b[1;33m             \u001b[1;32mif\u001b[0m \u001b[1;32mnot\u001b[0m \u001b[0mdecimal_value\u001b[0m\u001b[1;33m.\u001b[0m\u001b[0mis_finite\u001b[0m\u001b[1;33m(\u001b[0m\u001b[1;33m)\u001b[0m\u001b[1;33m:\u001b[0m\u001b[1;33m\u001b[0m\u001b[1;33m\u001b[0m\u001b[0m\n\u001b[0m\u001b[0;32m   1247\u001b[0m                 \u001b[1;32mraise\u001b[0m \u001b[0mValueError\u001b[0m\u001b[1;33m(\u001b[0m\u001b[1;34m\"Converted decimal value is infinite or NaN\"\u001b[0m\u001b[1;33m)\u001b[0m\u001b[1;33m\u001b[0m\u001b[1;33m\u001b[0m\u001b[0m\n\u001b[0;32m   1248\u001b[0m         \u001b[1;32mexcept\u001b[0m \u001b[0mException\u001b[0m \u001b[1;32mas\u001b[0m \u001b[0me\u001b[0m\u001b[1;33m:\u001b[0m\u001b[1;33m\u001b[0m\u001b[1;33m\u001b[0m\u001b[0m\n",
      "\u001b[1;31mKeyboardInterrupt\u001b[0m: "
     ]
    }
   ],
   "source": [
    "## Let's change the date column to number of days from the churn month\n",
    "## If date is NULL lets impute with a static value 100\n",
    "import datetime\n",
    "high_val_cust_df['date_of_last_rech_6']=pd.to_datetime(high_val_cust_df['date_of_last_rech_6'])\n",
    "high_val_cust_df['last_date_of_month_6']=pd.to_datetime(high_val_cust_df['last_date_of_month_6'])\n",
    "high_val_cust_df['last_rech_days_6'] = (high_val_cust_df['last_date_of_month_6'] - high_val_cust_df['date_of_last_rech_6']).dt.days\n",
    "\n",
    "high_val_cust_df['date_of_last_rech_7']=pd.to_datetime(high_val_cust_df['date_of_last_rech_7'])\n",
    "high_val_cust_df['last_date_of_month_7']=pd.to_datetime(high_val_cust_df['last_date_of_month_7'])\n",
    "high_val_cust_df['last_rech_days_7'] = (high_val_cust_df['last_date_of_month_7'] - high_val_cust_df['date_of_last_rech_7']).dt.days\n",
    "\n",
    "high_val_cust_df['date_of_last_rech_8']=pd.to_datetime(high_val_cust_df['date_of_last_rech_8'])\n",
    "high_val_cust_df['last_date_of_month_8']=pd.to_datetime(high_val_cust_df['last_date_of_month_8'])\n",
    "high_val_cust_df['last_rech_days_8'] = (high_val_cust_df['last_date_of_month_8'] - high_val_cust_df['date_of_last_rech_8']).dt.days\n"
   ]
  },
  {
   "cell_type": "code",
   "execution_count": null,
   "metadata": {},
   "outputs": [],
   "source": [
    "## Let's handle the Nan's in the newly created columns\n",
    "high_val_cust_df.drop(['date_of_last_rech_6', 'date_of_last_rech_7', 'date_of_last_rech_8'],1,inplace=True)\n",
    "high_val_cust_df[['last_rech_days_6','last_rech_days_7','last_rech_days_8']]=high_val_cust_df[['last_rech_days_6','last_rech_days_7','last_rech_days_8']].fillna(99)"
   ]
  },
  {
   "cell_type": "code",
   "execution_count": null,
   "metadata": {},
   "outputs": [],
   "source": [
    "## Replace Nan's in date related columns with a static date\n",
    "mis_val_perc = round((high_val_cust_df.isnull().sum()/len(high_val_cust_df))*100,2)\n",
    "cols_to_drop=mis_val_perc[mis_val_perc!=0].index\n",
    "cols_to_drop"
   ]
  },
  {
   "cell_type": "markdown",
   "metadata": {},
   "source": [
    "> ### Check columns with 1 value"
   ]
  },
  {
   "cell_type": "code",
   "execution_count": null,
   "metadata": {},
   "outputs": [],
   "source": [
    "unique_values = [[i,high_val_cust_df[i].nunique()] for i in high_val_cust_df.columns ]\n",
    "unique_values_df = pd.DataFrame(unique_values,columns=['col','value'])\n",
    "unique_values_df[unique_values_df.value==1].col\n",
    "values = [ [i,high_val_cust_df[i].unique()] for i in unique_values_df[unique_values_df.value==1].col]\n",
    "values"
   ]
  },
  {
   "cell_type": "markdown",
   "metadata": {},
   "source": [
    "> <div class=\"alert alert-block alert-info\">\n",
    "    <span style=\"color:black\"><b>Inference:</b> All the columns have only one value and most of them are 0. Let's delete the columns that contain only a single value.\n",
    "</div>\n"
   ]
  },
  {
   "cell_type": "code",
   "execution_count": null,
   "metadata": {},
   "outputs": [],
   "source": [
    "high_val_cust_df.drop(unique_values_df[unique_values_df.value==1].col,1,inplace=True)\n",
    "high_val_cust_df.shape"
   ]
  },
  {
   "cell_type": "markdown",
   "metadata": {},
   "source": [
    "## <span style=\"color:#008abc\"><b> Data Analysis(EDA): </b></span>"
   ]
  },
  {
   "cell_type": "code",
   "execution_count": null,
   "metadata": {},
   "outputs": [],
   "source": [
    "high_val_cust_df.info()"
   ]
  },
  {
   "cell_type": "code",
   "execution_count": null,
   "metadata": {},
   "outputs": [],
   "source": [
    "def plotbox(col):\n",
    "    for i in range(6,9):\n",
    "        if (high_val_cust_df[col+'_'+str(i)].nunique()>200):\n",
    "            Q1 = high_val_cust_df[col+'_'+str(i)].quantile(0.05)\n",
    "            Q3 = high_val_cust_df[col+'_'+str(i)].quantile(0.95)\n",
    "            plot_df = high_val_cust_df[(high_val_cust_df[col+'_'+str(i)] >= Q1) & (high_val_cust_df[col+'_'+str(i)]<= Q3)]\n",
    "            ## Plot the resultant data\n",
    "            plt.subplot(1,3,i-5)\n",
    "            sns.boxplot(data=plot_df, y=col+'_'+str(i) ,x='churn')\n",
    "            plt.yscale('symlog')\n",
    "            plt.tight_layout()\n",
    "        else:\n",
    "#             high_val_cust_df.drop([col+'_'+str(i)],1,inplace=True)\n",
    "              print(col)\n",
    "    plt.show() "
   ]
  },
  {
   "cell_type": "code",
   "execution_count": 220,
   "metadata": {
    "scrolled": true
   },
   "outputs": [
    {
     "data": {
      "image/png": "[encoded data removed]",
      "text/plain": [
       "<Figure size 720x216 with 3 Axes>"
      ]
     },
     "metadata": {
      "needs_background": "light"
     },
     "output_type": "display_data"
    },
    {
     "data": {
      "image/png": "[encoded data removed]",
      "text/plain": [
       "<Figure size 720x216 with 3 Axes>"
      ]
     },
     "metadata": {
      "needs_background": "light"
     },
     "output_type": "display_data"
    },
    {
     "data": {
      "image/png": "[encoded data removed]",
      "text/plain": [
       "<Figure size 720x216 with 3 Axes>"
      ]
     },
     "metadata": {
      "needs_background": "light"
     },
     "output_type": "display_data"
    }
   ],
   "source": [
    "plotbox('arpu')\n",
    "plotbox('onnet_mou')\n",
    "plotbox('offnet_mou')"
   ]
  },
  {
   "cell_type": "code",
   "execution_count": null,
   "metadata": {},
   "outputs": [],
   "source": [
    "plotbox('roam_ic_mou')\n",
    "plotbox('roam_og_mou')"
   ]
  },
  {
   "cell_type": "code",
   "execution_count": null,
   "metadata": {},
   "outputs": [],
   "source": [
    "plotbox('loc_og_t2t_mou')\n",
    "plotbox('loc_og_t2m_mou')"
   ]
  },
  {
   "cell_type": "code",
   "execution_count": null,
   "metadata": {},
   "outputs": [],
   "source": [
    "plotbox('loc_og_t2f_mou')\n",
    "plotbox('loc_og_t2c_mou')"
   ]
  },
  {
   "cell_type": "code",
   "execution_count": null,
   "metadata": {},
   "outputs": [],
   "source": [
    "plotbox('loc_og_mou')\n",
    "plotbox('std_og_t2t_mou')\n",
    "plotbox('std_og_t2m_mou')\n",
    "plotbox('std_og_t2f_mou')"
   ]
  },
  {
   "cell_type": "code",
   "execution_count": null,
   "metadata": {},
   "outputs": [],
   "source": [
    "plotbox('std_og_mou')\n",
    "plotbox('isd_og_mou')\n",
    "plotbox('spl_og_mou')"
   ]
  },
  {
   "cell_type": "code",
   "execution_count": null,
   "metadata": {
    "scrolled": true
   },
   "outputs": [],
   "source": [
    "high_val_cust_df.columns[49:61]"
   ]
  },
  {
   "cell_type": "code",
   "execution_count": null,
   "metadata": {},
   "outputs": [],
   "source": [
    "plotbox('og_others')\n",
    "plotbox('total_og_mou')"
   ]
  },
  {
   "cell_type": "code",
   "execution_count": null,
   "metadata": {},
   "outputs": [],
   "source": [
    "plotbox('loc_ic_t2t_mou')\n",
    "plotbox('loc_ic_t2m_mou')\n",
    "plotbox('loc_ic_t2f_mou')\n",
    "plotbox('loc_ic_mou')"
   ]
  },
  {
   "cell_type": "code",
   "execution_count": null,
   "metadata": {},
   "outputs": [],
   "source": [
    "plotbox('std_ic_t2t_mou')\n",
    "plotbox('std_ic_t2m_mou')\n",
    "plotbox('std_ic_t2f_mou')\n",
    "plotbox('std_ic_mou')"
   ]
  },
  {
   "cell_type": "code",
   "execution_count": null,
   "metadata": {},
   "outputs": [],
   "source": [
    "plotbox('total_ic_mou')\n",
    "plotbox('spl_ic_mou')\n",
    "plotbox('isd_ic_mou')"
   ]
  },
  {
   "cell_type": "markdown",
   "metadata": {},
   "source": [
    "> <div class=\"alert alert-block alert-info\">\n",
    "    <span style=\"color:black\"><b>Inference:</b> The total incoming and outgoing calls during the 8th month seems to be a strong indicator of churn.\n",
    "    </span>\n",
    "</div>"
   ]
  },
  {
   "cell_type": "code",
   "execution_count": null,
   "metadata": {},
   "outputs": [],
   "source": [
    "plotbox('total_rech_num')\n",
    "plotbox('total_rech_amt')\n",
    "plotbox('max_rech_amt')"
   ]
  },
  {
   "cell_type": "markdown",
   "metadata": {},
   "source": [
    "> <div class=\"alert alert-block alert-info\">\n",
    "    <span style=\"color:black\"><b>Inference:</b> The total recharge amount during the 8th month seems to be a strong indicator of churn.\n",
    "    </span>\n",
    "</div>"
   ]
  },
  {
   "cell_type": "code",
   "execution_count": null,
   "metadata": {},
   "outputs": [],
   "source": [
    "# plotbox('date_of_last_rech')\n",
    "# plotbox('last_day_rch_amt')\n",
    "plotbox('vol_2g_mb')\n",
    "plotbox('vol_3g_mb')"
   ]
  },
  {
   "cell_type": "markdown",
   "metadata": {},
   "source": [
    "> <div class=\"alert alert-block alert-info\">\n",
    "    <span style=\"color:black\"><b>Inference:</b> The volume of 2g recharges during the 8th month seems to be a strong indicator of churn.\n",
    "    </span>\n",
    "</div>"
   ]
  },
  {
   "cell_type": "markdown",
   "metadata": {},
   "source": [
    "> <div class=\"alert alert-block alert-info\">\n",
    "    <span style=\"color:black\"><b>Inference:</b> From the above plots we can see that the customer behaviour during the <b>6th and 7th months (i.e) good phase</b> doesn't vary much , whereas the 8th month data seems to strongly affect churn. Hence let's merge the data for the 6th and 7th month and take the average for our analysis.\n",
    "    </span>\n",
    "</div>"
   ]
  },
  {
   "cell_type": "code",
   "execution_count": null,
   "metadata": {},
   "outputs": [],
   "source": [
    "print(high_val_cust_df.shape)\n",
    "col67=list(set([col[:-2] for col in high_val_cust_df.columns if ('6' in col) or ('7' in col)]))\n",
    "for col in col67:\n",
    "    col_avg = \"avg_\"+col+\"_627\"\n",
    "    col_6 = col+\"_6\"\n",
    "    col_7 = col+\"_7\"\n",
    "    high_val_cust_df[col_avg] = (high_val_cust_df[col_6] + high_val_cust_df[col_7])/2"
   ]
  },
  {
   "cell_type": "code",
   "execution_count": null,
   "metadata": {},
   "outputs": [],
   "source": [
    "print(high_val_cust_df.shape)\n",
    "col67=[col for col in high_val_cust_df.columns if (col.endswith('_6')) or ( col.endswith('_7'))]\n",
    "high_val_cust_df.drop(col67,1,inplace=True)\n",
    "print(high_val_cust_df.shape)"
   ]
  },
  {
   "cell_type": "markdown",
   "metadata": {},
   "source": [
    "### <span style=\"color:#008abc\"><b>Target variable analysis</b></span>"
   ]
  },
  {
   "cell_type": "code",
   "execution_count": null,
   "metadata": {},
   "outputs": [],
   "source": [
    "churn_perc = round(((high_val_cust_df['churn'].value_counts()/len(high_val_cust_df))*100),2)\n",
    "plt.font_size=45\n",
    "\n",
    "churn_perc.plot(kind='pie',labels=['No','Yes'],autopct='%1.0f%%',figsize=(5,5),textprops={'color':\"w\",'fontsize': 14})\n",
    "plt.title(\"Churn Distribution\")"
   ]
  },
  {
   "cell_type": "markdown",
   "metadata": {},
   "source": [
    "> <div class=\"alert alert-block alert-info\">\n",
    "    <span style=\"color:black\"><b>Inference:</b>From the plot, we can see that the churn data is highly skewed, a classic case of class imbalance. We will handle the same in the modelling part </span>\n",
    "</div>\n"
   ]
  },
  {
   "cell_type": "code",
   "execution_count": null,
   "metadata": {},
   "outputs": [],
   "source": [
    "incoming = [col for col in high_val_cust_df.columns if 'ic' in col]\n",
    "print(incoming)\n",
    "plt.figure(figsize=(53, 53))\n",
    "ic=high_val_cust_df[incoming].corr()\n",
    "sns.heatmap(ic, cmap=\"YlGnBu\", annot=True)"
   ]
  },
  {
   "cell_type": "markdown",
   "metadata": {},
   "source": [
    "> <div class=\"alert alert-block alert-info\">\n",
    "    <span style=\"color:black\"><b>Inference:</b> The information in the columns\n",
    "        <ul>\n",
    "            <li>loc_ic_mou_{6,7,8}</li>\n",
    "            <li>std_ic_mou_{6,7,8}</li>\n",
    "            <li>total_ic_mou_{6,7,8}</li>\n",
    "            <li>loc_og_mou_{6,7,8}</li>\n",
    "            <li>std_og_mou_{6,7,8}</li>\n",
    "            <li>total_og_mou_{6,7,8}</li>\n",
    "        </ul>\n",
    "        are the summations of informations from the other columns containing the split up's of incoming and outgoing data. They are also highly correlated. Hence we can delete these columns.\n",
    "    </span>\n",
    "</div>"
   ]
  },
  {
   "cell_type": "code",
   "execution_count": null,
   "metadata": {},
   "outputs": [],
   "source": [
    "sum_col = [col for col in high_val_cust_df.columns if ('ic_t' in col) or ('og_t' in col) ]\n",
    "print(sum_col)\n",
    "high_val_cust_df.drop(sum_col,1,inplace=True)\n",
    "print(high_val_cust_df.shape)"
   ]
  },
  {
   "cell_type": "code",
   "execution_count": null,
   "metadata": {},
   "outputs": [],
   "source": [
    "outgoing = [col for col in high_val_cust_df.columns if 'og' in col]\n",
    "plt.figure(figsize=(53, 53))\n",
    "og=high_val_cust_df[outgoing].corr()\n",
    "sns.heatmap(og, cmap=\"YlGnBu\", annot=True)"
   ]
  },
  {
   "cell_type": "markdown",
   "metadata": {},
   "source": [
    "## <span style=\"color:#008abc\"><b> Feature Engineering</b></span>"
   ]
  },
  {
   "cell_type": "markdown",
   "metadata": {},
   "source": [
    "> ### <span style=\"color:#008abc\">Tenure of customer (in years) </span>"
   ]
  },
  {
   "cell_type": "code",
   "execution_count": null,
   "metadata": {},
   "outputs": [],
   "source": [
    "high_val_cust_df['aon_years']=high_val_cust_df['aon']/365\n",
    "high_val_cust_df.drop('aon',1,inplace=True)\n",
    "high_val_cust_df['aon_years'].describe()"
   ]
  },
  {
   "cell_type": "code",
   "execution_count": null,
   "metadata": {},
   "outputs": [],
   "source": [
    "churn1=high_val_cust_df.loc[high_val_cust_df.churn == 1]['aon_years']\n",
    "churn0=high_val_cust_df.loc[high_val_cust_df.churn == 0]['aon_years']\n",
    "sns.distplot(churn1,label='Churned',hist=False,rug=True)\n",
    "sns.distplot(churn0,label='Not Churned',hist=False,rug=True)\n",
    "plt.legend()"
   ]
  },
  {
   "cell_type": "markdown",
   "metadata": {},
   "source": [
    "> <div class=\"alert alert-block alert-info\">\n",
    "    <span style=\"color:black\"><b>Inference:</b>From the plot we can see huge number of customers who are associated with the firm for less than 4 years have churned. </span>\n",
    "</div>\n"
   ]
  },
  {
   "cell_type": "markdown",
   "metadata": {},
   "source": [
    "> ### <span style=\"color:#008abc\">Differences in revenue and recharge amount </span>"
   ]
  },
  {
   "cell_type": "code",
   "execution_count": null,
   "metadata": {},
   "outputs": [],
   "source": [
    "high_val_cust_df.columns\n",
    "high_val_cust_df['arpu_diff']=high_val_cust_df['arpu_8']-high_val_cust_df['avg_arpu_627']\n",
    "high_val_cust_df['total_rech_amt_diff']=high_val_cust_df['total_rech_amt_8']-high_val_cust_df['avg_total_rech_amt_627']\n",
    "high_val_cust_df['total_og_diff'] = high_val_cust_df['total_og_mou_8']-high_val_cust_df['avg_total_og_mou_627']\n",
    "high_val_cust_df['total_ic_diff'] = high_val_cust_df['total_ic_mou_8']-high_val_cust_df['avg_total_ic_mou_627']"
   ]
  },
  {
   "cell_type": "markdown",
   "metadata": {},
   "source": [
    "## <span style=\"color:#008abc\"><b> Model Building</b></span>"
   ]
  },
  {
   "cell_type": "code",
   "execution_count": null,
   "metadata": {},
   "outputs": [],
   "source": [
    "model_df = high_val_cust_df.copy()\n",
    "model_df.drop('mobile_number',1,inplace=True)\n",
    "model_df.shape"
   ]
  },
  {
   "cell_type": "code",
   "execution_count": null,
   "metadata": {},
   "outputs": [],
   "source": [
    "### Under sampling\n",
    "count_class_0, count_class_1 = model_df['churn'].value_counts()\n",
    "model_dfa = model_df[model_df['churn']==0]\n",
    "model_dfb = model_df[model_df['churn']==1]\n",
    "model_df_class_0_under = model_dfa.sample(count_class_1)\n",
    "model_df_test_under = pd.concat([model_df_class_0_under, model_dfb], axis=0)\n",
    "model_df =model_df_test_under"
   ]
  },
  {
   "cell_type": "code",
   "execution_count": null,
   "metadata": {},
   "outputs": [],
   "source": [
    "## Divide into X and Y set for model building\n",
    "y = model_df.pop('churn')\n",
    "X = model_df"
   ]
  },
  {
   "cell_type": "code",
   "execution_count": null,
   "metadata": {},
   "outputs": [],
   "source": [
    "from sklearn.model_selection import train_test_split\n",
    "\n",
    "X_train,X_test,y_train,y_test = train_test_split(X,y,train_size=0.7,test_size=0.3,random_state=42)"
   ]
  },
  {
   "cell_type": "code",
   "execution_count": null,
   "metadata": {},
   "outputs": [],
   "source": [
    "from sklearn.preprocessing import StandardScaler\n",
    "scaler = StandardScaler()\n",
    "X_train = scaler.fit_transform(X_train)\n",
    "X_test = scaler.transform(X_test)"
   ]
  },
  {
   "cell_type": "markdown",
   "metadata": {},
   "source": [
    "> ### <span style=\"color:#008abc\"><b>1. RFE & Logistic Regression</b></span>"
   ]
  },
  {
   "cell_type": "code",
   "execution_count": null,
   "metadata": {},
   "outputs": [],
   "source": [
    "from sklearn.linear_model import LogisticRegression\n",
    "from sklearn.feature_selection import RFE\n",
    "\n",
    "logreg = LogisticRegression()\n",
    "rfe = RFE(logreg,15)\n",
    "rfe = rfe.fit(X_train, y_train)"
   ]
  },
  {
   "cell_type": "code",
   "execution_count": null,
   "metadata": {},
   "outputs": [],
   "source": [
    "## Features selected by rfe\n",
    "rfe.support_\n",
    "model_df.columns[rfe.support_]"
   ]
  },
  {
   "cell_type": "code",
   "execution_count": 251,
   "metadata": {},
   "outputs": [],
   "source": [
    "## Create dataset with the features selected by RFE\n",
    "X_train_rfe=pd.DataFrame(data=X_train).iloc[:,rfe.support_]\n",
    "X_test_rfe=pd.DataFrame(data=X_test).iloc[:,rfe.support_]"
   ]
  },
  {
   "cell_type": "code",
   "execution_count": 252,
   "metadata": {},
   "outputs": [
    {
     "data": {
      "text/plain": [
       "LogisticRegression(C=1.0, class_weight='balanced', dual=False,\n",
       "                   fit_intercept=True, intercept_scaling=1, l1_ratio=None,\n",
       "                   max_iter=100, multi_class='warn', n_jobs=None, penalty='l2',\n",
       "                   random_state=2, solver='warn', tol=0.0001, verbose=0,\n",
       "                   warm_start=False)"
      ]
     },
     "execution_count": 252,
     "metadata": {},
     "output_type": "execute_result"
    }
   ],
   "source": [
    "## Run Logistic regression\n",
    "logreg = LogisticRegression(random_state=2,class_weight='balanced')\n",
    "logreg.fit(X_train_rfe,y_train)"
   ]
  },
  {
   "cell_type": "code",
   "execution_count": 253,
   "metadata": {},
   "outputs": [],
   "source": [
    "## PRedict on test dataset\n",
    "y_pred=logreg.predict(X_test_rfe)"
   ]
  },
  {
   "cell_type": "markdown",
   "metadata": {},
   "source": [
    "> ### Metrics"
   ]
  },
  {
   "cell_type": "code",
   "execution_count": 256,
   "metadata": {},
   "outputs": [
    {
     "name": "stdout",
     "output_type": "stream",
     "text": [
      "Accuracy score: 0.8389078498293515\n",
      "F1 score: 0.8345021037868162\n",
      "\n",
      "Classification Report:               precision    recall  f1-score   support\n",
      "\n",
      "           0       0.85      0.84      0.84       758\n",
      "           1       0.83      0.84      0.83       707\n",
      "\n",
      "    accuracy                           0.84      1465\n",
      "   macro avg       0.84      0.84      0.84      1465\n",
      "weighted avg       0.84      0.84      0.84      1465\n",
      "\n",
      "\n",
      "Confusion Matrix:\n",
      " [[634 124]\n",
      " [112 595]]\n"
     ]
    }
   ],
   "source": [
    "from sklearn import metrics\n",
    "\n",
    "print(\"Accuracy score:\",metrics.accuracy_score(y_test,y_pred))\n",
    "print(\"F1 score:\",metrics.f1_score(y_test,y_pred))\n",
    "print(\"\\nClassification Report:\",metrics.classification_report(y_test, y_pred))\n",
    "print(\"\\nConfusion Matrix:\\n\", metrics.confusion_matrix(y_test,y_pred))"
   ]
  },
  {
   "cell_type": "markdown",
   "metadata": {},
   "source": [
    "> ### Feature wightage"
   ]
  },
  {
   "cell_type": "code",
   "execution_count": 257,
   "metadata": {},
   "outputs": [
    {
     "data": {
      "text/plain": [
       "last_rech_days_8        0.896049\n",
       "avg_roam_og_mou_627     0.366200\n",
       "avg_vol_2g_mb_627       0.317935\n",
       "avg_max_rech_amt_627    0.312222\n",
       "aon_years              -0.243165\n",
       "total_ic_mou_8         -0.280148\n",
       "avg_monthly_2g_627     -0.339477\n",
       "loc_og_mou_8           -0.371504\n",
       "vol_3g_mb_8            -0.410758\n",
       "total_ic_diff          -0.434953\n",
       "vol_2g_mb_8            -0.440695\n",
       "sachet_2g_8            -0.443210\n",
       "last_day_rch_amt_8     -0.446952\n",
       "total_og_diff          -0.575863\n",
       "loc_ic_mou_8           -0.616697\n",
       "dtype: float64"
      ]
     },
     "execution_count": 257,
     "metadata": {},
     "output_type": "execute_result"
    }
   ],
   "source": [
    "feature_weights = pd.Series(logreg.coef_[0],index=model_df.columns[rfe.support_]).sort_values(ascending=False)\n",
    "feature_weights"
   ]
  },
  {
   "cell_type": "markdown",
   "metadata": {},
   "source": [
    "> <div class=\"alert alert-block alert-info\">\n",
    "    <span style=\"color:black\"><b>Inference:</b> Metrics for RFE with Logistic Regression: \n",
    "    <b><ul>\n",
    "        <li>Accuracy: 84% </li>\n",
    "        <li>Precision: 83% </li>\n",
    "        <li>Recall: 84% </li>\n",
    "        <li>F1 score: 83% </li>\n",
    "        </ul></b>\n",
    "        <b>Feature Importance:</b>  The features \n",
    "        <b><ul>\n",
    "        <li>last_rech_days_8,loc_ic_mou_8,total_og_diff,last_day_rch_amt_8,avg_roam_og_mou_627</li>\n",
    "        </ul></b>\n",
    "        highly determine churn.The same was observed in EDA too.Ideally the customers behaviour during the action phase is a crucial indicator for churn, expecially the recharge amount and the outgoing call difference.\n",
    "    </span>\n",
    "</div>\n"
   ]
  },
  {
   "cell_type": "markdown",
   "metadata": {},
   "source": [
    "> ### <span style=\"color:#008abc\"><b> 2. PCA & Logistic Regression</b></span>"
   ]
  },
  {
   "cell_type": "code",
   "execution_count": 264,
   "metadata": {},
   "outputs": [],
   "source": [
    "from sklearn.decomposition import PCA\n",
    "pca = PCA(svd_solver='randomized', random_state=42)\n",
    "X_train_pca = pca.fit_transform(X_train)\n",
    "X_test_pca = pca.transform(X_test)\n",
    "logreg_pca = LogisticRegression(class_weight='balanced')\n",
    "logreg_pca.fit(X_train_pca,y_train)\n",
    "\n",
    "y_pred_pca = logreg_pca.predict(X_test_pca)\n",
    "y_pred_pca = pd.DataFrame(data=y_pred_pca)"
   ]
  },
  {
   "cell_type": "markdown",
   "metadata": {},
   "source": [
    "> ### Metrics"
   ]
  },
  {
   "cell_type": "code",
   "execution_count": 265,
   "metadata": {},
   "outputs": [
    {
     "name": "stdout",
     "output_type": "stream",
     "text": [
      "Accuracy score: 0.8293515358361775\n",
      "\n",
      "Classification Report:\n",
      "               precision    recall  f1-score   support\n",
      "\n",
      "           0       0.84      0.82      0.83       758\n",
      "           1       0.82      0.84      0.83       707\n",
      "\n",
      "    accuracy                           0.83      1465\n",
      "   macro avg       0.83      0.83      0.83      1465\n",
      "weighted avg       0.83      0.83      0.83      1465\n",
      "\n",
      "\n",
      "Confusion Matrix:\n",
      " [[624 134]\n",
      " [116 591]]\n"
     ]
    }
   ],
   "source": [
    "from sklearn import metrics\n",
    "\n",
    "print(\"Accuracy score:\",metrics.accuracy_score(y_test,y_pred_pca))\n",
    "print(\"\\nClassification Report:\\n\",metrics.classification_report(y_test, y_pred_pca))\n",
    "print(\"\\nConfusion Matrix:\\n\", metrics.confusion_matrix(y_test,y_pred_pca))"
   ]
  },
  {
   "cell_type": "markdown",
   "metadata": {},
   "source": [
    "> <div class=\"alert alert-block alert-info\">\n",
    "    <span style=\"color:black\"><b>Inference:</b> Metrics for PCA with Logistic Regression: \n",
    "    <b><ul>\n",
    "        <li>Accuracy: 83% </li>\n",
    "        <li>Precision: 82% </li>\n",
    "        <li>Recall: 84% </li>\n",
    "        <li>F1 score: 83% </li>\n",
    "        </ul></b>\n",
    "    </span>\n",
    "</div>\n"
   ]
  },
  {
   "cell_type": "code",
   "execution_count": 266,
   "metadata": {},
   "outputs": [
    {
     "data": {
      "text/html": [
       "<div>\n",
       "<style scoped>\n",
       "    .dataframe tbody tr th:only-of-type {\n",
       "        vertical-align: middle;\n",
       "    }\n",
       "\n",
       "    .dataframe tbody tr th {\n",
       "        vertical-align: top;\n",
       "    }\n",
       "\n",
       "    .dataframe thead th {\n",
       "        text-align: right;\n",
       "    }\n",
       "</style>\n",
       "<table border=\"1\" class=\"dataframe\">\n",
       "  <thead>\n",
       "    <tr style=\"text-align: right;\">\n",
       "      <th></th>\n",
       "      <th>Feature</th>\n",
       "      <th>PC1</th>\n",
       "      <th>PC2</th>\n",
       "      <th>PC3</th>\n",
       "    </tr>\n",
       "  </thead>\n",
       "  <tbody>\n",
       "    <tr>\n",
       "      <th>0</th>\n",
       "      <td>arpu_8</td>\n",
       "      <td>0.308411</td>\n",
       "      <td>0.069059</td>\n",
       "      <td>-0.018149</td>\n",
       "    </tr>\n",
       "    <tr>\n",
       "      <th>1</th>\n",
       "      <td>onnet_mou_8</td>\n",
       "      <td>0.206818</td>\n",
       "      <td>-0.057807</td>\n",
       "      <td>-0.156218</td>\n",
       "    </tr>\n",
       "    <tr>\n",
       "      <th>2</th>\n",
       "      <td>offnet_mou_8</td>\n",
       "      <td>0.242550</td>\n",
       "      <td>-0.029680</td>\n",
       "      <td>-0.106100</td>\n",
       "    </tr>\n",
       "    <tr>\n",
       "      <th>3</th>\n",
       "      <td>roam_ic_mou_8</td>\n",
       "      <td>0.027910</td>\n",
       "      <td>-0.020238</td>\n",
       "      <td>0.025314</td>\n",
       "    </tr>\n",
       "    <tr>\n",
       "      <th>4</th>\n",
       "      <td>roam_og_mou_8</td>\n",
       "      <td>0.076029</td>\n",
       "      <td>-0.017646</td>\n",
       "      <td>0.048159</td>\n",
       "    </tr>\n",
       "    <tr>\n",
       "      <th>5</th>\n",
       "      <td>loc_og_mou_8</td>\n",
       "      <td>0.213219</td>\n",
       "      <td>0.056274</td>\n",
       "      <td>-0.018224</td>\n",
       "    </tr>\n",
       "    <tr>\n",
       "      <th>6</th>\n",
       "      <td>std_og_mou_8</td>\n",
       "      <td>0.203247</td>\n",
       "      <td>-0.096185</td>\n",
       "      <td>-0.210942</td>\n",
       "    </tr>\n",
       "    <tr>\n",
       "      <th>7</th>\n",
       "      <td>isd_og_mou_8</td>\n",
       "      <td>0.068506</td>\n",
       "      <td>-0.008196</td>\n",
       "      <td>0.101471</td>\n",
       "    </tr>\n",
       "    <tr>\n",
       "      <th>8</th>\n",
       "      <td>spl_og_mou_8</td>\n",
       "      <td>0.078054</td>\n",
       "      <td>-0.005831</td>\n",
       "      <td>-0.096834</td>\n",
       "    </tr>\n",
       "    <tr>\n",
       "      <th>9</th>\n",
       "      <td>og_others_8</td>\n",
       "      <td>0.006112</td>\n",
       "      <td>0.008538</td>\n",
       "      <td>-0.013690</td>\n",
       "    </tr>\n",
       "    <tr>\n",
       "      <th>10</th>\n",
       "      <td>total_og_mou_8</td>\n",
       "      <td>0.279372</td>\n",
       "      <td>-0.054840</td>\n",
       "      <td>-0.188545</td>\n",
       "    </tr>\n",
       "    <tr>\n",
       "      <th>11</th>\n",
       "      <td>loc_ic_mou_8</td>\n",
       "      <td>0.195630</td>\n",
       "      <td>0.116737</td>\n",
       "      <td>0.021077</td>\n",
       "    </tr>\n",
       "    <tr>\n",
       "      <th>12</th>\n",
       "      <td>std_ic_mou_8</td>\n",
       "      <td>0.118158</td>\n",
       "      <td>0.032813</td>\n",
       "      <td>-0.001810</td>\n",
       "    </tr>\n",
       "    <tr>\n",
       "      <th>13</th>\n",
       "      <td>total_ic_mou_8</td>\n",
       "      <td>0.217469</td>\n",
       "      <td>0.115665</td>\n",
       "      <td>0.027068</td>\n",
       "    </tr>\n",
       "    <tr>\n",
       "      <th>14</th>\n",
       "      <td>spl_ic_mou_8</td>\n",
       "      <td>0.029576</td>\n",
       "      <td>0.033207</td>\n",
       "      <td>-0.028776</td>\n",
       "    </tr>\n",
       "    <tr>\n",
       "      <th>15</th>\n",
       "      <td>isd_ic_mou_8</td>\n",
       "      <td>0.057354</td>\n",
       "      <td>0.035726</td>\n",
       "      <td>0.065542</td>\n",
       "    </tr>\n",
       "    <tr>\n",
       "      <th>16</th>\n",
       "      <td>ic_others_8</td>\n",
       "      <td>0.032493</td>\n",
       "      <td>0.019821</td>\n",
       "      <td>-0.003457</td>\n",
       "    </tr>\n",
       "    <tr>\n",
       "      <th>17</th>\n",
       "      <td>total_rech_num_8</td>\n",
       "      <td>0.167499</td>\n",
       "      <td>-0.001670</td>\n",
       "      <td>-0.222479</td>\n",
       "    </tr>\n",
       "    <tr>\n",
       "      <th>18</th>\n",
       "      <td>total_rech_amt_8</td>\n",
       "      <td>0.308442</td>\n",
       "      <td>0.078204</td>\n",
       "      <td>-0.026813</td>\n",
       "    </tr>\n",
       "    <tr>\n",
       "      <th>19</th>\n",
       "      <td>max_rech_amt_8</td>\n",
       "      <td>0.189778</td>\n",
       "      <td>0.141606</td>\n",
       "      <td>0.134377</td>\n",
       "    </tr>\n",
       "    <tr>\n",
       "      <th>20</th>\n",
       "      <td>last_day_rch_amt_8</td>\n",
       "      <td>0.153354</td>\n",
       "      <td>0.128898</td>\n",
       "      <td>0.115731</td>\n",
       "    </tr>\n",
       "    <tr>\n",
       "      <th>21</th>\n",
       "      <td>vol_2g_mb_8</td>\n",
       "      <td>0.000037</td>\n",
       "      <td>0.097181</td>\n",
       "      <td>-0.068531</td>\n",
       "    </tr>\n",
       "    <tr>\n",
       "      <th>22</th>\n",
       "      <td>vol_3g_mb_8</td>\n",
       "      <td>0.058080</td>\n",
       "      <td>0.177844</td>\n",
       "      <td>0.164011</td>\n",
       "    </tr>\n",
       "    <tr>\n",
       "      <th>23</th>\n",
       "      <td>monthly_2g_8</td>\n",
       "      <td>0.015927</td>\n",
       "      <td>0.117019</td>\n",
       "      <td>0.010747</td>\n",
       "    </tr>\n",
       "    <tr>\n",
       "      <th>24</th>\n",
       "      <td>sachet_2g_8</td>\n",
       "      <td>-0.009355</td>\n",
       "      <td>0.067756</td>\n",
       "      <td>-0.129629</td>\n",
       "    </tr>\n",
       "    <tr>\n",
       "      <th>25</th>\n",
       "      <td>monthly_3g_8</td>\n",
       "      <td>0.058734</td>\n",
       "      <td>0.161475</td>\n",
       "      <td>0.153025</td>\n",
       "    </tr>\n",
       "    <tr>\n",
       "      <th>26</th>\n",
       "      <td>sachet_3g_8</td>\n",
       "      <td>0.019856</td>\n",
       "      <td>0.052805</td>\n",
       "      <td>-0.011837</td>\n",
       "    </tr>\n",
       "    <tr>\n",
       "      <th>27</th>\n",
       "      <td>vbc_3g_8</td>\n",
       "      <td>0.047483</td>\n",
       "      <td>0.164011</td>\n",
       "      <td>0.158897</td>\n",
       "    </tr>\n",
       "    <tr>\n",
       "      <th>28</th>\n",
       "      <td>last_rech_days_8</td>\n",
       "      <td>-0.107204</td>\n",
       "      <td>-0.055798</td>\n",
       "      <td>0.111294</td>\n",
       "    </tr>\n",
       "    <tr>\n",
       "      <th>29</th>\n",
       "      <td>avg_roam_og_mou_627</td>\n",
       "      <td>0.055667</td>\n",
       "      <td>-0.027859</td>\n",
       "      <td>0.057011</td>\n",
       "    </tr>\n",
       "    <tr>\n",
       "      <th>...</th>\n",
       "      <td>...</td>\n",
       "      <td>...</td>\n",
       "      <td>...</td>\n",
       "      <td>...</td>\n",
       "    </tr>\n",
       "    <tr>\n",
       "      <th>33</th>\n",
       "      <td>avg_max_rech_amt_627</td>\n",
       "      <td>0.103178</td>\n",
       "      <td>0.063146</td>\n",
       "      <td>0.272371</td>\n",
       "    </tr>\n",
       "    <tr>\n",
       "      <th>34</th>\n",
       "      <td>avg_last_rech_days_627</td>\n",
       "      <td>-0.084971</td>\n",
       "      <td>0.046037</td>\n",
       "      <td>0.087105</td>\n",
       "    </tr>\n",
       "    <tr>\n",
       "      <th>35</th>\n",
       "      <td>avg_vol_2g_mb_627</td>\n",
       "      <td>-0.053581</td>\n",
       "      <td>0.091996</td>\n",
       "      <td>-0.056443</td>\n",
       "    </tr>\n",
       "    <tr>\n",
       "      <th>36</th>\n",
       "      <td>avg_vbc_3g_627</td>\n",
       "      <td>0.020706</td>\n",
       "      <td>0.168307</td>\n",
       "      <td>0.185877</td>\n",
       "    </tr>\n",
       "    <tr>\n",
       "      <th>37</th>\n",
       "      <td>avg_monthly_2g_627</td>\n",
       "      <td>-0.013792</td>\n",
       "      <td>0.118794</td>\n",
       "      <td>0.027575</td>\n",
       "    </tr>\n",
       "    <tr>\n",
       "      <th>38</th>\n",
       "      <td>avg_total_ic_mou_627</td>\n",
       "      <td>0.154763</td>\n",
       "      <td>0.003462</td>\n",
       "      <td>0.136312</td>\n",
       "    </tr>\n",
       "    <tr>\n",
       "      <th>39</th>\n",
       "      <td>avg_total_rech_amt_627</td>\n",
       "      <td>0.196080</td>\n",
       "      <td>-0.199398</td>\n",
       "      <td>0.232475</td>\n",
       "    </tr>\n",
       "    <tr>\n",
       "      <th>40</th>\n",
       "      <td>avg_ic_others_627</td>\n",
       "      <td>0.013515</td>\n",
       "      <td>-0.006124</td>\n",
       "      <td>0.037667</td>\n",
       "    </tr>\n",
       "    <tr>\n",
       "      <th>41</th>\n",
       "      <td>avg_og_others_627</td>\n",
       "      <td>0.007188</td>\n",
       "      <td>-0.084398</td>\n",
       "      <td>-0.042350</td>\n",
       "    </tr>\n",
       "    <tr>\n",
       "      <th>42</th>\n",
       "      <td>avg_spl_og_mou_627</td>\n",
       "      <td>0.033930</td>\n",
       "      <td>-0.087444</td>\n",
       "      <td>-0.044439</td>\n",
       "    </tr>\n",
       "    <tr>\n",
       "      <th>43</th>\n",
       "      <td>avg_std_ic_mou_627</td>\n",
       "      <td>0.084697</td>\n",
       "      <td>-0.033953</td>\n",
       "      <td>0.052908</td>\n",
       "    </tr>\n",
       "    <tr>\n",
       "      <th>44</th>\n",
       "      <td>avg_monthly_3g_627</td>\n",
       "      <td>0.023420</td>\n",
       "      <td>0.142422</td>\n",
       "      <td>0.206383</td>\n",
       "    </tr>\n",
       "    <tr>\n",
       "      <th>45</th>\n",
       "      <td>avg_offnet_mou_627</td>\n",
       "      <td>0.130335</td>\n",
       "      <td>-0.228446</td>\n",
       "      <td>0.036424</td>\n",
       "    </tr>\n",
       "    <tr>\n",
       "      <th>46</th>\n",
       "      <td>avg_total_og_mou_627</td>\n",
       "      <td>0.166246</td>\n",
       "      <td>-0.307174</td>\n",
       "      <td>-0.015198</td>\n",
       "    </tr>\n",
       "    <tr>\n",
       "      <th>47</th>\n",
       "      <td>avg_sachet_2g_627</td>\n",
       "      <td>-0.072978</td>\n",
       "      <td>0.060983</td>\n",
       "      <td>-0.136872</td>\n",
       "    </tr>\n",
       "    <tr>\n",
       "      <th>48</th>\n",
       "      <td>avg_loc_og_mou_627</td>\n",
       "      <td>0.160006</td>\n",
       "      <td>-0.044086</td>\n",
       "      <td>0.065073</td>\n",
       "    </tr>\n",
       "    <tr>\n",
       "      <th>49</th>\n",
       "      <td>avg_std_og_mou_627</td>\n",
       "      <td>0.098282</td>\n",
       "      <td>-0.302706</td>\n",
       "      <td>-0.053459</td>\n",
       "    </tr>\n",
       "    <tr>\n",
       "      <th>50</th>\n",
       "      <td>avg_last_day_rch_amt_627</td>\n",
       "      <td>0.106746</td>\n",
       "      <td>0.043119</td>\n",
       "      <td>0.231483</td>\n",
       "    </tr>\n",
       "    <tr>\n",
       "      <th>51</th>\n",
       "      <td>avg_isd_og_mou_627</td>\n",
       "      <td>0.037883</td>\n",
       "      <td>-0.066907</td>\n",
       "      <td>0.177611</td>\n",
       "    </tr>\n",
       "    <tr>\n",
       "      <th>52</th>\n",
       "      <td>avg_spl_ic_mou_627</td>\n",
       "      <td>0.007835</td>\n",
       "      <td>-0.018589</td>\n",
       "      <td>-0.024246</td>\n",
       "    </tr>\n",
       "    <tr>\n",
       "      <th>53</th>\n",
       "      <td>avg_loc_ic_mou_627</td>\n",
       "      <td>0.133533</td>\n",
       "      <td>0.022148</td>\n",
       "      <td>0.111195</td>\n",
       "    </tr>\n",
       "    <tr>\n",
       "      <th>54</th>\n",
       "      <td>avg_isd_ic_mou_627</td>\n",
       "      <td>0.037129</td>\n",
       "      <td>-0.002225</td>\n",
       "      <td>0.120391</td>\n",
       "    </tr>\n",
       "    <tr>\n",
       "      <th>55</th>\n",
       "      <td>avg_total_rech_num_627</td>\n",
       "      <td>0.064379</td>\n",
       "      <td>-0.180392</td>\n",
       "      <td>-0.111917</td>\n",
       "    </tr>\n",
       "    <tr>\n",
       "      <th>56</th>\n",
       "      <td>avg_roam_ic_mou_627</td>\n",
       "      <td>0.029837</td>\n",
       "      <td>-0.011742</td>\n",
       "      <td>0.053684</td>\n",
       "    </tr>\n",
       "    <tr>\n",
       "      <th>57</th>\n",
       "      <td>avg_vol_3g_mb_627</td>\n",
       "      <td>0.013192</td>\n",
       "      <td>0.169881</td>\n",
       "      <td>0.188079</td>\n",
       "    </tr>\n",
       "    <tr>\n",
       "      <th>58</th>\n",
       "      <td>aon_years</td>\n",
       "      <td>0.070186</td>\n",
       "      <td>0.079824</td>\n",
       "      <td>0.052723</td>\n",
       "    </tr>\n",
       "    <tr>\n",
       "      <th>59</th>\n",
       "      <td>arpu_diff</td>\n",
       "      <td>0.120265</td>\n",
       "      <td>0.263824</td>\n",
       "      <td>-0.242844</td>\n",
       "    </tr>\n",
       "    <tr>\n",
       "      <th>60</th>\n",
       "      <td>total_rech_amt_diff</td>\n",
       "      <td>0.115249</td>\n",
       "      <td>0.265670</td>\n",
       "      <td>-0.246855</td>\n",
       "    </tr>\n",
       "    <tr>\n",
       "      <th>61</th>\n",
       "      <td>total_og_diff</td>\n",
       "      <td>0.077439</td>\n",
       "      <td>0.286580</td>\n",
       "      <td>-0.158887</td>\n",
       "    </tr>\n",
       "    <tr>\n",
       "      <th>62</th>\n",
       "      <td>total_ic_diff</td>\n",
       "      <td>0.060473</td>\n",
       "      <td>0.134960</td>\n",
       "      <td>-0.145065</td>\n",
       "    </tr>\n",
       "  </tbody>\n",
       "</table>\n",
       "<p>63 rows × 4 columns</p>\n",
       "</div>"
      ],
      "text/plain": [
       "                     Feature       PC1       PC2       PC3\n",
       "0   arpu_8                    0.308411  0.069059 -0.018149\n",
       "1   onnet_mou_8               0.206818 -0.057807 -0.156218\n",
       "2   offnet_mou_8              0.242550 -0.029680 -0.106100\n",
       "3   roam_ic_mou_8             0.027910 -0.020238  0.025314\n",
       "4   roam_og_mou_8             0.076029 -0.017646  0.048159\n",
       "5   loc_og_mou_8              0.213219  0.056274 -0.018224\n",
       "6   std_og_mou_8              0.203247 -0.096185 -0.210942\n",
       "7   isd_og_mou_8              0.068506 -0.008196  0.101471\n",
       "8   spl_og_mou_8              0.078054 -0.005831 -0.096834\n",
       "9   og_others_8               0.006112  0.008538 -0.013690\n",
       "10  total_og_mou_8            0.279372 -0.054840 -0.188545\n",
       "11  loc_ic_mou_8              0.195630  0.116737  0.021077\n",
       "12  std_ic_mou_8              0.118158  0.032813 -0.001810\n",
       "13  total_ic_mou_8            0.217469  0.115665  0.027068\n",
       "14  spl_ic_mou_8              0.029576  0.033207 -0.028776\n",
       "15  isd_ic_mou_8              0.057354  0.035726  0.065542\n",
       "16  ic_others_8               0.032493  0.019821 -0.003457\n",
       "17  total_rech_num_8          0.167499 -0.001670 -0.222479\n",
       "18  total_rech_amt_8          0.308442  0.078204 -0.026813\n",
       "19  max_rech_amt_8            0.189778  0.141606  0.134377\n",
       "20  last_day_rch_amt_8        0.153354  0.128898  0.115731\n",
       "21  vol_2g_mb_8               0.000037  0.097181 -0.068531\n",
       "22  vol_3g_mb_8               0.058080  0.177844  0.164011\n",
       "23  monthly_2g_8              0.015927  0.117019  0.010747\n",
       "24  sachet_2g_8              -0.009355  0.067756 -0.129629\n",
       "25  monthly_3g_8              0.058734  0.161475  0.153025\n",
       "26  sachet_3g_8               0.019856  0.052805 -0.011837\n",
       "27  vbc_3g_8                  0.047483  0.164011  0.158897\n",
       "28  last_rech_days_8         -0.107204 -0.055798  0.111294\n",
       "29  avg_roam_og_mou_627       0.055667 -0.027859  0.057011\n",
       "..                  ...            ...       ...       ...\n",
       "33  avg_max_rech_amt_627      0.103178  0.063146  0.272371\n",
       "34  avg_last_rech_days_627   -0.084971  0.046037  0.087105\n",
       "35  avg_vol_2g_mb_627        -0.053581  0.091996 -0.056443\n",
       "36  avg_vbc_3g_627            0.020706  0.168307  0.185877\n",
       "37  avg_monthly_2g_627       -0.013792  0.118794  0.027575\n",
       "38  avg_total_ic_mou_627      0.154763  0.003462  0.136312\n",
       "39  avg_total_rech_amt_627    0.196080 -0.199398  0.232475\n",
       "40  avg_ic_others_627         0.013515 -0.006124  0.037667\n",
       "41  avg_og_others_627         0.007188 -0.084398 -0.042350\n",
       "42  avg_spl_og_mou_627        0.033930 -0.087444 -0.044439\n",
       "43  avg_std_ic_mou_627        0.084697 -0.033953  0.052908\n",
       "44  avg_monthly_3g_627        0.023420  0.142422  0.206383\n",
       "45  avg_offnet_mou_627        0.130335 -0.228446  0.036424\n",
       "46  avg_total_og_mou_627      0.166246 -0.307174 -0.015198\n",
       "47  avg_sachet_2g_627        -0.072978  0.060983 -0.136872\n",
       "48  avg_loc_og_mou_627        0.160006 -0.044086  0.065073\n",
       "49  avg_std_og_mou_627        0.098282 -0.302706 -0.053459\n",
       "50  avg_last_day_rch_amt_627  0.106746  0.043119  0.231483\n",
       "51  avg_isd_og_mou_627        0.037883 -0.066907  0.177611\n",
       "52  avg_spl_ic_mou_627        0.007835 -0.018589 -0.024246\n",
       "53  avg_loc_ic_mou_627        0.133533  0.022148  0.111195\n",
       "54  avg_isd_ic_mou_627        0.037129 -0.002225  0.120391\n",
       "55  avg_total_rech_num_627    0.064379 -0.180392 -0.111917\n",
       "56  avg_roam_ic_mou_627       0.029837 -0.011742  0.053684\n",
       "57  avg_vol_3g_mb_627         0.013192  0.169881  0.188079\n",
       "58  aon_years                 0.070186  0.079824  0.052723\n",
       "59  arpu_diff                 0.120265  0.263824 -0.242844\n",
       "60  total_rech_amt_diff       0.115249  0.265670 -0.246855\n",
       "61  total_og_diff             0.077439  0.286580 -0.158887\n",
       "62  total_ic_diff             0.060473  0.134960 -0.145065\n",
       "\n",
       "[63 rows x 4 columns]"
      ]
     },
     "execution_count": 266,
     "metadata": {},
     "output_type": "execute_result"
    }
   ],
   "source": [
    "colnames = list(model_df.columns)\n",
    "pca_df = pd.DataFrame({ 'Feature':colnames,'PC1':pca.components_[0],'PC2':pca.components_[1],'PC3':pca.components_[2]})\n",
    "pca_df"
   ]
  },
  {
   "cell_type": "code",
   "execution_count": 267,
   "metadata": {
    "scrolled": true
   },
   "outputs": [
    {
     "data": {
      "text/plain": [
       "array([[ 3.08410651e-01,  2.06818248e-01,  2.42550280e-01, ...,\n",
       "         1.15248580e-01,  7.74389447e-02,  6.04730971e-02],\n",
       "       [ 6.90588126e-02, -5.78069249e-02, -2.96804239e-02, ...,\n",
       "         2.65669956e-01,  2.86579824e-01,  1.34959731e-01],\n",
       "       [-1.81493558e-02, -1.56218141e-01, -1.06100427e-01, ...,\n",
       "        -2.46854586e-01, -1.58886637e-01, -1.45065361e-01],\n",
       "       ...,\n",
       "       [-0.00000000e+00,  2.11274806e-15,  2.13255650e-15, ...,\n",
       "        -3.31651804e-01, -3.22807572e-01,  2.96608363e-01],\n",
       "       [ 0.00000000e+00, -2.94666043e-15, -2.86280144e-15, ...,\n",
       "         6.27988561e-02,  3.84771740e-01,  3.58354465e-01],\n",
       "       [-5.78575093e-01, -3.33066907e-16, -2.77555756e-16, ...,\n",
       "        -2.01227923e-16, -2.95406061e-14, -1.25829902e-13]])"
      ]
     },
     "execution_count": 267,
     "metadata": {},
     "output_type": "execute_result"
    }
   ],
   "source": [
    "### list the PCA components\n",
    "pca.components_"
   ]
  },
  {
   "cell_type": "code",
   "execution_count": 268,
   "metadata": {},
   "outputs": [
    {
     "data": {
      "text/plain": [
       "array([1.29111946e-01, 9.77667091e-02, 7.30196235e-02, 5.60216117e-02,\n",
       "       4.74508773e-02, 3.98161602e-02, 3.43526898e-02, 3.29649839e-02,\n",
       "       3.09895408e-02, 2.59864561e-02, 2.42723107e-02, 2.36002583e-02,\n",
       "       2.25570596e-02, 2.15664302e-02, 2.10733664e-02, 2.05551275e-02,\n",
       "       1.93127991e-02, 1.70739134e-02, 1.65334970e-02, 1.55523744e-02,\n",
       "       1.49369424e-02, 1.46073200e-02, 1.38171258e-02, 1.32488101e-02,\n",
       "       1.22878562e-02, 1.17945602e-02, 1.16100045e-02, 1.07607257e-02,\n",
       "       1.01664282e-02, 9.88084332e-03, 9.53044868e-03, 8.73308260e-03,\n",
       "       8.45237752e-03, 8.00132878e-03, 7.51346533e-03, 6.25162628e-03,\n",
       "       5.94420019e-03, 5.78953692e-03, 5.02090494e-03, 4.79576951e-03,\n",
       "       4.59492202e-03, 4.48491132e-03, 4.04630964e-03, 3.69167215e-03,\n",
       "       3.57699387e-03, 3.43518395e-03, 3.18810955e-03, 2.85082456e-03,\n",
       "       2.37719273e-03, 2.01192051e-03, 1.44918864e-03, 1.09992717e-03,\n",
       "       4.67464538e-04, 3.25898918e-06, 1.02854885e-06, 4.14171136e-12,\n",
       "       2.58725563e-12, 8.15866267e-13, 4.82168856e-13, 9.20792262e-34,\n",
       "       9.20792262e-34, 9.20792262e-34, 5.99770046e-36])"
      ]
     },
     "execution_count": 268,
     "metadata": {},
     "output_type": "execute_result"
    }
   ],
   "source": [
    "### Variance Ratio\n",
    "pca.explained_variance_ratio_"
   ]
  },
  {
   "cell_type": "markdown",
   "metadata": {},
   "source": [
    "#### Scree Plot"
   ]
  },
  {
   "cell_type": "code",
   "execution_count": 269,
   "metadata": {},
   "outputs": [
    {
     "data": {
      "image/png": "[encoded data removed]",
      "text/plain": [
       "<Figure size 864x576 with 1 Axes>"
      ]
     },
     "metadata": {
      "needs_background": "light"
     },
     "output_type": "display_data"
    }
   ],
   "source": [
    "plt.figure(figsize = (12,8))\n",
    "plt.plot(np.cumsum(pca.explained_variance_ratio_))\n",
    "plt.xlabel('Number of components')\n",
    "plt.ylabel('Cumulative Explained variance')\n",
    "plt.rc('grid', linestyle=\"-\", color='gainsboro')\n",
    "plt.yticks(np.arange(0, 1.0, 0.05))\n",
    "plt.xticks(np.arange(0, 75, 2))\n",
    "plt.grid()\n",
    "plt.show()"
   ]
  },
  {
   "cell_type": "markdown",
   "metadata": {},
   "source": [
    "> <div class=\"alert alert-block alert-info\">\n",
    "    <span style=\"color:black\"><b>Inference:</b>Close to 95% of the data is explined by 36 components </span>\n",
    "</div>\n"
   ]
  },
  {
   "cell_type": "markdown",
   "metadata": {},
   "source": [
    "> ### <span style=\"color:#008abc\"><b>2a. PCA with 36 components & Logistic Regression</b></span>"
   ]
  },
  {
   "cell_type": "code",
   "execution_count": 270,
   "metadata": {},
   "outputs": [],
   "source": [
    "from sklearn.decomposition import PCA\n",
    "pca_36 = PCA(n_components=36)\n",
    "X_train_pca_36 = pca_36.fit_transform(X_train)\n",
    "X_test_pca_36 = pca_36.transform(X_test)\n",
    "logreg_pca = LogisticRegression(class_weight='balanced')\n",
    "logreg_pca.fit(X_train_pca_36,y_train)\n",
    "\n",
    "y_pred_pca_36 = logreg_pca.predict(X_test_pca_36)\n",
    "y_pred_pca = pd.DataFrame(data=y_pred_pca_36)"
   ]
  },
  {
   "cell_type": "markdown",
   "metadata": {},
   "source": [
    "> ### Metrics"
   ]
  },
  {
   "cell_type": "code",
   "execution_count": 271,
   "metadata": {},
   "outputs": [
    {
     "name": "stdout",
     "output_type": "stream",
     "text": [
      "Accuracy score: 0.8334470989761092\n",
      "F1 score: 0.8298465829846583\n",
      "\n",
      "Classification Report:\n",
      "               precision    recall  f1-score   support\n",
      "\n",
      "           0       0.85      0.83      0.84       758\n",
      "           1       0.82      0.84      0.83       707\n",
      "\n",
      "    accuracy                           0.83      1465\n",
      "   macro avg       0.83      0.83      0.83      1465\n",
      "weighted avg       0.83      0.83      0.83      1465\n",
      "\n",
      "\n",
      "Confusion Matrix:\n",
      " [[626 132]\n",
      " [112 595]]\n"
     ]
    }
   ],
   "source": [
    "from sklearn import metrics\n",
    "\n",
    "print(\"Accuracy score:\",metrics.accuracy_score(y_test,y_pred_pca_36))\n",
    "print(\"F1 score:\",metrics.f1_score(y_test,y_pred_pca_36))\n",
    "print(\"\\nClassification Report:\\n\",metrics.classification_report(y_test, y_pred_pca_36))\n",
    "print(\"\\nConfusion Matrix:\\n\", metrics.confusion_matrix(y_test,y_pred_pca_36))"
   ]
  },
  {
   "cell_type": "markdown",
   "metadata": {},
   "source": [
    "> <div class=\"alert alert-block alert-info\">\n",
    "    <span style=\"color:black\"><b>Inference:</b> Metrics for PCA with 36 components, with Logistic Regression: \n",
    "    <b><ul>\n",
    "        <li>Accuracy: 83% </li>\n",
    "        <li>Precision: 82% </li>\n",
    "        <li>Recall: 84% </li>\n",
    "        <li>F1 score: 83% </li>\n",
    "        </ul></b>\n",
    "    </span>\n",
    "</div>\n"
   ]
  },
  {
   "cell_type": "markdown",
   "metadata": {},
   "source": [
    "> ### <span style=\"color:#008abc\"><b>3. LASSO & Decision Tree</b></span>"
   ]
  },
  {
   "cell_type": "code",
   "execution_count": 272,
   "metadata": {},
   "outputs": [
    {
     "data": {
      "text/plain": [
       "(3417, 63)"
      ]
     },
     "execution_count": 272,
     "metadata": {},
     "output_type": "execute_result"
    }
   ],
   "source": [
    "from sklearn.model_selection import train_test_split\n",
    "## Split into training and test datasets\n",
    "X_train,X_test,y_train,y_test = train_test_split(X,y,train_size=0.7,test_size=0.3,random_state=42)\n",
    "\n",
    "## Scale the columns\n",
    "from sklearn.preprocessing import StandardScaler\n",
    "scaler = StandardScaler()\n",
    "X_train = scaler.fit_transform(X_train)\n",
    "X_test = scaler.transform(X_test)\n",
    "X_train.shape"
   ]
  },
  {
   "cell_type": "code",
   "execution_count": 275,
   "metadata": {},
   "outputs": [
    {
     "name": "stdout",
     "output_type": "stream",
     "text": [
      "(3417, 10)\n",
      "[ 5 11 13 22 23 24 28 59 60 61]\n"
     ]
    }
   ],
   "source": [
    "from sklearn.svm import LinearSVC\n",
    "from sklearn.feature_selection import SelectFromModel\n",
    " \n",
    "lsvc = LinearSVC(C=0.001, penalty=\"l1\", dual=False).fit(X_train, y_train)\n",
    "model = SelectFromModel(lsvc, prefit=True)\n",
    "X_train_lasso = model.transform(X_train)\n",
    "ind = model.get_support(indices=True)\n",
    "\n",
    "print(X_train_lasso.shape)\n",
    "print(ind)"
   ]
  },
  {
   "cell_type": "code",
   "execution_count": 276,
   "metadata": {},
   "outputs": [
    {
     "name": "stdout",
     "output_type": "stream",
     "text": [
      "['loc_og_mou_8', 'loc_ic_mou_8', 'total_ic_mou_8', 'vol_3g_mb_8', 'monthly_2g_8', 'sachet_2g_8', 'last_rech_days_8', 'arpu_diff', 'total_rech_amt_diff', 'total_og_diff']\n"
     ]
    }
   ],
   "source": [
    "## Feature vector for decision tree\n",
    "lasso_features = list(model_df.columns[ind])\n",
    "print(lasso_features)"
   ]
  },
  {
   "cell_type": "markdown",
   "metadata": {},
   "source": [
    "### <span style=\"color:#008abc\"><b> 3a. Decision Tree with default hyperparameter</b></span>"
   ]
  },
  {
   "cell_type": "code",
   "execution_count": 277,
   "metadata": {},
   "outputs": [
    {
     "data": {
      "text/plain": [
       "DecisionTreeClassifier(class_weight='balanced', criterion='gini', max_depth=5,\n",
       "                       max_features=None, max_leaf_nodes=None,\n",
       "                       min_impurity_decrease=0.0, min_impurity_split=None,\n",
       "                       min_samples_leaf=1, min_samples_split=2,\n",
       "                       min_weight_fraction_leaf=0.0, presort=False,\n",
       "                       random_state=None, splitter='best')"
      ]
     },
     "execution_count": 277,
     "metadata": {},
     "output_type": "execute_result"
    }
   ],
   "source": [
    "# Importing decision tree classifier from sklearn library\n",
    "from sklearn.tree import DecisionTreeClassifier\n",
    "from sklearn import tree\n",
    "\n",
    "# Fitting the decision tree with default hyperparameters, apart from\n",
    "# max_depth which is 5 so that we can plot and read the tree.\n",
    "dt_default = DecisionTreeClassifier(max_depth=5,class_weight='balanced')\n",
    "dt_default.fit(X_train_lasso, y_train)"
   ]
  },
  {
   "cell_type": "code",
   "execution_count": 278,
   "metadata": {},
   "outputs": [],
   "source": [
    "X_test_lasso = pd.DataFrame(data=X_test).iloc[:, ind]\n",
    "y_pred_lasso = dt_default.predict(X_test_lasso)"
   ]
  },
  {
   "cell_type": "markdown",
   "metadata": {},
   "source": [
    "> ### Metrics"
   ]
  },
  {
   "cell_type": "code",
   "execution_count": 279,
   "metadata": {},
   "outputs": [
    {
     "name": "stdout",
     "output_type": "stream",
     "text": [
      "Accuracy score: 0.8204778156996587\n",
      "\n",
      "Classification Report:\n",
      "               precision    recall  f1-score   support\n",
      "\n",
      "           0       0.83      0.82      0.82       758\n",
      "           1       0.81      0.83      0.82       707\n",
      "\n",
      "    accuracy                           0.82      1465\n",
      "   macro avg       0.82      0.82      0.82      1465\n",
      "weighted avg       0.82      0.82      0.82      1465\n",
      "\n",
      "\n",
      "Confusion Matrix:\n",
      " [[618 140]\n",
      " [123 584]]\n"
     ]
    }
   ],
   "source": [
    "from sklearn import metrics\n",
    "\n",
    "print(\"Accuracy score:\",metrics.accuracy_score(y_test,y_pred_lasso))\n",
    "print(\"\\nClassification Report:\\n\",metrics.classification_report(y_test, y_pred_lasso))\n",
    "print(\"\\nConfusion Matrix:\\n\", metrics.confusion_matrix(y_test,y_pred_lasso))"
   ]
  },
  {
   "cell_type": "markdown",
   "metadata": {},
   "source": [
    "> <div class=\"alert alert-block alert-info\">\n",
    "    <span style=\"color:black\"><b>Inference:</b> Decision tree(Default hyperparameters) with LASSO. \n",
    "    <b><ul>\n",
    "        <li>Accuracy: 82% </li>\n",
    "        <li>Precision: 81% </li>\n",
    "        <li>Recall: 83% </li>\n",
    "        <li>F1 score: 82% </li>\n",
    "        </ul></b>\n",
    "    </span>\n",
    "</div>\n"
   ]
  },
  {
   "cell_type": "markdown",
   "metadata": {},
   "source": [
    ">### <span style=\"color:#008abc\"><b> Tuning Hyperparameters:</b></span>"
   ]
  },
  {
   "cell_type": "markdown",
   "metadata": {},
   "source": [
    "> #### <span style=\"color:#008abc\"><b> Tuning max_depth:</b></span>"
   ]
  },
  {
   "cell_type": "code",
   "execution_count": 300,
   "metadata": {},
   "outputs": [
    {
     "data": {
      "text/plain": [
       "GridSearchCV(cv=5, error_score='raise-deprecating',\n",
       "             estimator=DecisionTreeClassifier(class_weight='balanced',\n",
       "                                              criterion='gini', max_depth=None,\n",
       "                                              max_features=None,\n",
       "                                              max_leaf_nodes=None,\n",
       "                                              min_impurity_decrease=0.0,\n",
       "                                              min_impurity_split=None,\n",
       "                                              min_samples_leaf=1,\n",
       "                                              min_samples_split=2,\n",
       "                                              min_weight_fraction_leaf=0.0,\n",
       "                                              presort=False, random_state=100,\n",
       "                                              splitter='best'),\n",
       "             iid='warn', n_jobs=None, param_grid={'max_depth': range(1, 40)},\n",
       "             pre_dispatch='2*n_jobs', refit=True, return_train_score=True,\n",
       "             scoring='accuracy', verbose=0)"
      ]
     },
     "execution_count": 300,
     "metadata": {},
     "output_type": "execute_result"
    }
   ],
   "source": [
    "# GridSearchCV to find optimal max_depth\n",
    "from sklearn.model_selection import KFold\n",
    "from sklearn.model_selection import GridSearchCV\n",
    "\n",
    "# specify number of folds for k-fold CV\n",
    "n_folds = 5\n",
    "\n",
    "# parameters to build the model on\n",
    "parameters = {'max_depth': range(1, 40)}\n",
    "\n",
    "# instantiate the model\n",
    "dtree = DecisionTreeClassifier(criterion = \"gini\", class_weight='balanced',\n",
    "                               random_state = 100)\n",
    "\n",
    "# fit tree on training data\n",
    "tree = GridSearchCV(dtree, parameters, \n",
    "                    cv=n_folds, \n",
    "                   scoring=\"accuracy\",return_train_score=True)\n",
    "tree.fit(X_train_lasso, y_train)"
   ]
  },
  {
   "cell_type": "code",
   "execution_count": 301,
   "metadata": {},
   "outputs": [
    {
     "data": {
      "text/html": [
       "<div>\n",
       "<style scoped>\n",
       "    .dataframe tbody tr th:only-of-type {\n",
       "        vertical-align: middle;\n",
       "    }\n",
       "\n",
       "    .dataframe tbody tr th {\n",
       "        vertical-align: top;\n",
       "    }\n",
       "\n",
       "    .dataframe thead th {\n",
       "        text-align: right;\n",
       "    }\n",
       "</style>\n",
       "<table border=\"1\" class=\"dataframe\">\n",
       "  <thead>\n",
       "    <tr style=\"text-align: right;\">\n",
       "      <th></th>\n",
       "      <th>mean_fit_time</th>\n",
       "      <th>std_fit_time</th>\n",
       "      <th>mean_score_time</th>\n",
       "      <th>std_score_time</th>\n",
       "      <th>param_max_depth</th>\n",
       "      <th>params</th>\n",
       "      <th>split0_test_score</th>\n",
       "      <th>split1_test_score</th>\n",
       "      <th>split2_test_score</th>\n",
       "      <th>split3_test_score</th>\n",
       "      <th>...</th>\n",
       "      <th>mean_test_score</th>\n",
       "      <th>std_test_score</th>\n",
       "      <th>rank_test_score</th>\n",
       "      <th>split0_train_score</th>\n",
       "      <th>split1_train_score</th>\n",
       "      <th>split2_train_score</th>\n",
       "      <th>split3_train_score</th>\n",
       "      <th>split4_train_score</th>\n",
       "      <th>mean_train_score</th>\n",
       "      <th>std_train_score</th>\n",
       "    </tr>\n",
       "  </thead>\n",
       "  <tbody>\n",
       "    <tr>\n",
       "      <th>0</th>\n",
       "      <td>0.003789</td>\n",
       "      <td>0.000399</td>\n",
       "      <td>0.000798</td>\n",
       "      <td>0.000399</td>\n",
       "      <td>1</td>\n",
       "      <td>{'max_depth': 1}</td>\n",
       "      <td>0.776316</td>\n",
       "      <td>0.783626</td>\n",
       "      <td>0.754386</td>\n",
       "      <td>0.773060</td>\n",
       "      <td>...</td>\n",
       "      <td>0.773778</td>\n",
       "      <td>0.010395</td>\n",
       "      <td>12</td>\n",
       "      <td>0.779363</td>\n",
       "      <td>0.782291</td>\n",
       "      <td>0.790340</td>\n",
       "      <td>0.783102</td>\n",
       "      <td>0.773675</td>\n",
       "      <td>0.781754</td>\n",
       "      <td>0.005419</td>\n",
       "    </tr>\n",
       "    <tr>\n",
       "      <th>1</th>\n",
       "      <td>0.007180</td>\n",
       "      <td>0.000398</td>\n",
       "      <td>0.000599</td>\n",
       "      <td>0.000489</td>\n",
       "      <td>2</td>\n",
       "      <td>{'max_depth': 2}</td>\n",
       "      <td>0.769006</td>\n",
       "      <td>0.798246</td>\n",
       "      <td>0.777778</td>\n",
       "      <td>0.784773</td>\n",
       "      <td>...</td>\n",
       "      <td>0.787533</td>\n",
       "      <td>0.013971</td>\n",
       "      <td>8</td>\n",
       "      <td>0.791072</td>\n",
       "      <td>0.803879</td>\n",
       "      <td>0.811562</td>\n",
       "      <td>0.806511</td>\n",
       "      <td>0.806216</td>\n",
       "      <td>0.803848</td>\n",
       "      <td>0.006862</td>\n",
       "    </tr>\n",
       "    <tr>\n",
       "      <th>2</th>\n",
       "      <td>0.009772</td>\n",
       "      <td>0.002310</td>\n",
       "      <td>0.000999</td>\n",
       "      <td>0.000002</td>\n",
       "      <td>3</td>\n",
       "      <td>{'max_depth': 3}</td>\n",
       "      <td>0.793860</td>\n",
       "      <td>0.815789</td>\n",
       "      <td>0.792398</td>\n",
       "      <td>0.793558</td>\n",
       "      <td>...</td>\n",
       "      <td>0.802458</td>\n",
       "      <td>0.011271</td>\n",
       "      <td>4</td>\n",
       "      <td>0.814124</td>\n",
       "      <td>0.823637</td>\n",
       "      <td>0.830589</td>\n",
       "      <td>0.830285</td>\n",
       "      <td>0.820841</td>\n",
       "      <td>0.823895</td>\n",
       "      <td>0.006173</td>\n",
       "    </tr>\n",
       "    <tr>\n",
       "      <th>3</th>\n",
       "      <td>0.009907</td>\n",
       "      <td>0.005390</td>\n",
       "      <td>0.000399</td>\n",
       "      <td>0.000489</td>\n",
       "      <td>4</td>\n",
       "      <td>{'max_depth': 4}</td>\n",
       "      <td>0.807018</td>\n",
       "      <td>0.818713</td>\n",
       "      <td>0.789474</td>\n",
       "      <td>0.797950</td>\n",
       "      <td>...</td>\n",
       "      <td>0.805677</td>\n",
       "      <td>0.010824</td>\n",
       "      <td>3</td>\n",
       "      <td>0.824003</td>\n",
       "      <td>0.828028</td>\n",
       "      <td>0.841932</td>\n",
       "      <td>0.844550</td>\n",
       "      <td>0.827057</td>\n",
       "      <td>0.833114</td>\n",
       "      <td>0.008416</td>\n",
       "    </tr>\n",
       "    <tr>\n",
       "      <th>4</th>\n",
       "      <td>0.009373</td>\n",
       "      <td>0.007653</td>\n",
       "      <td>0.003124</td>\n",
       "      <td>0.006249</td>\n",
       "      <td>5</td>\n",
       "      <td>{'max_depth': 5}</td>\n",
       "      <td>0.811404</td>\n",
       "      <td>0.817251</td>\n",
       "      <td>0.792398</td>\n",
       "      <td>0.796486</td>\n",
       "      <td>...</td>\n",
       "      <td>0.808897</td>\n",
       "      <td>0.012875</td>\n",
       "      <td>2</td>\n",
       "      <td>0.841566</td>\n",
       "      <td>0.846323</td>\n",
       "      <td>0.852543</td>\n",
       "      <td>0.850402</td>\n",
       "      <td>0.840219</td>\n",
       "      <td>0.846211</td>\n",
       "      <td>0.004799</td>\n",
       "    </tr>\n",
       "  </tbody>\n",
       "</table>\n",
       "<p>5 rows × 21 columns</p>\n",
       "</div>"
      ],
      "text/plain": [
       "   mean_fit_time  std_fit_time  mean_score_time  std_score_time  \\\n",
       "0  0.003789       0.000399      0.000798         0.000399         \n",
       "1  0.007180       0.000398      0.000599         0.000489         \n",
       "2  0.009772       0.002310      0.000999         0.000002         \n",
       "3  0.009907       0.005390      0.000399         0.000489         \n",
       "4  0.009373       0.007653      0.003124         0.006249         \n",
       "\n",
       "  param_max_depth            params  split0_test_score  split1_test_score  \\\n",
       "0  1               {'max_depth': 1}  0.776316           0.783626            \n",
       "1  2               {'max_depth': 2}  0.769006           0.798246            \n",
       "2  3               {'max_depth': 3}  0.793860           0.815789            \n",
       "3  4               {'max_depth': 4}  0.807018           0.818713            \n",
       "4  5               {'max_depth': 5}  0.811404           0.817251            \n",
       "\n",
       "   split2_test_score  split3_test_score       ...         mean_test_score  \\\n",
       "0  0.754386           0.773060                ...         0.773778          \n",
       "1  0.777778           0.784773                ...         0.787533          \n",
       "2  0.792398           0.793558                ...         0.802458          \n",
       "3  0.789474           0.797950                ...         0.805677          \n",
       "4  0.792398           0.796486                ...         0.808897          \n",
       "\n",
       "   std_test_score  rank_test_score  split0_train_score  split1_train_score  \\\n",
       "0  0.010395        12               0.779363            0.782291             \n",
       "1  0.013971        8                0.791072            0.803879             \n",
       "2  0.011271        4                0.814124            0.823637             \n",
       "3  0.010824        3                0.824003            0.828028             \n",
       "4  0.012875        2                0.841566            0.846323             \n",
       "\n",
       "   split2_train_score  split3_train_score  split4_train_score  \\\n",
       "0  0.790340            0.783102            0.773675             \n",
       "1  0.811562            0.806511            0.806216             \n",
       "2  0.830589            0.830285            0.820841             \n",
       "3  0.841932            0.844550            0.827057             \n",
       "4  0.852543            0.850402            0.840219             \n",
       "\n",
       "   mean_train_score  std_train_score  \n",
       "0  0.781754          0.005419         \n",
       "1  0.803848          0.006862         \n",
       "2  0.823895          0.006173         \n",
       "3  0.833114          0.008416         \n",
       "4  0.846211          0.004799         \n",
       "\n",
       "[5 rows x 21 columns]"
      ]
     },
     "execution_count": 301,
     "metadata": {},
     "output_type": "execute_result"
    }
   ],
   "source": [
    "# scores of GridSearch CV\n",
    "scores = tree.cv_results_\n",
    "pd.DataFrame(scores).head()"
   ]
  },
  {
   "cell_type": "code",
   "execution_count": 303,
   "metadata": {},
   "outputs": [
    {
     "data": {
      "image/png": "[encoded data removed]",
      "text/plain": [
       "<Figure size 720x216 with 1 Axes>"
      ]
     },
     "metadata": {
      "needs_background": "light"
     },
     "output_type": "display_data"
    }
   ],
   "source": [
    "# plotting accuracies with max_depth\n",
    "plt.figure()\n",
    "plt.plot(scores[\"param_max_depth\"], \n",
    "         scores[\"mean_train_score\"], \n",
    "         label=\"training accuracy\")\n",
    "plt.plot(scores[\"param_max_depth\"], \n",
    "         scores[\"mean_test_score\"], \n",
    "         label=\"test accuracy\")\n",
    "plt.xlabel(\"max_depth\")\n",
    "plt.ylabel(\"Accuracy\")\n",
    "plt.legend()\n",
    "plt.grid()\n",
    "plt.show()"
   ]
  },
  {
   "cell_type": "markdown",
   "metadata": {},
   "source": [
    "> <div class=\"alert alert-block alert-info\">\n",
    "    <span style=\"color:black\"><b>Inference:</b>From the above graph <b>max_depth</b> of <b>10</b> seems to be optimal.\n",
    "    </span>\n",
    "</div>"
   ]
  },
  {
   "cell_type": "markdown",
   "metadata": {},
   "source": [
    "> #### <span style=\"color:#008abc\"><b> Tuning min_samples_split:</b></span>"
   ]
  },
  {
   "cell_type": "code",
   "execution_count": 304,
   "metadata": {},
   "outputs": [
    {
     "data": {
      "text/plain": [
       "GridSearchCV(cv=5, error_score='raise-deprecating',\n",
       "             estimator=DecisionTreeClassifier(class_weight='balanced',\n",
       "                                              criterion='gini', max_depth=None,\n",
       "                                              max_features=None,\n",
       "                                              max_leaf_nodes=None,\n",
       "                                              min_impurity_decrease=0.0,\n",
       "                                              min_impurity_split=None,\n",
       "                                              min_samples_leaf=1,\n",
       "                                              min_samples_split=2,\n",
       "                                              min_weight_fraction_leaf=0.0,\n",
       "                                              presort=False, random_state=100,\n",
       "                                              splitter='best'),\n",
       "             iid='warn', n_jobs=None,\n",
       "             param_grid={'min_samples_split': range(5, 200, 20)},\n",
       "             pre_dispatch='2*n_jobs', refit=True, return_train_score=True,\n",
       "             scoring='accuracy', verbose=0)"
      ]
     },
     "execution_count": 304,
     "metadata": {},
     "output_type": "execute_result"
    }
   ],
   "source": [
    "# GridSearchCV to find optimal min_samples_split\n",
    "from sklearn.model_selection import KFold\n",
    "from sklearn.model_selection import GridSearchCV\n",
    "\n",
    "\n",
    "# specify number of folds for k-fold CV\n",
    "n_folds = 5\n",
    "\n",
    "# parameters to build the model on\n",
    "parameters = {'min_samples_split': range(5, 200, 20)}\n",
    "\n",
    "# instantiate the model\n",
    "dtree = DecisionTreeClassifier(criterion = \"gini\", \n",
    "                               random_state = 100,class_weight='balanced')\n",
    "\n",
    "# fit tree on training data\n",
    "tree = GridSearchCV(dtree, parameters, \n",
    "                    cv=n_folds, \n",
    "                   scoring=\"accuracy\",return_train_score=True)\n",
    "tree.fit(X_train_lasso, y_train)"
   ]
  },
  {
   "cell_type": "code",
   "execution_count": 305,
   "metadata": {},
   "outputs": [
    {
     "data": {
      "text/html": [
       "<div>\n",
       "<style scoped>\n",
       "    .dataframe tbody tr th:only-of-type {\n",
       "        vertical-align: middle;\n",
       "    }\n",
       "\n",
       "    .dataframe tbody tr th {\n",
       "        vertical-align: top;\n",
       "    }\n",
       "\n",
       "    .dataframe thead th {\n",
       "        text-align: right;\n",
       "    }\n",
       "</style>\n",
       "<table border=\"1\" class=\"dataframe\">\n",
       "  <thead>\n",
       "    <tr style=\"text-align: right;\">\n",
       "      <th></th>\n",
       "      <th>mean_fit_time</th>\n",
       "      <th>std_fit_time</th>\n",
       "      <th>mean_score_time</th>\n",
       "      <th>std_score_time</th>\n",
       "      <th>param_min_samples_split</th>\n",
       "      <th>params</th>\n",
       "      <th>split0_test_score</th>\n",
       "      <th>split1_test_score</th>\n",
       "      <th>split2_test_score</th>\n",
       "      <th>split3_test_score</th>\n",
       "      <th>...</th>\n",
       "      <th>mean_test_score</th>\n",
       "      <th>std_test_score</th>\n",
       "      <th>rank_test_score</th>\n",
       "      <th>split0_train_score</th>\n",
       "      <th>split1_train_score</th>\n",
       "      <th>split2_train_score</th>\n",
       "      <th>split3_train_score</th>\n",
       "      <th>split4_train_score</th>\n",
       "      <th>mean_train_score</th>\n",
       "      <th>std_train_score</th>\n",
       "    </tr>\n",
       "  </thead>\n",
       "  <tbody>\n",
       "    <tr>\n",
       "      <th>0</th>\n",
       "      <td>0.018555</td>\n",
       "      <td>0.002419</td>\n",
       "      <td>0.000599</td>\n",
       "      <td>0.000489</td>\n",
       "      <td>5</td>\n",
       "      <td>{'min_samples_split': 5}</td>\n",
       "      <td>0.750000</td>\n",
       "      <td>0.779240</td>\n",
       "      <td>0.747076</td>\n",
       "      <td>0.759883</td>\n",
       "      <td>...</td>\n",
       "      <td>0.765584</td>\n",
       "      <td>0.017265</td>\n",
       "      <td>10</td>\n",
       "      <td>0.976217</td>\n",
       "      <td>0.981705</td>\n",
       "      <td>0.980973</td>\n",
       "      <td>0.976591</td>\n",
       "      <td>0.973675</td>\n",
       "      <td>0.977832</td>\n",
       "      <td>0.003043</td>\n",
       "    </tr>\n",
       "    <tr>\n",
       "      <th>1</th>\n",
       "      <td>0.013246</td>\n",
       "      <td>0.005123</td>\n",
       "      <td>0.000000</td>\n",
       "      <td>0.000000</td>\n",
       "      <td>25</td>\n",
       "      <td>{'min_samples_split': 25}</td>\n",
       "      <td>0.774854</td>\n",
       "      <td>0.796784</td>\n",
       "      <td>0.763158</td>\n",
       "      <td>0.784773</td>\n",
       "      <td>...</td>\n",
       "      <td>0.781680</td>\n",
       "      <td>0.011656</td>\n",
       "      <td>9</td>\n",
       "      <td>0.899744</td>\n",
       "      <td>0.896085</td>\n",
       "      <td>0.905232</td>\n",
       "      <td>0.902707</td>\n",
       "      <td>0.899817</td>\n",
       "      <td>0.900717</td>\n",
       "      <td>0.003084</td>\n",
       "    </tr>\n",
       "    <tr>\n",
       "      <th>2</th>\n",
       "      <td>0.015622</td>\n",
       "      <td>0.000003</td>\n",
       "      <td>0.000000</td>\n",
       "      <td>0.000000</td>\n",
       "      <td>45</td>\n",
       "      <td>{'min_samples_split': 45}</td>\n",
       "      <td>0.790936</td>\n",
       "      <td>0.798246</td>\n",
       "      <td>0.774854</td>\n",
       "      <td>0.786237</td>\n",
       "      <td>...</td>\n",
       "      <td>0.793679</td>\n",
       "      <td>0.014406</td>\n",
       "      <td>8</td>\n",
       "      <td>0.875229</td>\n",
       "      <td>0.878522</td>\n",
       "      <td>0.883644</td>\n",
       "      <td>0.882955</td>\n",
       "      <td>0.880073</td>\n",
       "      <td>0.880085</td>\n",
       "      <td>0.003064</td>\n",
       "    </tr>\n",
       "    <tr>\n",
       "      <th>3</th>\n",
       "      <td>0.003122</td>\n",
       "      <td>0.006243</td>\n",
       "      <td>0.003125</td>\n",
       "      <td>0.006250</td>\n",
       "      <td>65</td>\n",
       "      <td>{'min_samples_split': 65}</td>\n",
       "      <td>0.798246</td>\n",
       "      <td>0.814327</td>\n",
       "      <td>0.779240</td>\n",
       "      <td>0.787701</td>\n",
       "      <td>...</td>\n",
       "      <td>0.801873</td>\n",
       "      <td>0.018256</td>\n",
       "      <td>7</td>\n",
       "      <td>0.860959</td>\n",
       "      <td>0.866447</td>\n",
       "      <td>0.872302</td>\n",
       "      <td>0.866130</td>\n",
       "      <td>0.870567</td>\n",
       "      <td>0.867281</td>\n",
       "      <td>0.003950</td>\n",
       "    </tr>\n",
       "    <tr>\n",
       "      <th>4</th>\n",
       "      <td>0.015622</td>\n",
       "      <td>0.000005</td>\n",
       "      <td>0.000000</td>\n",
       "      <td>0.000000</td>\n",
       "      <td>85</td>\n",
       "      <td>{'min_samples_split': 85}</td>\n",
       "      <td>0.807018</td>\n",
       "      <td>0.823099</td>\n",
       "      <td>0.790936</td>\n",
       "      <td>0.799414</td>\n",
       "      <td>...</td>\n",
       "      <td>0.810945</td>\n",
       "      <td>0.015759</td>\n",
       "      <td>2</td>\n",
       "      <td>0.852543</td>\n",
       "      <td>0.859129</td>\n",
       "      <td>0.861690</td>\n",
       "      <td>0.861010</td>\n",
       "      <td>0.862523</td>\n",
       "      <td>0.859379</td>\n",
       "      <td>0.003597</td>\n",
       "    </tr>\n",
       "  </tbody>\n",
       "</table>\n",
       "<p>5 rows × 21 columns</p>\n",
       "</div>"
      ],
      "text/plain": [
       "   mean_fit_time  std_fit_time  mean_score_time  std_score_time  \\\n",
       "0  0.018555       0.002419      0.000599         0.000489         \n",
       "1  0.013246       0.005123      0.000000         0.000000         \n",
       "2  0.015622       0.000003      0.000000         0.000000         \n",
       "3  0.003122       0.006243      0.003125         0.006250         \n",
       "4  0.015622       0.000005      0.000000         0.000000         \n",
       "\n",
       "  param_min_samples_split                     params  split0_test_score  \\\n",
       "0  5                       {'min_samples_split': 5}   0.750000            \n",
       "1  25                      {'min_samples_split': 25}  0.774854            \n",
       "2  45                      {'min_samples_split': 45}  0.790936            \n",
       "3  65                      {'min_samples_split': 65}  0.798246            \n",
       "4  85                      {'min_samples_split': 85}  0.807018            \n",
       "\n",
       "   split1_test_score  split2_test_score  split3_test_score       ...         \\\n",
       "0  0.779240           0.747076           0.759883                ...          \n",
       "1  0.796784           0.763158           0.784773                ...          \n",
       "2  0.798246           0.774854           0.786237                ...          \n",
       "3  0.814327           0.779240           0.787701                ...          \n",
       "4  0.823099           0.790936           0.799414                ...          \n",
       "\n",
       "   mean_test_score  std_test_score  rank_test_score  split0_train_score  \\\n",
       "0  0.765584         0.017265        10               0.976217             \n",
       "1  0.781680         0.011656        9                0.899744             \n",
       "2  0.793679         0.014406        8                0.875229             \n",
       "3  0.801873         0.018256        7                0.860959             \n",
       "4  0.810945         0.015759        2                0.852543             \n",
       "\n",
       "   split1_train_score  split2_train_score  split3_train_score  \\\n",
       "0  0.981705            0.980973            0.976591             \n",
       "1  0.896085            0.905232            0.902707             \n",
       "2  0.878522            0.883644            0.882955             \n",
       "3  0.866447            0.872302            0.866130             \n",
       "4  0.859129            0.861690            0.861010             \n",
       "\n",
       "   split4_train_score  mean_train_score  std_train_score  \n",
       "0  0.973675            0.977832          0.003043         \n",
       "1  0.899817            0.900717          0.003084         \n",
       "2  0.880073            0.880085          0.003064         \n",
       "3  0.870567            0.867281          0.003950         \n",
       "4  0.862523            0.859379          0.003597         \n",
       "\n",
       "[5 rows x 21 columns]"
      ]
     },
     "execution_count": 305,
     "metadata": {},
     "output_type": "execute_result"
    }
   ],
   "source": [
    "# scores of GridSearch CV\n",
    "scores = tree.cv_results_\n",
    "pd.DataFrame(scores).head()"
   ]
  },
  {
   "cell_type": "code",
   "execution_count": 299,
   "metadata": {},
   "outputs": [
    {
     "name": "stdout",
     "output_type": "stream",
     "text": [
      "DecisionTreeClassifier(class_weight='balanced', criterion='entropy',\n",
      "                       max_depth=10, max_features=None, max_leaf_nodes=None,\n",
      "                       min_impurity_decrease=0.0, min_impurity_split=None,\n",
      "                       min_samples_leaf=25, min_samples_split=50,\n",
      "                       min_weight_fraction_leaf=0.0, presort=False,\n",
      "                       random_state=None, splitter='best')\n"
     ]
    }
   ],
   "source": [
    "print(grid_search.best_estimator_)"
   ]
  },
  {
   "cell_type": "code",
   "execution_count": 287,
   "metadata": {},
   "outputs": [
    {
     "data": {
      "image/png": "[encoded data removed]",
      "text/plain": [
       "<Figure size 720x216 with 1 Axes>"
      ]
     },
     "metadata": {
      "needs_background": "light"
     },
     "output_type": "display_data"
    }
   ],
   "source": [
    "# plotting accuracies with min_samples_leaf\n",
    "plt.figure()\n",
    "plt.plot(scores[\"param_min_samples_split\"], \n",
    "         scores[\"mean_train_score\"], \n",
    "         label=\"training accuracy\")\n",
    "plt.plot(scores[\"param_min_samples_split\"], \n",
    "         scores[\"mean_test_score\"], \n",
    "         label=\"test accuracy\")\n",
    "plt.xlabel(\"min_samples_split\")\n",
    "plt.ylabel(\"Accuracy\")\n",
    "plt.legend()\n",
    "plt.grid()\n",
    "plt.show()"
   ]
  },
  {
   "cell_type": "markdown",
   "metadata": {},
   "source": [
    "> <div class=\"alert alert-block alert-info\">\n",
    "    <span style=\"color:black\"><b>Inference:</b>From the above graph <b>min_samples_split</b> of <b>50</b> seems to be optimal.\n",
    "    </span>\n",
    "</div>"
   ]
  },
  {
   "cell_type": "markdown",
   "metadata": {},
   "source": [
    "> #### <span style=\"color:#008abc\"><b> Tuning min_samples_leaf:</b></span>"
   ]
  },
  {
   "cell_type": "code",
   "execution_count": 307,
   "metadata": {},
   "outputs": [
    {
     "data": {
      "text/plain": [
       "GridSearchCV(cv=5, error_score='raise-deprecating',\n",
       "             estimator=DecisionTreeClassifier(class_weight='balanced',\n",
       "                                              criterion='gini', max_depth=None,\n",
       "                                              max_features=None,\n",
       "                                              max_leaf_nodes=None,\n",
       "                                              min_impurity_decrease=0.0,\n",
       "                                              min_impurity_split=None,\n",
       "                                              min_samples_leaf=1,\n",
       "                                              min_samples_split=2,\n",
       "                                              min_weight_fraction_leaf=0.0,\n",
       "                                              presort=False, random_state=100,\n",
       "                                              splitter='best'),\n",
       "             iid='warn', n_jobs=None,\n",
       "             param_grid={'min_samples_leaf': range(5, 200, 20)},\n",
       "             pre_dispatch='2*n_jobs', refit=True, return_train_score=True,\n",
       "             scoring='accuracy', verbose=0)"
      ]
     },
     "execution_count": 307,
     "metadata": {},
     "output_type": "execute_result"
    }
   ],
   "source": [
    "# GridSearchCV to find optimal max_depth\n",
    "from sklearn.model_selection import KFold\n",
    "from sklearn.model_selection import GridSearchCV\n",
    "\n",
    "\n",
    "# specify number of folds for k-fold CV\n",
    "n_folds = 5\n",
    "\n",
    "# parameters to build the model on\n",
    "parameters = {'min_samples_leaf': range(5, 200, 20)}\n",
    "\n",
    "# instantiate the model\n",
    "dtree = DecisionTreeClassifier(criterion = \"gini\", class_weight='balanced',\n",
    "                               random_state = 100)\n",
    "\n",
    "# fit tree on training data\n",
    "tree = GridSearchCV(dtree, parameters, \n",
    "                    cv=n_folds, \n",
    "                   scoring=\"accuracy\",return_train_score=True)\n",
    "tree.fit(X_train_lasso, y_train)\n"
   ]
  },
  {
   "cell_type": "code",
   "execution_count": 308,
   "metadata": {},
   "outputs": [
    {
     "data": {
      "text/html": [
       "<div>\n",
       "<style scoped>\n",
       "    .dataframe tbody tr th:only-of-type {\n",
       "        vertical-align: middle;\n",
       "    }\n",
       "\n",
       "    .dataframe tbody tr th {\n",
       "        vertical-align: top;\n",
       "    }\n",
       "\n",
       "    .dataframe thead th {\n",
       "        text-align: right;\n",
       "    }\n",
       "</style>\n",
       "<table border=\"1\" class=\"dataframe\">\n",
       "  <thead>\n",
       "    <tr style=\"text-align: right;\">\n",
       "      <th></th>\n",
       "      <th>mean_fit_time</th>\n",
       "      <th>std_fit_time</th>\n",
       "      <th>mean_score_time</th>\n",
       "      <th>std_score_time</th>\n",
       "      <th>param_min_samples_leaf</th>\n",
       "      <th>params</th>\n",
       "      <th>split0_test_score</th>\n",
       "      <th>split1_test_score</th>\n",
       "      <th>split2_test_score</th>\n",
       "      <th>split3_test_score</th>\n",
       "      <th>...</th>\n",
       "      <th>mean_test_score</th>\n",
       "      <th>std_test_score</th>\n",
       "      <th>rank_test_score</th>\n",
       "      <th>split0_train_score</th>\n",
       "      <th>split1_train_score</th>\n",
       "      <th>split2_train_score</th>\n",
       "      <th>split3_train_score</th>\n",
       "      <th>split4_train_score</th>\n",
       "      <th>mean_train_score</th>\n",
       "      <th>std_train_score</th>\n",
       "    </tr>\n",
       "  </thead>\n",
       "  <tbody>\n",
       "    <tr>\n",
       "      <th>0</th>\n",
       "      <td>0.017155</td>\n",
       "      <td>0.002041</td>\n",
       "      <td>0.000801</td>\n",
       "      <td>0.000401</td>\n",
       "      <td>5</td>\n",
       "      <td>{'min_samples_leaf': 5}</td>\n",
       "      <td>0.769006</td>\n",
       "      <td>0.780702</td>\n",
       "      <td>0.769006</td>\n",
       "      <td>0.783309</td>\n",
       "      <td>...</td>\n",
       "      <td>0.781387</td>\n",
       "      <td>0.013166</td>\n",
       "      <td>10</td>\n",
       "      <td>0.911453</td>\n",
       "      <td>0.916941</td>\n",
       "      <td>0.918039</td>\n",
       "      <td>0.913314</td>\n",
       "      <td>0.911152</td>\n",
       "      <td>0.914180</td>\n",
       "      <td>0.002824</td>\n",
       "    </tr>\n",
       "    <tr>\n",
       "      <th>1</th>\n",
       "      <td>0.012565</td>\n",
       "      <td>0.001196</td>\n",
       "      <td>0.000599</td>\n",
       "      <td>0.000489</td>\n",
       "      <td>25</td>\n",
       "      <td>{'min_samples_leaf': 25}</td>\n",
       "      <td>0.807018</td>\n",
       "      <td>0.808480</td>\n",
       "      <td>0.793860</td>\n",
       "      <td>0.803807</td>\n",
       "      <td>...</td>\n",
       "      <td>0.805970</td>\n",
       "      <td>0.007404</td>\n",
       "      <td>7</td>\n",
       "      <td>0.847786</td>\n",
       "      <td>0.850348</td>\n",
       "      <td>0.849982</td>\n",
       "      <td>0.859912</td>\n",
       "      <td>0.847532</td>\n",
       "      <td>0.851112</td>\n",
       "      <td>0.004543</td>\n",
       "    </tr>\n",
       "    <tr>\n",
       "      <th>2</th>\n",
       "      <td>0.010371</td>\n",
       "      <td>0.000489</td>\n",
       "      <td>0.000399</td>\n",
       "      <td>0.000489</td>\n",
       "      <td>45</td>\n",
       "      <td>{'min_samples_leaf': 45}</td>\n",
       "      <td>0.828947</td>\n",
       "      <td>0.804094</td>\n",
       "      <td>0.792398</td>\n",
       "      <td>0.802343</td>\n",
       "      <td>...</td>\n",
       "      <td>0.810067</td>\n",
       "      <td>0.013571</td>\n",
       "      <td>2</td>\n",
       "      <td>0.833882</td>\n",
       "      <td>0.836809</td>\n",
       "      <td>0.837907</td>\n",
       "      <td>0.842721</td>\n",
       "      <td>0.835101</td>\n",
       "      <td>0.837284</td>\n",
       "      <td>0.003050</td>\n",
       "    </tr>\n",
       "    <tr>\n",
       "      <th>3</th>\n",
       "      <td>0.009374</td>\n",
       "      <td>0.000488</td>\n",
       "      <td>0.000399</td>\n",
       "      <td>0.000489</td>\n",
       "      <td>65</td>\n",
       "      <td>{'min_samples_leaf': 65}</td>\n",
       "      <td>0.807018</td>\n",
       "      <td>0.814327</td>\n",
       "      <td>0.802632</td>\n",
       "      <td>0.802343</td>\n",
       "      <td>...</td>\n",
       "      <td>0.808019</td>\n",
       "      <td>0.005201</td>\n",
       "      <td>4</td>\n",
       "      <td>0.823637</td>\n",
       "      <td>0.834248</td>\n",
       "      <td>0.835712</td>\n",
       "      <td>0.834309</td>\n",
       "      <td>0.828885</td>\n",
       "      <td>0.831358</td>\n",
       "      <td>0.004511</td>\n",
       "    </tr>\n",
       "    <tr>\n",
       "      <th>4</th>\n",
       "      <td>0.008576</td>\n",
       "      <td>0.000489</td>\n",
       "      <td>0.000599</td>\n",
       "      <td>0.000489</td>\n",
       "      <td>85</td>\n",
       "      <td>{'min_samples_leaf': 85}</td>\n",
       "      <td>0.801170</td>\n",
       "      <td>0.812865</td>\n",
       "      <td>0.801170</td>\n",
       "      <td>0.809663</td>\n",
       "      <td>...</td>\n",
       "      <td>0.810360</td>\n",
       "      <td>0.009502</td>\n",
       "      <td>1</td>\n",
       "      <td>0.821442</td>\n",
       "      <td>0.830589</td>\n",
       "      <td>0.833516</td>\n",
       "      <td>0.831383</td>\n",
       "      <td>0.826325</td>\n",
       "      <td>0.828651</td>\n",
       "      <td>0.004296</td>\n",
       "    </tr>\n",
       "  </tbody>\n",
       "</table>\n",
       "<p>5 rows × 21 columns</p>\n",
       "</div>"
      ],
      "text/plain": [
       "   mean_fit_time  std_fit_time  mean_score_time  std_score_time  \\\n",
       "0  0.017155       0.002041      0.000801         0.000401         \n",
       "1  0.012565       0.001196      0.000599         0.000489         \n",
       "2  0.010371       0.000489      0.000399         0.000489         \n",
       "3  0.009374       0.000488      0.000399         0.000489         \n",
       "4  0.008576       0.000489      0.000599         0.000489         \n",
       "\n",
       "  param_min_samples_leaf                    params  split0_test_score  \\\n",
       "0  5                      {'min_samples_leaf': 5}   0.769006            \n",
       "1  25                     {'min_samples_leaf': 25}  0.807018            \n",
       "2  45                     {'min_samples_leaf': 45}  0.828947            \n",
       "3  65                     {'min_samples_leaf': 65}  0.807018            \n",
       "4  85                     {'min_samples_leaf': 85}  0.801170            \n",
       "\n",
       "   split1_test_score  split2_test_score  split3_test_score       ...         \\\n",
       "0  0.780702           0.769006           0.783309                ...          \n",
       "1  0.808480           0.793860           0.803807                ...          \n",
       "2  0.804094           0.792398           0.802343                ...          \n",
       "3  0.814327           0.802632           0.802343                ...          \n",
       "4  0.812865           0.801170           0.809663                ...          \n",
       "\n",
       "   mean_test_score  std_test_score  rank_test_score  split0_train_score  \\\n",
       "0  0.781387         0.013166        10               0.911453             \n",
       "1  0.805970         0.007404        7                0.847786             \n",
       "2  0.810067         0.013571        2                0.833882             \n",
       "3  0.808019         0.005201        4                0.823637             \n",
       "4  0.810360         0.009502        1                0.821442             \n",
       "\n",
       "   split1_train_score  split2_train_score  split3_train_score  \\\n",
       "0  0.916941            0.918039            0.913314             \n",
       "1  0.850348            0.849982            0.859912             \n",
       "2  0.836809            0.837907            0.842721             \n",
       "3  0.834248            0.835712            0.834309             \n",
       "4  0.830589            0.833516            0.831383             \n",
       "\n",
       "   split4_train_score  mean_train_score  std_train_score  \n",
       "0  0.911152            0.914180          0.002824         \n",
       "1  0.847532            0.851112          0.004543         \n",
       "2  0.835101            0.837284          0.003050         \n",
       "3  0.828885            0.831358          0.004511         \n",
       "4  0.826325            0.828651          0.004296         \n",
       "\n",
       "[5 rows x 21 columns]"
      ]
     },
     "execution_count": 308,
     "metadata": {},
     "output_type": "execute_result"
    }
   ],
   "source": [
    "# scores of GridSearch CV\n",
    "scores = tree.cv_results_\n",
    "pd.DataFrame(scores).head()"
   ]
  },
  {
   "cell_type": "code",
   "execution_count": 310,
   "metadata": {},
   "outputs": [
    {
     "data": {
      "image/png": "[encoded data removed]",
      "text/plain": [
       "<Figure size 720x216 with 1 Axes>"
      ]
     },
     "metadata": {
      "needs_background": "light"
     },
     "output_type": "display_data"
    }
   ],
   "source": [
    "plt.figure()\n",
    "plt.plot(scores[\"param_min_samples_leaf\"], \n",
    "         scores[\"mean_train_score\"], \n",
    "         label=\"training accuracy\")\n",
    "plt.plot(scores[\"param_min_samples_leaf\"], \n",
    "         scores[\"mean_test_score\"], \n",
    "         label=\"test accuracy\")\n",
    "plt.xlabel(\"min_samples_leaf\")\n",
    "plt.ylabel(\"Accuracy\")\n",
    "plt.legend()\n",
    "plt.grid()\n",
    "plt.show()"
   ]
  },
  {
   "cell_type": "markdown",
   "metadata": {},
   "source": [
    "> <div class=\"alert alert-block alert-info\">\n",
    "    <span style=\"color:black\"><b>Inference:</b>From the above graph <b>min_samples_leaft</b> of <b>25</b> seems to be optimal.\n",
    "    </span>\n",
    "</div>"
   ]
  },
  {
   "cell_type": "markdown",
   "metadata": {},
   "source": [
    "### <span style=\"color:#008abc\"><b> 3b. Decision Tree with tuned hyperparameters</b></span>"
   ]
  },
  {
   "cell_type": "code",
   "execution_count": 311,
   "metadata": {},
   "outputs": [
    {
     "name": "stdout",
     "output_type": "stream",
     "text": [
      "Fitting 5 folds for each of 8 candidates, totalling 40 fits\n"
     ]
    },
    {
     "name": "stderr",
     "output_type": "stream",
     "text": [
      "[Parallel(n_jobs=1)]: Using backend SequentialBackend with 1 concurrent workers.\n",
      "[Parallel(n_jobs=1)]: Done  40 out of  40 | elapsed:    0.4s finished\n"
     ]
    },
    {
     "data": {
      "text/plain": [
       "GridSearchCV(cv=5, error_score='raise-deprecating',\n",
       "             estimator=DecisionTreeClassifier(class_weight='balanced',\n",
       "                                              criterion='gini', max_depth=None,\n",
       "                                              max_features=None,\n",
       "                                              max_leaf_nodes=None,\n",
       "                                              min_impurity_decrease=0.0,\n",
       "                                              min_impurity_split=None,\n",
       "                                              min_samples_leaf=1,\n",
       "                                              min_samples_split=2,\n",
       "                                              min_weight_fraction_leaf=0.0,\n",
       "                                              presort=False, random_state=None,\n",
       "                                              splitter='best'),\n",
       "             iid='warn', n_jobs=None,\n",
       "             param_grid={'criterion': ['entropy', 'gini'],\n",
       "                         'max_depth': range(5, 15, 5),\n",
       "                         'min_samples_leaf': range(25, 100, 50),\n",
       "                         'min_samples_split': range(50, 100, 50)},\n",
       "             pre_dispatch='2*n_jobs', refit=True, return_train_score=False,\n",
       "             scoring=None, verbose=1)"
      ]
     },
     "execution_count": 311,
     "metadata": {},
     "output_type": "execute_result"
    }
   ],
   "source": [
    "# Create the parameter grid \n",
    "param_grid = {\n",
    "    'max_depth': range(5, 15, 5),\n",
    "    'min_samples_split': range(50, 100, 50),\n",
    "    'min_samples_leaf': range(25, 100, 50),\n",
    "    'criterion': [\"entropy\", \"gini\"]\n",
    "}\n",
    "\n",
    "n_folds = 5\n",
    "\n",
    "# Instantiate the grid search model\n",
    "dtree = DecisionTreeClassifier(class_weight='balanced')\n",
    "grid_search = GridSearchCV(estimator = dtree, param_grid = param_grid, \n",
    "                          cv = n_folds, verbose = 1)\n",
    "\n",
    "# Fit the grid search to the data\n",
    "grid_search.fit(X_train_lasso,y_train)"
   ]
  },
  {
   "cell_type": "code",
   "execution_count": 312,
   "metadata": {},
   "outputs": [
    {
     "data": {
      "text/html": [
       "<div>\n",
       "<style scoped>\n",
       "    .dataframe tbody tr th:only-of-type {\n",
       "        vertical-align: middle;\n",
       "    }\n",
       "\n",
       "    .dataframe tbody tr th {\n",
       "        vertical-align: top;\n",
       "    }\n",
       "\n",
       "    .dataframe thead th {\n",
       "        text-align: right;\n",
       "    }\n",
       "</style>\n",
       "<table border=\"1\" class=\"dataframe\">\n",
       "  <thead>\n",
       "    <tr style=\"text-align: right;\">\n",
       "      <th></th>\n",
       "      <th>mean_fit_time</th>\n",
       "      <th>std_fit_time</th>\n",
       "      <th>mean_score_time</th>\n",
       "      <th>std_score_time</th>\n",
       "      <th>param_criterion</th>\n",
       "      <th>param_max_depth</th>\n",
       "      <th>param_min_samples_leaf</th>\n",
       "      <th>param_min_samples_split</th>\n",
       "      <th>params</th>\n",
       "      <th>split0_test_score</th>\n",
       "      <th>split1_test_score</th>\n",
       "      <th>split2_test_score</th>\n",
       "      <th>split3_test_score</th>\n",
       "      <th>split4_test_score</th>\n",
       "      <th>mean_test_score</th>\n",
       "      <th>std_test_score</th>\n",
       "      <th>rank_test_score</th>\n",
       "    </tr>\n",
       "  </thead>\n",
       "  <tbody>\n",
       "    <tr>\n",
       "      <th>0</th>\n",
       "      <td>0.016348</td>\n",
       "      <td>0.001189</td>\n",
       "      <td>0.000605</td>\n",
       "      <td>0.000494</td>\n",
       "      <td>entropy</td>\n",
       "      <td>5</td>\n",
       "      <td>25</td>\n",
       "      <td>50</td>\n",
       "      <td>{'criterion': 'entropy', 'max_depth': 5, 'min_samples_leaf': 25, 'min_samples_split': 50}</td>\n",
       "      <td>0.823099</td>\n",
       "      <td>0.812865</td>\n",
       "      <td>0.80117</td>\n",
       "      <td>0.808199</td>\n",
       "      <td>0.828446</td>\n",
       "      <td>0.814750</td>\n",
       "      <td>0.009879</td>\n",
       "      <td>2</td>\n",
       "    </tr>\n",
       "    <tr>\n",
       "      <th>1</th>\n",
       "      <td>0.013576</td>\n",
       "      <td>0.002729</td>\n",
       "      <td>0.000399</td>\n",
       "      <td>0.000489</td>\n",
       "      <td>entropy</td>\n",
       "      <td>5</td>\n",
       "      <td>75</td>\n",
       "      <td>50</td>\n",
       "      <td>{'criterion': 'entropy', 'max_depth': 5, 'min_samples_leaf': 75, 'min_samples_split': 50}</td>\n",
       "      <td>0.828947</td>\n",
       "      <td>0.812865</td>\n",
       "      <td>0.78655</td>\n",
       "      <td>0.803807</td>\n",
       "      <td>0.821114</td>\n",
       "      <td>0.810653</td>\n",
       "      <td>0.014679</td>\n",
       "      <td>4</td>\n",
       "    </tr>\n",
       "  </tbody>\n",
       "</table>\n",
       "</div>"
      ],
      "text/plain": [
       "   mean_fit_time  std_fit_time  mean_score_time  std_score_time  \\\n",
       "0  0.016348       0.001189      0.000605         0.000494         \n",
       "1  0.013576       0.002729      0.000399         0.000489         \n",
       "\n",
       "  param_criterion param_max_depth param_min_samples_leaf  \\\n",
       "0  entropy         5               25                      \n",
       "1  entropy         5               75                      \n",
       "\n",
       "  param_min_samples_split  \\\n",
       "0  50                       \n",
       "1  50                       \n",
       "\n",
       "                                                                                      params  \\\n",
       "0  {'criterion': 'entropy', 'max_depth': 5, 'min_samples_leaf': 25, 'min_samples_split': 50}   \n",
       "1  {'criterion': 'entropy', 'max_depth': 5, 'min_samples_leaf': 75, 'min_samples_split': 50}   \n",
       "\n",
       "   split0_test_score  split1_test_score  split2_test_score  split3_test_score  \\\n",
       "0  0.823099           0.812865           0.80117            0.808199            \n",
       "1  0.828947           0.812865           0.78655            0.803807            \n",
       "\n",
       "   split4_test_score  mean_test_score  std_test_score  rank_test_score  \n",
       "0  0.828446           0.814750         0.009879        2                \n",
       "1  0.821114           0.810653         0.014679        4                "
      ]
     },
     "execution_count": 312,
     "metadata": {},
     "output_type": "execute_result"
    }
   ],
   "source": [
    "# cv results\n",
    "cv_results = pd.DataFrame(grid_search.cv_results_)\n",
    "cv_results.head(2)"
   ]
  },
  {
   "cell_type": "code",
   "execution_count": 313,
   "metadata": {},
   "outputs": [
    {
     "name": "stdout",
     "output_type": "stream",
     "text": [
      "Best Accuracy 0.8176763242610477\n",
      "DecisionTreeClassifier(class_weight='balanced', criterion='entropy',\n",
      "                       max_depth=10, max_features=None, max_leaf_nodes=None,\n",
      "                       min_impurity_decrease=0.0, min_impurity_split=None,\n",
      "                       min_samples_leaf=25, min_samples_split=50,\n",
      "                       min_weight_fraction_leaf=0.0, presort=False,\n",
      "                       random_state=None, splitter='best')\n"
     ]
    }
   ],
   "source": [
    "print(\"Best Accuracy\", grid_search.best_score_)\n",
    "print(grid_search.best_estimator_)"
   ]
  },
  {
   "cell_type": "code",
   "execution_count": 318,
   "metadata": {},
   "outputs": [
    {
     "data": {
      "text/plain": [
       "DecisionTreeClassifier(class_weight=None, criterion='gini', max_depth=10,\n",
       "                       max_features=None, max_leaf_nodes=None,\n",
       "                       min_impurity_decrease=0.0, min_impurity_split=None,\n",
       "                       min_samples_leaf=25, min_samples_split=50,\n",
       "                       min_weight_fraction_leaf=0.0, presort=False,\n",
       "                       random_state=None, splitter='best')"
      ]
     },
     "execution_count": 318,
     "metadata": {},
     "output_type": "execute_result"
    }
   ],
   "source": [
    "# model with optimal hyperparameters\n",
    "clf_gini = DecisionTreeClassifier(criterion = \"gini\", \n",
    "                                  max_depth=10, \n",
    "                                  min_samples_leaf=25,\n",
    "                                  min_samples_split=50)\n",
    "clf_gini.fit(X_train_lasso, y_train)"
   ]
  },
  {
   "cell_type": "code",
   "execution_count": 319,
   "metadata": {
    "scrolled": true
   },
   "outputs": [
    {
     "data": {
      "text/plain": [
       "0.821160409556314"
      ]
     },
     "execution_count": 319,
     "metadata": {},
     "output_type": "execute_result"
    }
   ],
   "source": [
    "# accuracy score\n",
    "clf_gini.score(X_test_lasso,y_test)"
   ]
  },
  {
   "cell_type": "code",
   "execution_count": 320,
   "metadata": {},
   "outputs": [],
   "source": [
    "y_pred_lasso = clf_gini.predict(X_test_lasso)"
   ]
  },
  {
   "cell_type": "markdown",
   "metadata": {},
   "source": [
    "> ### Metrics"
   ]
  },
  {
   "cell_type": "code",
   "execution_count": 321,
   "metadata": {},
   "outputs": [
    {
     "name": "stdout",
     "output_type": "stream",
     "text": [
      "Accuracy score: 0.821160409556314\n",
      "\n",
      "Classification Report:\n",
      "               precision    recall  f1-score   support\n",
      "\n",
      "           0       0.80      0.87      0.83       758\n",
      "           1       0.85      0.77      0.81       707\n",
      "\n",
      "    accuracy                           0.82      1465\n",
      "   macro avg       0.82      0.82      0.82      1465\n",
      "weighted avg       0.82      0.82      0.82      1465\n",
      "\n",
      "\n",
      "Confusion Matrix:\n",
      " [[661  97]\n",
      " [165 542]]\n"
     ]
    }
   ],
   "source": [
    "from sklearn import metrics\n",
    "\n",
    "print(\"Accuracy score:\",metrics.accuracy_score(y_test,y_pred_lasso))\n",
    "print(\"\\nClassification Report:\\n\",metrics.classification_report(y_test, y_pred_lasso))\n",
    "print(\"\\nConfusion Matrix:\\n\", metrics.confusion_matrix(y_test,y_pred_lasso))"
   ]
  },
  {
   "cell_type": "markdown",
   "metadata": {},
   "source": [
    "> <div class=\"alert alert-block alert-info\">\n",
    "    <span style=\"color:black\"><b>Decision Tree Inference:</b>\n",
    "        <ul>\n",
    "            <li>Accuracy of 82% is achieved, with the 8 features selected by lasso, after tuning the hyperparameters.</li>\n",
    "            <li>But recall has dropped to 77%</li>\n",
    "        </ul>\n",
    "    </span>\n",
    "</div>"
   ]
  },
  {
   "cell_type": "markdown",
   "metadata": {},
   "source": [
    "> ### <span style=\"color:#008abc\"><b>4.LASSO & Random Forest</b></span>"
   ]
  },
  {
   "cell_type": "code",
   "execution_count": 322,
   "metadata": {},
   "outputs": [],
   "source": [
    "from sklearn.model_selection import train_test_split\n",
    "## Split into training and test datasets\n",
    "X_train,X_test,y_train,y_test = train_test_split(X,y,train_size=0.7,test_size=0.3,random_state=42)\n",
    "\n",
    "## Scale the columns\n",
    "from sklearn.preprocessing import StandardScaler\n",
    "scaler = StandardScaler()\n",
    "X_train = scaler.fit_transform(X_train)\n",
    "X_test = scaler.transform(X_test)\n"
   ]
  },
  {
   "cell_type": "code",
   "execution_count": 323,
   "metadata": {},
   "outputs": [
    {
     "name": "stdout",
     "output_type": "stream",
     "text": [
      "(3417, 10)\n",
      "[ 5 11 13 22 23 24 28 59 60 61]\n"
     ]
    }
   ],
   "source": [
    "from sklearn.svm import LinearSVC\n",
    "from sklearn.feature_selection import SelectFromModel\n",
    " \n",
    "lsvc = LinearSVC(C=0.001, penalty=\"l1\", dual=False).fit(X_train, y_train)\n",
    "model = SelectFromModel(lsvc, prefit=True)\n",
    "X_train_lasso = model.transform(X_train)\n",
    "ind = model.get_support(indices=True)\n",
    "\n",
    "print(X_train_lasso.shape)\n",
    "print(ind)"
   ]
  },
  {
   "cell_type": "code",
   "execution_count": 324,
   "metadata": {},
   "outputs": [
    {
     "name": "stdout",
     "output_type": "stream",
     "text": [
      "['loc_og_mou_8', 'loc_ic_mou_8', 'total_ic_mou_8', 'vol_3g_mb_8', 'monthly_2g_8', 'sachet_2g_8', 'last_rech_days_8', 'arpu_diff', 'total_rech_amt_diff', 'total_og_diff']\n"
     ]
    }
   ],
   "source": [
    "## Feature vector for decision tree\n",
    "lasso_features = list(model_df.columns[ind])\n",
    "print(lasso_features)"
   ]
  },
  {
   "cell_type": "markdown",
   "metadata": {},
   "source": [
    "### <span style=\"color:#008abc\"><b> 4a. Random Forest with default hyperparameter</b></span>"
   ]
  },
  {
   "cell_type": "code",
   "execution_count": 325,
   "metadata": {},
   "outputs": [],
   "source": [
    "from sklearn.ensemble import RandomForestClassifier\n",
    "from sklearn import metrics\n",
    "\n",
    "model_rf = RandomForestClassifier()\n",
    "model_rf.fit(X_train_lasso, y_train)\n",
    "\n",
    "# Make predictions\n",
    "y_pred_lasso = model_rf.predict(X_test_lasso)"
   ]
  },
  {
   "cell_type": "markdown",
   "metadata": {},
   "source": [
    "> ### Metrics"
   ]
  },
  {
   "cell_type": "code",
   "execution_count": 327,
   "metadata": {},
   "outputs": [
    {
     "name": "stdout",
     "output_type": "stream",
     "text": [
      "Accuracy score: 0.8197952218430035\n",
      "\n",
      "Classification Report:\n",
      "               precision    recall  f1-score   support\n",
      "\n",
      "           0       0.80      0.87      0.83       758\n",
      "           1       0.84      0.77      0.80       707\n",
      "\n",
      "    accuracy                           0.82      1465\n",
      "   macro avg       0.82      0.82      0.82      1465\n",
      "weighted avg       0.82      0.82      0.82      1465\n",
      "\n",
      "\n",
      "Confusion Matrix:\n",
      " [[658 100]\n",
      " [164 543]]\n"
     ]
    }
   ],
   "source": [
    "from sklearn import metrics\n",
    "\n",
    "print(\"Accuracy score:\",metrics.accuracy_score(y_test,y_pred_lasso))\n",
    "print(\"\\nClassification Report:\\n\",metrics.classification_report(y_test, y_pred_lasso))\n",
    "print(\"\\nConfusion Matrix:\\n\", metrics.confusion_matrix(y_test,y_pred_lasso))"
   ]
  },
  {
   "cell_type": "markdown",
   "metadata": {},
   "source": [
    "> <div class=\"alert alert-block alert-info\">\n",
    "    <span style=\"color:black\"><b>Inference:</b> Random forest(Default hyperparameters) with LASSO. \n",
    "    <b><ul>\n",
    "        <li>Accuracy: 82% </li>\n",
    "        <li>Precision: 84% </li>\n",
    "        <li>Recall: 77% </li>\n",
    "        <li>F1 score: 80% </li>\n",
    "        </ul></b>\n",
    "    </span>\n",
    "</div>\n"
   ]
  },
  {
   "cell_type": "markdown",
   "metadata": {},
   "source": [
    ">### <span style=\"color:#008abc\"><b> Tuning Hyperparameters:</b></span>"
   ]
  },
  {
   "cell_type": "markdown",
   "metadata": {},
   "source": [
    "> #### <span style=\"color:#008abc\"><b> Tuning max_depth:</b></span>"
   ]
  },
  {
   "cell_type": "code",
   "execution_count": 328,
   "metadata": {},
   "outputs": [
    {
     "data": {
      "text/plain": [
       "GridSearchCV(cv=5, error_score='raise-deprecating',\n",
       "             estimator=RandomForestClassifier(bootstrap=True, class_weight=None,\n",
       "                                              criterion='gini', max_depth=None,\n",
       "                                              max_features='auto',\n",
       "                                              max_leaf_nodes=None,\n",
       "                                              min_impurity_decrease=0.0,\n",
       "                                              min_impurity_split=None,\n",
       "                                              min_samples_leaf=1,\n",
       "                                              min_samples_split=2,\n",
       "                                              min_weight_fraction_leaf=0.0,\n",
       "                                              n_estimators='warn', n_jobs=None,\n",
       "                                              oob_score=False,\n",
       "                                              random_state=None, verbose=0,\n",
       "                                              warm_start=False),\n",
       "             iid='warn', n_jobs=None, param_grid={'max_depth': range(2, 20)},\n",
       "             pre_dispatch='2*n_jobs', refit=True, return_train_score=True,\n",
       "             scoring='accuracy', verbose=0)"
      ]
     },
     "execution_count": 328,
     "metadata": {},
     "output_type": "execute_result"
    }
   ],
   "source": [
    "# GridSearchCV to find optimal max_depth\n",
    "from sklearn.model_selection import KFold\n",
    "from sklearn.model_selection import GridSearchCV\n",
    "\n",
    "# specify number of folds for k-fold CV\n",
    "n_folds = 5\n",
    "\n",
    "# parameters to build the model on\n",
    "parameters = {'max_depth': range(2, 20)}\n",
    "\n",
    "# instantiate the model\n",
    "rf = RandomForestClassifier()\n",
    "\n",
    "# fit tree on training data\n",
    "rf = GridSearchCV(rf, parameters, \n",
    "                    cv=n_folds, \n",
    "                   scoring=\"accuracy\",return_train_score=True)\n",
    "rf.fit(X_train_lasso, y_train)"
   ]
  },
  {
   "cell_type": "code",
   "execution_count": 329,
   "metadata": {},
   "outputs": [
    {
     "data": {
      "text/html": [
       "<div>\n",
       "<style scoped>\n",
       "    .dataframe tbody tr th:only-of-type {\n",
       "        vertical-align: middle;\n",
       "    }\n",
       "\n",
       "    .dataframe tbody tr th {\n",
       "        vertical-align: top;\n",
       "    }\n",
       "\n",
       "    .dataframe thead th {\n",
       "        text-align: right;\n",
       "    }\n",
       "</style>\n",
       "<table border=\"1\" class=\"dataframe\">\n",
       "  <thead>\n",
       "    <tr style=\"text-align: right;\">\n",
       "      <th></th>\n",
       "      <th>mean_fit_time</th>\n",
       "      <th>std_fit_time</th>\n",
       "      <th>mean_score_time</th>\n",
       "      <th>std_score_time</th>\n",
       "      <th>param_max_depth</th>\n",
       "      <th>params</th>\n",
       "      <th>split0_test_score</th>\n",
       "      <th>split1_test_score</th>\n",
       "      <th>split2_test_score</th>\n",
       "      <th>split3_test_score</th>\n",
       "      <th>...</th>\n",
       "      <th>mean_test_score</th>\n",
       "      <th>std_test_score</th>\n",
       "      <th>rank_test_score</th>\n",
       "      <th>split0_train_score</th>\n",
       "      <th>split1_train_score</th>\n",
       "      <th>split2_train_score</th>\n",
       "      <th>split3_train_score</th>\n",
       "      <th>split4_train_score</th>\n",
       "      <th>mean_train_score</th>\n",
       "      <th>std_train_score</th>\n",
       "    </tr>\n",
       "  </thead>\n",
       "  <tbody>\n",
       "    <tr>\n",
       "      <th>0</th>\n",
       "      <td>0.018945</td>\n",
       "      <td>0.002098</td>\n",
       "      <td>0.002791</td>\n",
       "      <td>2.128973e-03</td>\n",
       "      <td>2</td>\n",
       "      <td>{'max_depth': 2}</td>\n",
       "      <td>0.809942</td>\n",
       "      <td>0.821637</td>\n",
       "      <td>0.758772</td>\n",
       "      <td>0.796486</td>\n",
       "      <td>...</td>\n",
       "      <td>0.798068</td>\n",
       "      <td>0.021330</td>\n",
       "      <td>18</td>\n",
       "      <td>0.811196</td>\n",
       "      <td>0.817417</td>\n",
       "      <td>0.796195</td>\n",
       "      <td>0.830651</td>\n",
       "      <td>0.811700</td>\n",
       "      <td>0.813432</td>\n",
       "      <td>0.011113</td>\n",
       "    </tr>\n",
       "    <tr>\n",
       "      <th>1</th>\n",
       "      <td>0.019548</td>\n",
       "      <td>0.000798</td>\n",
       "      <td>0.001795</td>\n",
       "      <td>3.986836e-04</td>\n",
       "      <td>3</td>\n",
       "      <td>{'max_depth': 3}</td>\n",
       "      <td>0.828947</td>\n",
       "      <td>0.824561</td>\n",
       "      <td>0.826023</td>\n",
       "      <td>0.790630</td>\n",
       "      <td>...</td>\n",
       "      <td>0.818554</td>\n",
       "      <td>0.014111</td>\n",
       "      <td>15</td>\n",
       "      <td>0.823637</td>\n",
       "      <td>0.834248</td>\n",
       "      <td>0.831321</td>\n",
       "      <td>0.831017</td>\n",
       "      <td>0.821207</td>\n",
       "      <td>0.828286</td>\n",
       "      <td>0.004979</td>\n",
       "    </tr>\n",
       "    <tr>\n",
       "      <th>2</th>\n",
       "      <td>0.021542</td>\n",
       "      <td>0.001353</td>\n",
       "      <td>0.001995</td>\n",
       "      <td>1.168008e-07</td>\n",
       "      <td>4</td>\n",
       "      <td>{'max_depth': 4}</td>\n",
       "      <td>0.821637</td>\n",
       "      <td>0.820175</td>\n",
       "      <td>0.827485</td>\n",
       "      <td>0.797950</td>\n",
       "      <td>...</td>\n",
       "      <td>0.820018</td>\n",
       "      <td>0.011911</td>\n",
       "      <td>14</td>\n",
       "      <td>0.834248</td>\n",
       "      <td>0.832053</td>\n",
       "      <td>0.849616</td>\n",
       "      <td>0.840527</td>\n",
       "      <td>0.843144</td>\n",
       "      <td>0.839918</td>\n",
       "      <td>0.006306</td>\n",
       "    </tr>\n",
       "    <tr>\n",
       "      <th>3</th>\n",
       "      <td>0.024734</td>\n",
       "      <td>0.000746</td>\n",
       "      <td>0.001796</td>\n",
       "      <td>3.988744e-04</td>\n",
       "      <td>5</td>\n",
       "      <td>{'max_depth': 5}</td>\n",
       "      <td>0.837719</td>\n",
       "      <td>0.823099</td>\n",
       "      <td>0.821637</td>\n",
       "      <td>0.811127</td>\n",
       "      <td>...</td>\n",
       "      <td>0.826749</td>\n",
       "      <td>0.010805</td>\n",
       "      <td>4</td>\n",
       "      <td>0.846323</td>\n",
       "      <td>0.854007</td>\n",
       "      <td>0.852177</td>\n",
       "      <td>0.853694</td>\n",
       "      <td>0.848995</td>\n",
       "      <td>0.851039</td>\n",
       "      <td>0.002952</td>\n",
       "    </tr>\n",
       "    <tr>\n",
       "      <th>4</th>\n",
       "      <td>0.026758</td>\n",
       "      <td>0.001118</td>\n",
       "      <td>0.001596</td>\n",
       "      <td>7.981539e-04</td>\n",
       "      <td>6</td>\n",
       "      <td>{'max_depth': 6}</td>\n",
       "      <td>0.839181</td>\n",
       "      <td>0.830409</td>\n",
       "      <td>0.818713</td>\n",
       "      <td>0.814056</td>\n",
       "      <td>...</td>\n",
       "      <td>0.826749</td>\n",
       "      <td>0.009112</td>\n",
       "      <td>4</td>\n",
       "      <td>0.864618</td>\n",
       "      <td>0.864618</td>\n",
       "      <td>0.864618</td>\n",
       "      <td>0.868325</td>\n",
       "      <td>0.859963</td>\n",
       "      <td>0.864428</td>\n",
       "      <td>0.002654</td>\n",
       "    </tr>\n",
       "  </tbody>\n",
       "</table>\n",
       "<p>5 rows × 21 columns</p>\n",
       "</div>"
      ],
      "text/plain": [
       "   mean_fit_time  std_fit_time  mean_score_time  std_score_time  \\\n",
       "0  0.018945       0.002098      0.002791         2.128973e-03     \n",
       "1  0.019548       0.000798      0.001795         3.986836e-04     \n",
       "2  0.021542       0.001353      0.001995         1.168008e-07     \n",
       "3  0.024734       0.000746      0.001796         3.988744e-04     \n",
       "4  0.026758       0.001118      0.001596         7.981539e-04     \n",
       "\n",
       "  param_max_depth            params  split0_test_score  split1_test_score  \\\n",
       "0  2               {'max_depth': 2}  0.809942           0.821637            \n",
       "1  3               {'max_depth': 3}  0.828947           0.824561            \n",
       "2  4               {'max_depth': 4}  0.821637           0.820175            \n",
       "3  5               {'max_depth': 5}  0.837719           0.823099            \n",
       "4  6               {'max_depth': 6}  0.839181           0.830409            \n",
       "\n",
       "   split2_test_score  split3_test_score       ...         mean_test_score  \\\n",
       "0  0.758772           0.796486                ...         0.798068          \n",
       "1  0.826023           0.790630                ...         0.818554          \n",
       "2  0.827485           0.797950                ...         0.820018          \n",
       "3  0.821637           0.811127                ...         0.826749          \n",
       "4  0.818713           0.814056                ...         0.826749          \n",
       "\n",
       "   std_test_score  rank_test_score  split0_train_score  split1_train_score  \\\n",
       "0  0.021330        18               0.811196            0.817417             \n",
       "1  0.014111        15               0.823637            0.834248             \n",
       "2  0.011911        14               0.834248            0.832053             \n",
       "3  0.010805        4                0.846323            0.854007             \n",
       "4  0.009112        4                0.864618            0.864618             \n",
       "\n",
       "   split2_train_score  split3_train_score  split4_train_score  \\\n",
       "0  0.796195            0.830651            0.811700             \n",
       "1  0.831321            0.831017            0.821207             \n",
       "2  0.849616            0.840527            0.843144             \n",
       "3  0.852177            0.853694            0.848995             \n",
       "4  0.864618            0.868325            0.859963             \n",
       "\n",
       "   mean_train_score  std_train_score  \n",
       "0  0.813432          0.011113         \n",
       "1  0.828286          0.004979         \n",
       "2  0.839918          0.006306         \n",
       "3  0.851039          0.002952         \n",
       "4  0.864428          0.002654         \n",
       "\n",
       "[5 rows x 21 columns]"
      ]
     },
     "execution_count": 329,
     "metadata": {},
     "output_type": "execute_result"
    }
   ],
   "source": [
    "# scores of GridSearch CV\n",
    "scores = rf.cv_results_\n",
    "pd.DataFrame(scores).head()"
   ]
  },
  {
   "cell_type": "code",
   "execution_count": 331,
   "metadata": {},
   "outputs": [
    {
     "data": {
      "image/png": "[encoded data removed]",
      "text/plain": [
       "<Figure size 720x216 with 1 Axes>"
      ]
     },
     "metadata": {
      "needs_background": "light"
     },
     "output_type": "display_data"
    }
   ],
   "source": [
    "# plotting accuracies with max_depth\n",
    "plt.figure()\n",
    "plt.plot(scores[\"param_max_depth\"], \n",
    "         scores[\"mean_train_score\"], \n",
    "         label=\"training accuracy\")\n",
    "plt.plot(scores[\"param_max_depth\"], \n",
    "         scores[\"mean_test_score\"], \n",
    "         label=\"test accuracy\")\n",
    "plt.xlabel(\"max_depth\")\n",
    "plt.ylabel(\"Accuracy\")\n",
    "plt.legend()\n",
    "plt.grid()\n",
    "plt.show()"
   ]
  },
  {
   "cell_type": "markdown",
   "metadata": {},
   "source": [
    "> <div class=\"alert alert-block alert-info\">\n",
    "    <span style=\"color:black\"><b>Inference:</b>From the above graph <b>max_depth</b> of <b>8</b> seems to be optimal.\n",
    "    </span>\n",
    "</div>"
   ]
  },
  {
   "cell_type": "markdown",
   "metadata": {},
   "source": [
    "> #### <span style=\"color:#008abc\"><b> Tuning min_samples_split:</b></span>"
   ]
  },
  {
   "cell_type": "code",
   "execution_count": 335,
   "metadata": {},
   "outputs": [
    {
     "data": {
      "text/plain": [
       "GridSearchCV(cv=5, error_score='raise-deprecating',\n",
       "             estimator=RandomForestClassifier(bootstrap=True, class_weight=None,\n",
       "                                              criterion='gini', max_depth=None,\n",
       "                                              max_features='auto',\n",
       "                                              max_leaf_nodes=None,\n",
       "                                              min_impurity_decrease=0.0,\n",
       "                                              min_impurity_split=None,\n",
       "                                              min_samples_leaf=1,\n",
       "                                              min_samples_split=2,\n",
       "                                              min_weight_fraction_leaf=0.0,\n",
       "                                              n_estimators='warn', n_jobs=None,\n",
       "                                              oob_score=False,\n",
       "                                              random_state=None, verbose=0,\n",
       "                                              warm_start=False),\n",
       "             iid='warn', n_jobs=None,\n",
       "             param_grid={'min_samples_split': range(100, 500, 20)},\n",
       "             pre_dispatch='2*n_jobs', refit=True, return_train_score=True,\n",
       "             scoring='accuracy', verbose=0)"
      ]
     },
     "execution_count": 335,
     "metadata": {},
     "output_type": "execute_result"
    }
   ],
   "source": [
    "# GridSearchCV to find optimal min_samples_split\n",
    "from sklearn.model_selection import KFold\n",
    "from sklearn.model_selection import GridSearchCV\n",
    "\n",
    "\n",
    "# specify number of folds for k-fold CV\n",
    "n_folds = 5\n",
    "\n",
    "# parameters to build the model on\n",
    "parameters = {'min_samples_split': range(100, 500, 20)}\n",
    "\n",
    "# instantiate the model\n",
    "rf = RandomForestClassifier()\n",
    "\n",
    "# fit tree on training data\n",
    "rf = GridSearchCV(rf, parameters, \n",
    "                    cv=n_folds, \n",
    "                   scoring=\"accuracy\",return_train_score=True)\n",
    "rf.fit(X_train_lasso, y_train)"
   ]
  },
  {
   "cell_type": "code",
   "execution_count": 336,
   "metadata": {},
   "outputs": [
    {
     "data": {
      "text/html": [
       "<div>\n",
       "<style scoped>\n",
       "    .dataframe tbody tr th:only-of-type {\n",
       "        vertical-align: middle;\n",
       "    }\n",
       "\n",
       "    .dataframe tbody tr th {\n",
       "        vertical-align: top;\n",
       "    }\n",
       "\n",
       "    .dataframe thead th {\n",
       "        text-align: right;\n",
       "    }\n",
       "</style>\n",
       "<table border=\"1\" class=\"dataframe\">\n",
       "  <thead>\n",
       "    <tr style=\"text-align: right;\">\n",
       "      <th></th>\n",
       "      <th>mean_fit_time</th>\n",
       "      <th>std_fit_time</th>\n",
       "      <th>mean_score_time</th>\n",
       "      <th>std_score_time</th>\n",
       "      <th>param_min_samples_split</th>\n",
       "      <th>params</th>\n",
       "      <th>split0_test_score</th>\n",
       "      <th>split1_test_score</th>\n",
       "      <th>split2_test_score</th>\n",
       "      <th>split3_test_score</th>\n",
       "      <th>...</th>\n",
       "      <th>mean_test_score</th>\n",
       "      <th>std_test_score</th>\n",
       "      <th>rank_test_score</th>\n",
       "      <th>split0_train_score</th>\n",
       "      <th>split1_train_score</th>\n",
       "      <th>split2_train_score</th>\n",
       "      <th>split3_train_score</th>\n",
       "      <th>split4_train_score</th>\n",
       "      <th>mean_train_score</th>\n",
       "      <th>std_train_score</th>\n",
       "    </tr>\n",
       "  </thead>\n",
       "  <tbody>\n",
       "    <tr>\n",
       "      <th>0</th>\n",
       "      <td>0.030941</td>\n",
       "      <td>2.777969e-03</td>\n",
       "      <td>0.001987</td>\n",
       "      <td>1.774605e-03</td>\n",
       "      <td>100</td>\n",
       "      <td>{'min_samples_split': 100}</td>\n",
       "      <td>0.840643</td>\n",
       "      <td>0.826023</td>\n",
       "      <td>0.808480</td>\n",
       "      <td>0.812592</td>\n",
       "      <td>...</td>\n",
       "      <td>0.826163</td>\n",
       "      <td>0.014096</td>\n",
       "      <td>2</td>\n",
       "      <td>0.847786</td>\n",
       "      <td>0.851079</td>\n",
       "      <td>0.851079</td>\n",
       "      <td>0.858083</td>\n",
       "      <td>0.848995</td>\n",
       "      <td>0.851405</td>\n",
       "      <td>0.003570</td>\n",
       "    </tr>\n",
       "    <tr>\n",
       "      <th>1</th>\n",
       "      <td>0.030514</td>\n",
       "      <td>6.223882e-03</td>\n",
       "      <td>0.001996</td>\n",
       "      <td>7.776979e-07</td>\n",
       "      <td>120</td>\n",
       "      <td>{'min_samples_split': 120}</td>\n",
       "      <td>0.837719</td>\n",
       "      <td>0.818713</td>\n",
       "      <td>0.820175</td>\n",
       "      <td>0.819912</td>\n",
       "      <td>...</td>\n",
       "      <td>0.826749</td>\n",
       "      <td>0.008774</td>\n",
       "      <td>1</td>\n",
       "      <td>0.846689</td>\n",
       "      <td>0.842298</td>\n",
       "      <td>0.850714</td>\n",
       "      <td>0.846379</td>\n",
       "      <td>0.846069</td>\n",
       "      <td>0.846430</td>\n",
       "      <td>0.002669</td>\n",
       "    </tr>\n",
       "    <tr>\n",
       "      <th>2</th>\n",
       "      <td>0.027718</td>\n",
       "      <td>1.463500e-03</td>\n",
       "      <td>0.001995</td>\n",
       "      <td>4.862804e-07</td>\n",
       "      <td>140</td>\n",
       "      <td>{'min_samples_split': 140}</td>\n",
       "      <td>0.847953</td>\n",
       "      <td>0.821637</td>\n",
       "      <td>0.821637</td>\n",
       "      <td>0.802343</td>\n",
       "      <td>...</td>\n",
       "      <td>0.825285</td>\n",
       "      <td>0.014993</td>\n",
       "      <td>3</td>\n",
       "      <td>0.842664</td>\n",
       "      <td>0.845591</td>\n",
       "      <td>0.845957</td>\n",
       "      <td>0.847110</td>\n",
       "      <td>0.839122</td>\n",
       "      <td>0.844089</td>\n",
       "      <td>0.002883</td>\n",
       "    </tr>\n",
       "    <tr>\n",
       "      <th>3</th>\n",
       "      <td>0.027925</td>\n",
       "      <td>2.336015e-07</td>\n",
       "      <td>0.001995</td>\n",
       "      <td>2.780415e-07</td>\n",
       "      <td>160</td>\n",
       "      <td>{'min_samples_split': 160}</td>\n",
       "      <td>0.827485</td>\n",
       "      <td>0.827485</td>\n",
       "      <td>0.811404</td>\n",
       "      <td>0.818448</td>\n",
       "      <td>...</td>\n",
       "      <td>0.823822</td>\n",
       "      <td>0.007998</td>\n",
       "      <td>4</td>\n",
       "      <td>0.830589</td>\n",
       "      <td>0.832419</td>\n",
       "      <td>0.843030</td>\n",
       "      <td>0.846379</td>\n",
       "      <td>0.846069</td>\n",
       "      <td>0.839697</td>\n",
       "      <td>0.006816</td>\n",
       "    </tr>\n",
       "    <tr>\n",
       "      <th>4</th>\n",
       "      <td>0.026728</td>\n",
       "      <td>3.989459e-04</td>\n",
       "      <td>0.001796</td>\n",
       "      <td>3.988743e-04</td>\n",
       "      <td>180</td>\n",
       "      <td>{'min_samples_split': 180}</td>\n",
       "      <td>0.837719</td>\n",
       "      <td>0.823099</td>\n",
       "      <td>0.804094</td>\n",
       "      <td>0.809663</td>\n",
       "      <td>...</td>\n",
       "      <td>0.820603</td>\n",
       "      <td>0.012274</td>\n",
       "      <td>6</td>\n",
       "      <td>0.837175</td>\n",
       "      <td>0.834248</td>\n",
       "      <td>0.840834</td>\n",
       "      <td>0.837235</td>\n",
       "      <td>0.843876</td>\n",
       "      <td>0.838674</td>\n",
       "      <td>0.003336</td>\n",
       "    </tr>\n",
       "  </tbody>\n",
       "</table>\n",
       "<p>5 rows × 21 columns</p>\n",
       "</div>"
      ],
      "text/plain": [
       "   mean_fit_time  std_fit_time  mean_score_time  std_score_time  \\\n",
       "0  0.030941       2.777969e-03  0.001987         1.774605e-03     \n",
       "1  0.030514       6.223882e-03  0.001996         7.776979e-07     \n",
       "2  0.027718       1.463500e-03  0.001995         4.862804e-07     \n",
       "3  0.027925       2.336015e-07  0.001995         2.780415e-07     \n",
       "4  0.026728       3.989459e-04  0.001796         3.988743e-04     \n",
       "\n",
       "  param_min_samples_split                      params  split0_test_score  \\\n",
       "0  100                     {'min_samples_split': 100}  0.840643            \n",
       "1  120                     {'min_samples_split': 120}  0.837719            \n",
       "2  140                     {'min_samples_split': 140}  0.847953            \n",
       "3  160                     {'min_samples_split': 160}  0.827485            \n",
       "4  180                     {'min_samples_split': 180}  0.837719            \n",
       "\n",
       "   split1_test_score  split2_test_score  split3_test_score       ...         \\\n",
       "0  0.826023           0.808480           0.812592                ...          \n",
       "1  0.818713           0.820175           0.819912                ...          \n",
       "2  0.821637           0.821637           0.802343                ...          \n",
       "3  0.827485           0.811404           0.818448                ...          \n",
       "4  0.823099           0.804094           0.809663                ...          \n",
       "\n",
       "   mean_test_score  std_test_score  rank_test_score  split0_train_score  \\\n",
       "0  0.826163         0.014096        2                0.847786             \n",
       "1  0.826749         0.008774        1                0.846689             \n",
       "2  0.825285         0.014993        3                0.842664             \n",
       "3  0.823822         0.007998        4                0.830589             \n",
       "4  0.820603         0.012274        6                0.837175             \n",
       "\n",
       "   split1_train_score  split2_train_score  split3_train_score  \\\n",
       "0  0.851079            0.851079            0.858083             \n",
       "1  0.842298            0.850714            0.846379             \n",
       "2  0.845591            0.845957            0.847110             \n",
       "3  0.832419            0.843030            0.846379             \n",
       "4  0.834248            0.840834            0.837235             \n",
       "\n",
       "   split4_train_score  mean_train_score  std_train_score  \n",
       "0  0.848995            0.851405          0.003570         \n",
       "1  0.846069            0.846430          0.002669         \n",
       "2  0.839122            0.844089          0.002883         \n",
       "3  0.846069            0.839697          0.006816         \n",
       "4  0.843876            0.838674          0.003336         \n",
       "\n",
       "[5 rows x 21 columns]"
      ]
     },
     "execution_count": 336,
     "metadata": {},
     "output_type": "execute_result"
    }
   ],
   "source": [
    "# scores of GridSearch CV\n",
    "scores = rf.cv_results_\n",
    "pd.DataFrame(scores).head()"
   ]
  },
  {
   "cell_type": "code",
   "execution_count": 338,
   "metadata": {},
   "outputs": [
    {
     "data": {
      "image/png": "[encoded data removed]",
      "text/plain": [
       "<Figure size 720x216 with 1 Axes>"
      ]
     },
     "metadata": {
      "needs_background": "light"
     },
     "output_type": "display_data"
    }
   ],
   "source": [
    "# plotting accuracies with param_min_samples_split\n",
    "plt.figure()\n",
    "plt.plot(scores[\"param_min_samples_split\"], \n",
    "         scores[\"mean_train_score\"], \n",
    "         label=\"training accuracy\")\n",
    "plt.plot(scores[\"param_min_samples_split\"], \n",
    "         scores[\"mean_test_score\"], \n",
    "         label=\"test accuracy\")\n",
    "plt.xlabel(\"min_samples_split\")\n",
    "plt.ylabel(\"Accuracy\")\n",
    "plt.legend()\n",
    "plt.show()"
   ]
  },
  {
   "cell_type": "markdown",
   "metadata": {},
   "source": [
    "> <div class=\"alert alert-block alert-info\">\n",
    "    <span style=\"color:black\"><b>Inference:</b>From the above graph <b>min_samples_split</b> of <b>120</b> seems to be optimal.\n",
    "    </span>\n",
    "</div>"
   ]
  },
  {
   "cell_type": "markdown",
   "metadata": {},
   "source": [
    "> #### <span style=\"color:#008abc\"><b> Tuning max_features:</b></span>"
   ]
  },
  {
   "cell_type": "code",
   "execution_count": 339,
   "metadata": {},
   "outputs": [
    {
     "data": {
      "text/plain": [
       "GridSearchCV(cv=5, error_score='raise-deprecating',\n",
       "             estimator=RandomForestClassifier(bootstrap=True, class_weight=None,\n",
       "                                              criterion='gini', max_depth=5,\n",
       "                                              max_features='auto',\n",
       "                                              max_leaf_nodes=None,\n",
       "                                              min_impurity_decrease=0.0,\n",
       "                                              min_impurity_split=None,\n",
       "                                              min_samples_leaf=1,\n",
       "                                              min_samples_split=2,\n",
       "                                              min_weight_fraction_leaf=0.0,\n",
       "                                              n_estimators='warn', n_jobs=None,\n",
       "                                              oob_score=False,\n",
       "                                              random_state=None, verbose=0,\n",
       "                                              warm_start=False),\n",
       "             iid='warn', n_jobs=None, param_grid={'max_features': [2, 4, 6, 8]},\n",
       "             pre_dispatch='2*n_jobs', refit=True, return_train_score=True,\n",
       "             scoring='accuracy', verbose=0)"
      ]
     },
     "execution_count": 339,
     "metadata": {},
     "output_type": "execute_result"
    }
   ],
   "source": [
    "# GridSearchCV to find optimal max_depth\n",
    "from sklearn.model_selection import KFold\n",
    "from sklearn.model_selection import GridSearchCV\n",
    "\n",
    "\n",
    "# specify number of folds for k-fold CV\n",
    "n_folds = 5\n",
    "\n",
    "parameters = {'max_features': [2,4,6,8]}\n",
    "\n",
    "# instantiate the model\n",
    "rf = RandomForestClassifier(max_depth=5)\n",
    "\n",
    "\n",
    "# fit tree on training data\n",
    "rf = GridSearchCV(rf, parameters, \n",
    "                    cv=n_folds, \n",
    "                   scoring=\"accuracy\",return_train_score=True)\n",
    "rf.fit(X_train_lasso, y_train)\n"
   ]
  },
  {
   "cell_type": "code",
   "execution_count": 340,
   "metadata": {},
   "outputs": [
    {
     "data": {
      "text/html": [
       "<div>\n",
       "<style scoped>\n",
       "    .dataframe tbody tr th:only-of-type {\n",
       "        vertical-align: middle;\n",
       "    }\n",
       "\n",
       "    .dataframe tbody tr th {\n",
       "        vertical-align: top;\n",
       "    }\n",
       "\n",
       "    .dataframe thead th {\n",
       "        text-align: right;\n",
       "    }\n",
       "</style>\n",
       "<table border=\"1\" class=\"dataframe\">\n",
       "  <thead>\n",
       "    <tr style=\"text-align: right;\">\n",
       "      <th></th>\n",
       "      <th>mean_fit_time</th>\n",
       "      <th>std_fit_time</th>\n",
       "      <th>mean_score_time</th>\n",
       "      <th>std_score_time</th>\n",
       "      <th>param_max_features</th>\n",
       "      <th>params</th>\n",
       "      <th>split0_test_score</th>\n",
       "      <th>split1_test_score</th>\n",
       "      <th>split2_test_score</th>\n",
       "      <th>split3_test_score</th>\n",
       "      <th>...</th>\n",
       "      <th>mean_test_score</th>\n",
       "      <th>std_test_score</th>\n",
       "      <th>rank_test_score</th>\n",
       "      <th>split0_train_score</th>\n",
       "      <th>split1_train_score</th>\n",
       "      <th>split2_train_score</th>\n",
       "      <th>split3_train_score</th>\n",
       "      <th>split4_train_score</th>\n",
       "      <th>mean_train_score</th>\n",
       "      <th>std_train_score</th>\n",
       "    </tr>\n",
       "  </thead>\n",
       "  <tbody>\n",
       "    <tr>\n",
       "      <th>0</th>\n",
       "      <td>0.021787</td>\n",
       "      <td>0.004646</td>\n",
       "      <td>0.002002</td>\n",
       "      <td>0.001098</td>\n",
       "      <td>2</td>\n",
       "      <td>{'max_features': 2}</td>\n",
       "      <td>0.833333</td>\n",
       "      <td>0.827485</td>\n",
       "      <td>0.809942</td>\n",
       "      <td>0.802343</td>\n",
       "      <td>...</td>\n",
       "      <td>0.821773</td>\n",
       "      <td>0.013263</td>\n",
       "      <td>3</td>\n",
       "      <td>0.847420</td>\n",
       "      <td>0.854007</td>\n",
       "      <td>0.852543</td>\n",
       "      <td>0.848574</td>\n",
       "      <td>0.844607</td>\n",
       "      <td>0.849430</td>\n",
       "      <td>0.003425</td>\n",
       "    </tr>\n",
       "    <tr>\n",
       "      <th>1</th>\n",
       "      <td>0.028125</td>\n",
       "      <td>0.006254</td>\n",
       "      <td>0.003124</td>\n",
       "      <td>0.006249</td>\n",
       "      <td>4</td>\n",
       "      <td>{'max_features': 4}</td>\n",
       "      <td>0.824561</td>\n",
       "      <td>0.833333</td>\n",
       "      <td>0.830409</td>\n",
       "      <td>0.818448</td>\n",
       "      <td>...</td>\n",
       "      <td>0.829382</td>\n",
       "      <td>0.007426</td>\n",
       "      <td>1</td>\n",
       "      <td>0.850714</td>\n",
       "      <td>0.856202</td>\n",
       "      <td>0.854372</td>\n",
       "      <td>0.851134</td>\n",
       "      <td>0.850457</td>\n",
       "      <td>0.852576</td>\n",
       "      <td>0.002298</td>\n",
       "    </tr>\n",
       "    <tr>\n",
       "      <th>2</th>\n",
       "      <td>0.037492</td>\n",
       "      <td>0.007653</td>\n",
       "      <td>0.003124</td>\n",
       "      <td>0.006248</td>\n",
       "      <td>6</td>\n",
       "      <td>{'max_features': 6}</td>\n",
       "      <td>0.837719</td>\n",
       "      <td>0.820175</td>\n",
       "      <td>0.817251</td>\n",
       "      <td>0.811127</td>\n",
       "      <td>...</td>\n",
       "      <td>0.826163</td>\n",
       "      <td>0.012754</td>\n",
       "      <td>2</td>\n",
       "      <td>0.854007</td>\n",
       "      <td>0.859495</td>\n",
       "      <td>0.861690</td>\n",
       "      <td>0.860278</td>\n",
       "      <td>0.855576</td>\n",
       "      <td>0.858209</td>\n",
       "      <td>0.002921</td>\n",
       "    </tr>\n",
       "    <tr>\n",
       "      <th>3</th>\n",
       "      <td>0.049129</td>\n",
       "      <td>0.005032</td>\n",
       "      <td>0.001196</td>\n",
       "      <td>0.000977</td>\n",
       "      <td>8</td>\n",
       "      <td>{'max_features': 8}</td>\n",
       "      <td>0.828947</td>\n",
       "      <td>0.808480</td>\n",
       "      <td>0.811404</td>\n",
       "      <td>0.808199</td>\n",
       "      <td>...</td>\n",
       "      <td>0.819725</td>\n",
       "      <td>0.013365</td>\n",
       "      <td>4</td>\n",
       "      <td>0.854007</td>\n",
       "      <td>0.860959</td>\n",
       "      <td>0.863154</td>\n",
       "      <td>0.859546</td>\n",
       "      <td>0.853382</td>\n",
       "      <td>0.858210</td>\n",
       "      <td>0.003867</td>\n",
       "    </tr>\n",
       "  </tbody>\n",
       "</table>\n",
       "<p>4 rows × 21 columns</p>\n",
       "</div>"
      ],
      "text/plain": [
       "   mean_fit_time  std_fit_time  mean_score_time  std_score_time  \\\n",
       "0  0.021787       0.004646      0.002002         0.001098         \n",
       "1  0.028125       0.006254      0.003124         0.006249         \n",
       "2  0.037492       0.007653      0.003124         0.006248         \n",
       "3  0.049129       0.005032      0.001196         0.000977         \n",
       "\n",
       "  param_max_features               params  split0_test_score  \\\n",
       "0  2                  {'max_features': 2}  0.833333            \n",
       "1  4                  {'max_features': 4}  0.824561            \n",
       "2  6                  {'max_features': 6}  0.837719            \n",
       "3  8                  {'max_features': 8}  0.828947            \n",
       "\n",
       "   split1_test_score  split2_test_score  split3_test_score       ...         \\\n",
       "0  0.827485           0.809942           0.802343                ...          \n",
       "1  0.833333           0.830409           0.818448                ...          \n",
       "2  0.820175           0.817251           0.811127                ...          \n",
       "3  0.808480           0.811404           0.808199                ...          \n",
       "\n",
       "   mean_test_score  std_test_score  rank_test_score  split0_train_score  \\\n",
       "0  0.821773         0.013263        3                0.847420             \n",
       "1  0.829382         0.007426        1                0.850714             \n",
       "2  0.826163         0.012754        2                0.854007             \n",
       "3  0.819725         0.013365        4                0.854007             \n",
       "\n",
       "   split1_train_score  split2_train_score  split3_train_score  \\\n",
       "0  0.854007            0.852543            0.848574             \n",
       "1  0.856202            0.854372            0.851134             \n",
       "2  0.859495            0.861690            0.860278             \n",
       "3  0.860959            0.863154            0.859546             \n",
       "\n",
       "   split4_train_score  mean_train_score  std_train_score  \n",
       "0  0.844607            0.849430          0.003425         \n",
       "1  0.850457            0.852576          0.002298         \n",
       "2  0.855576            0.858209          0.002921         \n",
       "3  0.853382            0.858210          0.003867         \n",
       "\n",
       "[4 rows x 21 columns]"
      ]
     },
     "execution_count": 340,
     "metadata": {},
     "output_type": "execute_result"
    }
   ],
   "source": [
    "# scores of GridSearch CV\n",
    "scores = rf.cv_results_\n",
    "pd.DataFrame(scores).head()"
   ]
  },
  {
   "cell_type": "code",
   "execution_count": 342,
   "metadata": {},
   "outputs": [
    {
     "data": {
      "image/png": "[encoded data removed]",
      "text/plain": [
       "<Figure size 720x216 with 1 Axes>"
      ]
     },
     "metadata": {
      "needs_background": "light"
     },
     "output_type": "display_data"
    }
   ],
   "source": [
    "plt.figure()\n",
    "plt.plot(scores[\"param_max_features\"], \n",
    "         scores[\"mean_train_score\"], \n",
    "         label=\"training accuracy\")\n",
    "plt.plot(scores[\"param_max_features\"], \n",
    "         scores[\"mean_test_score\"], \n",
    "         label=\"test accuracy\")\n",
    "plt.xlabel(\"max_features\")\n",
    "plt.ylabel(\"Accuracy\")\n",
    "plt.legend()\n",
    "plt.show()"
   ]
  },
  {
   "cell_type": "markdown",
   "metadata": {},
   "source": [
    "> <div class=\"alert alert-block alert-info\">\n",
    "    <span style=\"color:black\"><b>Inference:</b>From the above graph <b>max_features</b> of <b>4</b> seems to be optimal.\n",
    "    </span>\n",
    "</div>"
   ]
  },
  {
   "cell_type": "markdown",
   "metadata": {},
   "source": [
    "> #### <span style=\"color:#008abc\"><b>Grid Search to Find Optimal Hyperparameters</b></span>"
   ]
  },
  {
   "cell_type": "code",
   "execution_count": 343,
   "metadata": {},
   "outputs": [
    {
     "name": "stdout",
     "output_type": "stream",
     "text": [
      "Fitting 3 folds for each of 36 candidates, totalling 108 fits\n"
     ]
    },
    {
     "name": "stderr",
     "output_type": "stream",
     "text": [
      "[Parallel(n_jobs=-1)]: Using backend LokyBackend with 4 concurrent workers.\n",
      "[Parallel(n_jobs=-1)]: Done  56 tasks      | elapsed:    3.2s\n",
      "[Parallel(n_jobs=-1)]: Done 108 out of 108 | elapsed:    4.0s finished\n"
     ]
    },
    {
     "data": {
      "text/plain": [
       "GridSearchCV(cv=3, error_score='raise-deprecating',\n",
       "             estimator=RandomForestClassifier(bootstrap=True, class_weight=None,\n",
       "                                              criterion='gini', max_depth=None,\n",
       "                                              max_features='auto',\n",
       "                                              max_leaf_nodes=None,\n",
       "                                              min_impurity_decrease=0.0,\n",
       "                                              min_impurity_split=None,\n",
       "                                              min_samples_leaf=1,\n",
       "                                              min_samples_split=2,\n",
       "                                              min_weight_fraction_leaf=0.0,\n",
       "                                              n_estimators='warn', n_jobs=None,\n",
       "                                              oob_score=False,\n",
       "                                              random_state=None, verbose=0,\n",
       "                                              warm_start=False),\n",
       "             iid='warn', n_jobs=-1,\n",
       "             param_grid={'max_depth': [4, 8, 10], 'max_features': [2, 4, 6, 8],\n",
       "                         'min_samples_split': range(50, 200, 50)},\n",
       "             pre_dispatch='2*n_jobs', refit=True, return_train_score=False,\n",
       "             scoring=None, verbose=1)"
      ]
     },
     "execution_count": 343,
     "metadata": {},
     "output_type": "execute_result"
    }
   ],
   "source": [
    "param_grid = {\n",
    "    'max_depth': [4,8,10],\n",
    "    'min_samples_split': range(50, 200, 50),\n",
    "    'max_features': [2,4,6,8]\n",
    "}\n",
    "# Create a based model\n",
    "rf = RandomForestClassifier()\n",
    "# Instantiate the grid search model\n",
    "grid_search = GridSearchCV(estimator = rf, param_grid = param_grid, \n",
    "                          cv = 3, n_jobs = -1,verbose = 1)\n",
    "## Fit the grid search to the data\n",
    "grid_search.fit(X_train_lasso, y_train)"
   ]
  },
  {
   "cell_type": "code",
   "execution_count": 344,
   "metadata": {
    "scrolled": true
   },
   "outputs": [
    {
     "data": {
      "text/html": [
       "<div>\n",
       "<style scoped>\n",
       "    .dataframe tbody tr th:only-of-type {\n",
       "        vertical-align: middle;\n",
       "    }\n",
       "\n",
       "    .dataframe tbody tr th {\n",
       "        vertical-align: top;\n",
       "    }\n",
       "\n",
       "    .dataframe thead th {\n",
       "        text-align: right;\n",
       "    }\n",
       "</style>\n",
       "<table border=\"1\" class=\"dataframe\">\n",
       "  <thead>\n",
       "    <tr style=\"text-align: right;\">\n",
       "      <th></th>\n",
       "      <th>mean_fit_time</th>\n",
       "      <th>std_fit_time</th>\n",
       "      <th>mean_score_time</th>\n",
       "      <th>std_score_time</th>\n",
       "      <th>param_max_depth</th>\n",
       "      <th>param_max_features</th>\n",
       "      <th>param_min_samples_split</th>\n",
       "      <th>params</th>\n",
       "      <th>split0_test_score</th>\n",
       "      <th>split1_test_score</th>\n",
       "      <th>split2_test_score</th>\n",
       "      <th>mean_test_score</th>\n",
       "      <th>std_test_score</th>\n",
       "      <th>rank_test_score</th>\n",
       "    </tr>\n",
       "  </thead>\n",
       "  <tbody>\n",
       "    <tr>\n",
       "      <th>0</th>\n",
       "      <td>0.031243</td>\n",
       "      <td>8.991328e-07</td>\n",
       "      <td>0.005207</td>\n",
       "      <td>0.007364</td>\n",
       "      <td>4</td>\n",
       "      <td>2</td>\n",
       "      <td>50</td>\n",
       "      <td>{'max_depth': 4, 'max_features': 2, 'min_samples_split': 50}</td>\n",
       "      <td>0.822651</td>\n",
       "      <td>0.820896</td>\n",
       "      <td>0.823529</td>\n",
       "      <td>0.822359</td>\n",
       "      <td>0.001095</td>\n",
       "      <td>22</td>\n",
       "    </tr>\n",
       "    <tr>\n",
       "      <th>1</th>\n",
       "      <td>0.031242</td>\n",
       "      <td>0.000000e+00</td>\n",
       "      <td>0.000000</td>\n",
       "      <td>0.000000</td>\n",
       "      <td>4</td>\n",
       "      <td>2</td>\n",
       "      <td>100</td>\n",
       "      <td>{'max_depth': 4, 'max_features': 2, 'min_samples_split': 100}</td>\n",
       "      <td>0.822651</td>\n",
       "      <td>0.819140</td>\n",
       "      <td>0.813872</td>\n",
       "      <td>0.818554</td>\n",
       "      <td>0.003608</td>\n",
       "      <td>32</td>\n",
       "    </tr>\n",
       "  </tbody>\n",
       "</table>\n",
       "</div>"
      ],
      "text/plain": [
       "   mean_fit_time  std_fit_time  mean_score_time  std_score_time  \\\n",
       "0  0.031243       8.991328e-07  0.005207         0.007364         \n",
       "1  0.031242       0.000000e+00  0.000000         0.000000         \n",
       "\n",
       "  param_max_depth param_max_features param_min_samples_split  \\\n",
       "0  4               2                  50                       \n",
       "1  4               2                  100                      \n",
       "\n",
       "                                                          params  \\\n",
       "0  {'max_depth': 4, 'max_features': 2, 'min_samples_split': 50}    \n",
       "1  {'max_depth': 4, 'max_features': 2, 'min_samples_split': 100}   \n",
       "\n",
       "   split0_test_score  split1_test_score  split2_test_score  mean_test_score  \\\n",
       "0  0.822651           0.820896           0.823529           0.822359          \n",
       "1  0.822651           0.819140           0.813872           0.818554          \n",
       "\n",
       "   std_test_score  rank_test_score  \n",
       "0  0.001095        22               \n",
       "1  0.003608        32               "
      ]
     },
     "execution_count": 344,
     "metadata": {},
     "output_type": "execute_result"
    }
   ],
   "source": [
    "# cv results\n",
    "cv_results = pd.DataFrame(grid_search.cv_results_)\n",
    "cv_results.head(2)"
   ]
  },
  {
   "cell_type": "code",
   "execution_count": 345,
   "metadata": {
    "scrolled": true
   },
   "outputs": [
    {
     "name": "stdout",
     "output_type": "stream",
     "text": [
      "Best Accuracy 0.832601697395376\n",
      "RandomForestClassifier(bootstrap=True, class_weight=None, criterion='gini',\n",
      "                       max_depth=10, max_features=8, max_leaf_nodes=None,\n",
      "                       min_impurity_decrease=0.0, min_impurity_split=None,\n",
      "                       min_samples_leaf=1, min_samples_split=50,\n",
      "                       min_weight_fraction_leaf=0.0, n_estimators=10,\n",
      "                       n_jobs=None, oob_score=False, random_state=None,\n",
      "                       verbose=0, warm_start=False)\n"
     ]
    }
   ],
   "source": [
    "print(\"Best Accuracy\", grid_search.best_score_)\n",
    "print(grid_search.best_estimator_)"
   ]
  },
  {
   "cell_type": "markdown",
   "metadata": {},
   "source": [
    "### <span style=\"color:#008abc\"><b> 4b. Random forest with tuned hyperparameter</b></span>"
   ]
  },
  {
   "cell_type": "code",
   "execution_count": 346,
   "metadata": {},
   "outputs": [
    {
     "data": {
      "text/plain": [
       "RandomForestClassifier(bootstrap=True, class_weight=None, criterion='gini',\n",
       "                       max_depth=10, max_features=8, max_leaf_nodes=None,\n",
       "                       min_impurity_decrease=0.0, min_impurity_split=None,\n",
       "                       min_samples_leaf=1, min_samples_split=50,\n",
       "                       min_weight_fraction_leaf=0.0, n_estimators=10,\n",
       "                       n_jobs=None, oob_score=False, random_state=None,\n",
       "                       verbose=0, warm_start=False)"
      ]
     },
     "execution_count": 346,
     "metadata": {},
     "output_type": "execute_result"
    }
   ],
   "source": [
    "from sklearn.ensemble import RandomForestClassifier\n",
    "rfc = RandomForestClassifier(bootstrap=True,\n",
    "                             max_depth=10, \n",
    "                             min_samples_split=50,\n",
    "                             max_features=8,\n",
    "                             )\n",
    "rfc.fit(X_train_lasso,y_train)"
   ]
  },
  {
   "cell_type": "code",
   "execution_count": 347,
   "metadata": {},
   "outputs": [],
   "source": [
    "y_pred_lasso = rfc.predict(X_test_lasso)"
   ]
  },
  {
   "cell_type": "markdown",
   "metadata": {},
   "source": [
    "> ### Metrics"
   ]
  },
  {
   "cell_type": "code",
   "execution_count": 348,
   "metadata": {
    "scrolled": true
   },
   "outputs": [
    {
     "name": "stdout",
     "output_type": "stream",
     "text": [
      "Accuracy score: 0.8382252559726963\n",
      "\n",
      "Classification Report:\n",
      "               precision    recall  f1-score   support\n",
      "\n",
      "           0       0.84      0.85      0.84       758\n",
      "           1       0.84      0.83      0.83       707\n",
      "\n",
      "    accuracy                           0.84      1465\n",
      "   macro avg       0.84      0.84      0.84      1465\n",
      "weighted avg       0.84      0.84      0.84      1465\n",
      "\n",
      "\n",
      "Confusion Matrix:\n",
      " [[643 115]\n",
      " [122 585]]\n"
     ]
    }
   ],
   "source": [
    "from sklearn import metrics\n",
    "\n",
    "print(\"Accuracy score:\",metrics.accuracy_score(y_test,y_pred_lasso))\n",
    "print(\"\\nClassification Report:\\n\",metrics.classification_report(y_test, y_pred_lasso))\n",
    "print(\"\\nConfusion Matrix:\\n\", metrics.confusion_matrix(y_test,y_pred_lasso))"
   ]
  },
  {
   "cell_type": "markdown",
   "metadata": {},
   "source": [
    "> <div class=\"alert alert-block alert-info\">\n",
    "    <span style=\"color:black\"><b>Inference:</b> Random forest(After tuning hyperparameters) with LASSO. \n",
    "    <b><ul>\n",
    "        <li>Accuracy: 84% </li>\n",
    "        <li>Precision: 84% </li>\n",
    "        <li>Recall: 83% </li>\n",
    "        <li>F1 score: 83% </li>\n",
    "        </ul></b>\n",
    "        <b>Features usggested by Lasso</b>: Features affecting churn\n",
    "        <li>'loc_og_mou_8', 'loc_ic_mou_8', 'total_ic_mou_8', 'vol_3g_mb_8', 'monthly_2g_8', 'sachet_2g_8', 'last_rech_days_8', 'arpu_diff', 'total_rech_amt_diff', 'total_og_diff'</li>\n",
    "    </span>\n",
    "</div>\n"
   ]
  },
  {
   "cell_type": "markdown",
   "metadata": {},
   "source": [
    "> ### <span style=\"color:#008abc\"><b>5.ADABOOST & Decision Tree</b></span>"
   ]
  },
  {
   "cell_type": "markdown",
   "metadata": {},
   "source": [
    "> ### <span style=\"color:#008abc\"><b> 5a. ADABOOST with hyperparameters</b></span>"
   ]
  },
  {
   "cell_type": "code",
   "execution_count": 361,
   "metadata": {},
   "outputs": [],
   "source": [
    "# adaboost classifier with max 600 decision trees of depth=2\n",
    "# learning_rate/shrinkage=1.5\n",
    "from sklearn.ensemble import AdaBoostClassifier\n",
    "# base estimator\n",
    "tree = DecisionTreeClassifier(max_depth=2)\n",
    "\n",
    "# adaboost with the tree as base estimator\n",
    "adaboost_model_1 = AdaBoostClassifier(\n",
    "    base_estimator=tree,\n",
    "    n_estimators=600,\n",
    "    learning_rate=1.5,\n",
    "    algorithm=\"SAMME\")"
   ]
  },
  {
   "cell_type": "code",
   "execution_count": 362,
   "metadata": {},
   "outputs": [
    {
     "data": {
      "text/plain": [
       "AdaBoostClassifier(algorithm='SAMME',\n",
       "                   base_estimator=DecisionTreeClassifier(class_weight=None,\n",
       "                                                         criterion='gini',\n",
       "                                                         max_depth=2,\n",
       "                                                         max_features=None,\n",
       "                                                         max_leaf_nodes=None,\n",
       "                                                         min_impurity_decrease=0.0,\n",
       "                                                         min_impurity_split=None,\n",
       "                                                         min_samples_leaf=1,\n",
       "                                                         min_samples_split=2,\n",
       "                                                         min_weight_fraction_leaf=0.0,\n",
       "                                                         presort=False,\n",
       "                                                         random_state=None,\n",
       "                                                         splitter='best'),\n",
       "                   learning_rate=1.5, n_estimators=600, random_state=None)"
      ]
     },
     "execution_count": 362,
     "metadata": {},
     "output_type": "execute_result"
    }
   ],
   "source": [
    "# fit\n",
    "adaboost_model_1.fit(X_train, y_train)"
   ]
  },
  {
   "cell_type": "code",
   "execution_count": 363,
   "metadata": {},
   "outputs": [],
   "source": [
    "# predictions\n",
    "# the second column represents the probability of a click resulting in a download\n",
    "predictions = adaboost_model_1.predict(X_test)\n",
    "#predictions"
   ]
  },
  {
   "cell_type": "markdown",
   "metadata": {},
   "source": [
    "> ### Metrics"
   ]
  },
  {
   "cell_type": "code",
   "execution_count": 364,
   "metadata": {},
   "outputs": [
    {
     "name": "stdout",
     "output_type": "stream",
     "text": [
      "Accuracy score: 0.8627986348122867\n",
      "\n",
      "Classification Report:\n",
      "               precision    recall  f1-score   support\n",
      "\n",
      "           0       0.87      0.87      0.87       758\n",
      "           1       0.86      0.85      0.86       707\n",
      "\n",
      "    accuracy                           0.86      1465\n",
      "   macro avg       0.86      0.86      0.86      1465\n",
      "weighted avg       0.86      0.86      0.86      1465\n",
      "\n",
      "\n",
      "Confusion Matrix:\n",
      " [[660  98]\n",
      " [103 604]]\n"
     ]
    }
   ],
   "source": [
    "from sklearn import metrics\n",
    "\n",
    "print(\"Accuracy score:\",metrics.accuracy_score(y_test,predictions))\n",
    "print(\"\\nClassification Report:\\n\",metrics.classification_report(y_test, predictions))\n",
    "print(\"\\nConfusion Matrix:\\n\", metrics.confusion_matrix(y_test,predictions))"
   ]
  },
  {
   "cell_type": "markdown",
   "metadata": {},
   "source": [
    "> <div class=\"alert alert-block alert-info\">\n",
    "    <span style=\"color:black\"><b>Inference:</b> ADABOOST with decision trees. \n",
    "    <b><ul>\n",
    "        <li>Accuracy: 86% </li>\n",
    "        <li>Precision: 86% </li>\n",
    "        <li>Recall: 85% </li>\n",
    "        <li>F1 score: 86% </li>\n",
    "        </ul></b>\n",
    "        <b> This clearly indicates that ADABOOST with decision trees, performs well on predicting the customers who will churn. \n",
    "    </span>\n",
    "</div>\n"
   ]
  },
  {
   "cell_type": "markdown",
   "metadata": {},
   "source": [
    ">### <span style=\"color:#008abc\"><b> Tuning Hyperparameters:</b></span>\n",
    "\n",
    "> Let's now tune the hyperparameters of the AdaBoost classifier. In this case, we have two types of hyperparameters - those of the component trees (max_depth etc.) and those of the ensemble (n_estimators, learning_rate etc.). We can tune both using the following technique - the keys of the form ```base_estimator_parameter_name``` belong to the trees (base estimator), and the rest belong to the ensemble."
   ]
  },
  {
   "cell_type": "code",
   "execution_count": 353,
   "metadata": {},
   "outputs": [
    {
     "name": "stdout",
     "output_type": "stream",
     "text": [
      "Fitting 3 folds for each of 6 candidates, totalling 18 fits\n"
     ]
    },
    {
     "name": "stderr",
     "output_type": "stream",
     "text": [
      "[Parallel(n_jobs=1)]: Using backend SequentialBackend with 1 concurrent workers.\n",
      "[Parallel(n_jobs=1)]: Done  18 out of  18 | elapsed:  3.4min finished\n"
     ]
    },
    {
     "data": {
      "text/plain": [
       "GridSearchCV(cv=3, error_score='raise-deprecating',\n",
       "             estimator=AdaBoostClassifier(algorithm='SAMME',\n",
       "                                          base_estimator=DecisionTreeClassifier(class_weight=None,\n",
       "                                                                                criterion='gini',\n",
       "                                                                                max_depth=None,\n",
       "                                                                                max_features=None,\n",
       "                                                                                max_leaf_nodes=None,\n",
       "                                                                                min_impurity_decrease=0.0,\n",
       "                                                                                min_impurity_split=None,\n",
       "                                                                                min_samples_leaf=1,\n",
       "                                                                                min_samples_split=2,\n",
       "                                                                                min_weight_fraction_leaf=0.0,\n",
       "                                                                                presort=False,\n",
       "                                                                                random_state=None,\n",
       "                                                                                splitter='best'),\n",
       "                                          learning_rate=0.6, n_estimators=50,\n",
       "                                          random_state=None),\n",
       "             iid='warn', n_jobs=None,\n",
       "             param_grid={'base_estimator__max_depth': [2, 5],\n",
       "                         'n_estimators': [200, 400, 600]},\n",
       "             pre_dispatch='2*n_jobs', refit=True, return_train_score=True,\n",
       "             scoring='f1', verbose=1)"
      ]
     },
     "execution_count": 353,
     "metadata": {},
     "output_type": "execute_result"
    }
   ],
   "source": [
    "# parameter grid\n",
    "param_grid = {\"base_estimator__max_depth\" : [2, 5],\n",
    "              \"n_estimators\": [200, 400, 600]\n",
    "             }\n",
    "# base estimator\n",
    "tree = DecisionTreeClassifier()\n",
    "\n",
    "# adaboost with the tree as base estimator\n",
    "# learning rate is arbitrarily set to 0.6, we'll discuss learning_rate below\n",
    "ABC = AdaBoostClassifier(\n",
    "    base_estimator=tree,\n",
    "    learning_rate=0.6,\n",
    "    algorithm=\"SAMME\")\n",
    "# run grid search\n",
    "folds = 3\n",
    "grid_search_ABC = GridSearchCV(ABC, \n",
    "                               cv = folds,\n",
    "                               param_grid=param_grid, \n",
    "                               scoring = 'f1', \n",
    "                               return_train_score=True,                         \n",
    "                               verbose = 1)\n",
    "# fit \n",
    "grid_search_ABC.fit(X_train, y_train)"
   ]
  },
  {
   "cell_type": "code",
   "execution_count": 365,
   "metadata": {},
   "outputs": [
    {
     "data": {
      "text/html": [
       "<div>\n",
       "<style scoped>\n",
       "    .dataframe tbody tr th:only-of-type {\n",
       "        vertical-align: middle;\n",
       "    }\n",
       "\n",
       "    .dataframe tbody tr th {\n",
       "        vertical-align: top;\n",
       "    }\n",
       "\n",
       "    .dataframe thead th {\n",
       "        text-align: right;\n",
       "    }\n",
       "</style>\n",
       "<table border=\"1\" class=\"dataframe\">\n",
       "  <thead>\n",
       "    <tr style=\"text-align: right;\">\n",
       "      <th></th>\n",
       "      <th>mean_fit_time</th>\n",
       "      <th>std_fit_time</th>\n",
       "      <th>mean_score_time</th>\n",
       "      <th>std_score_time</th>\n",
       "      <th>param_base_estimator__max_depth</th>\n",
       "      <th>param_n_estimators</th>\n",
       "      <th>params</th>\n",
       "      <th>split0_test_score</th>\n",
       "      <th>split1_test_score</th>\n",
       "      <th>split2_test_score</th>\n",
       "      <th>mean_test_score</th>\n",
       "      <th>std_test_score</th>\n",
       "      <th>rank_test_score</th>\n",
       "      <th>split0_train_score</th>\n",
       "      <th>split1_train_score</th>\n",
       "      <th>split2_train_score</th>\n",
       "      <th>mean_train_score</th>\n",
       "      <th>std_train_score</th>\n",
       "    </tr>\n",
       "  </thead>\n",
       "  <tbody>\n",
       "    <tr>\n",
       "      <th>0</th>\n",
       "      <td>3.277363</td>\n",
       "      <td>0.005822</td>\n",
       "      <td>0.047229</td>\n",
       "      <td>0.000509</td>\n",
       "      <td>2</td>\n",
       "      <td>200</td>\n",
       "      <td>{'base_estimator__max_depth': 2, 'n_estimators': 200}</td>\n",
       "      <td>0.864348</td>\n",
       "      <td>0.858648</td>\n",
       "      <td>0.858929</td>\n",
       "      <td>0.860641</td>\n",
       "      <td>0.002623</td>\n",
       "      <td>6</td>\n",
       "      <td>0.906865</td>\n",
       "      <td>0.918706</td>\n",
       "      <td>0.912097</td>\n",
       "      <td>0.912556</td>\n",
       "      <td>0.004845</td>\n",
       "    </tr>\n",
       "    <tr>\n",
       "      <th>1</th>\n",
       "      <td>6.622094</td>\n",
       "      <td>0.084068</td>\n",
       "      <td>0.109348</td>\n",
       "      <td>0.022094</td>\n",
       "      <td>2</td>\n",
       "      <td>400</td>\n",
       "      <td>{'base_estimator__max_depth': 2, 'n_estimators': 400}</td>\n",
       "      <td>0.866087</td>\n",
       "      <td>0.867428</td>\n",
       "      <td>0.861702</td>\n",
       "      <td>0.865072</td>\n",
       "      <td>0.002445</td>\n",
       "      <td>5</td>\n",
       "      <td>0.920261</td>\n",
       "      <td>0.939289</td>\n",
       "      <td>0.932350</td>\n",
       "      <td>0.930634</td>\n",
       "      <td>0.007862</td>\n",
       "    </tr>\n",
       "    <tr>\n",
       "      <th>2</th>\n",
       "      <td>10.582159</td>\n",
       "      <td>0.449863</td>\n",
       "      <td>0.181398</td>\n",
       "      <td>0.038156</td>\n",
       "      <td>2</td>\n",
       "      <td>600</td>\n",
       "      <td>{'base_estimator__max_depth': 2, 'n_estimators': 600}</td>\n",
       "      <td>0.868881</td>\n",
       "      <td>0.867660</td>\n",
       "      <td>0.868025</td>\n",
       "      <td>0.868189</td>\n",
       "      <td>0.000512</td>\n",
       "      <td>4</td>\n",
       "      <td>0.934028</td>\n",
       "      <td>0.945629</td>\n",
       "      <td>0.942199</td>\n",
       "      <td>0.940618</td>\n",
       "      <td>0.004866</td>\n",
       "    </tr>\n",
       "    <tr>\n",
       "      <th>3</th>\n",
       "      <td>7.683515</td>\n",
       "      <td>0.065445</td>\n",
       "      <td>0.054403</td>\n",
       "      <td>0.006388</td>\n",
       "      <td>5</td>\n",
       "      <td>200</td>\n",
       "      <td>{'base_estimator__max_depth': 5, 'n_estimators': 200}</td>\n",
       "      <td>0.878632</td>\n",
       "      <td>0.865854</td>\n",
       "      <td>0.867660</td>\n",
       "      <td>0.870715</td>\n",
       "      <td>0.005647</td>\n",
       "      <td>2</td>\n",
       "      <td>1.000000</td>\n",
       "      <td>1.000000</td>\n",
       "      <td>1.000000</td>\n",
       "      <td>1.000000</td>\n",
       "      <td>0.000000</td>\n",
       "    </tr>\n",
       "    <tr>\n",
       "      <th>4</th>\n",
       "      <td>15.346281</td>\n",
       "      <td>0.025929</td>\n",
       "      <td>0.110594</td>\n",
       "      <td>0.002870</td>\n",
       "      <td>5</td>\n",
       "      <td>400</td>\n",
       "      <td>{'base_estimator__max_depth': 5, 'n_estimators': 400}</td>\n",
       "      <td>0.882096</td>\n",
       "      <td>0.863158</td>\n",
       "      <td>0.863676</td>\n",
       "      <td>0.869643</td>\n",
       "      <td>0.008808</td>\n",
       "      <td>3</td>\n",
       "      <td>1.000000</td>\n",
       "      <td>1.000000</td>\n",
       "      <td>1.000000</td>\n",
       "      <td>1.000000</td>\n",
       "      <td>0.000000</td>\n",
       "    </tr>\n",
       "    <tr>\n",
       "      <th>5</th>\n",
       "      <td>22.622849</td>\n",
       "      <td>0.217896</td>\n",
       "      <td>0.156214</td>\n",
       "      <td>0.000001</td>\n",
       "      <td>5</td>\n",
       "      <td>600</td>\n",
       "      <td>{'base_estimator__max_depth': 5, 'n_estimators': 600}</td>\n",
       "      <td>0.882507</td>\n",
       "      <td>0.868190</td>\n",
       "      <td>0.865961</td>\n",
       "      <td>0.872219</td>\n",
       "      <td>0.007331</td>\n",
       "      <td>1</td>\n",
       "      <td>1.000000</td>\n",
       "      <td>1.000000</td>\n",
       "      <td>1.000000</td>\n",
       "      <td>1.000000</td>\n",
       "      <td>0.000000</td>\n",
       "    </tr>\n",
       "  </tbody>\n",
       "</table>\n",
       "</div>"
      ],
      "text/plain": [
       "   mean_fit_time  std_fit_time  mean_score_time  std_score_time  \\\n",
       "0  3.277363       0.005822      0.047229         0.000509         \n",
       "1  6.622094       0.084068      0.109348         0.022094         \n",
       "2  10.582159      0.449863      0.181398         0.038156         \n",
       "3  7.683515       0.065445      0.054403         0.006388         \n",
       "4  15.346281      0.025929      0.110594         0.002870         \n",
       "5  22.622849      0.217896      0.156214         0.000001         \n",
       "\n",
       "  param_base_estimator__max_depth param_n_estimators  \\\n",
       "0  2                               200                 \n",
       "1  2                               400                 \n",
       "2  2                               600                 \n",
       "3  5                               200                 \n",
       "4  5                               400                 \n",
       "5  5                               600                 \n",
       "\n",
       "                                                  params  split0_test_score  \\\n",
       "0  {'base_estimator__max_depth': 2, 'n_estimators': 200}  0.864348            \n",
       "1  {'base_estimator__max_depth': 2, 'n_estimators': 400}  0.866087            \n",
       "2  {'base_estimator__max_depth': 2, 'n_estimators': 600}  0.868881            \n",
       "3  {'base_estimator__max_depth': 5, 'n_estimators': 200}  0.878632            \n",
       "4  {'base_estimator__max_depth': 5, 'n_estimators': 400}  0.882096            \n",
       "5  {'base_estimator__max_depth': 5, 'n_estimators': 600}  0.882507            \n",
       "\n",
       "   split1_test_score  split2_test_score  mean_test_score  std_test_score  \\\n",
       "0  0.858648           0.858929           0.860641         0.002623         \n",
       "1  0.867428           0.861702           0.865072         0.002445         \n",
       "2  0.867660           0.868025           0.868189         0.000512         \n",
       "3  0.865854           0.867660           0.870715         0.005647         \n",
       "4  0.863158           0.863676           0.869643         0.008808         \n",
       "5  0.868190           0.865961           0.872219         0.007331         \n",
       "\n",
       "   rank_test_score  split0_train_score  split1_train_score  \\\n",
       "0  6                0.906865            0.918706             \n",
       "1  5                0.920261            0.939289             \n",
       "2  4                0.934028            0.945629             \n",
       "3  2                1.000000            1.000000             \n",
       "4  3                1.000000            1.000000             \n",
       "5  1                1.000000            1.000000             \n",
       "\n",
       "   split2_train_score  mean_train_score  std_train_score  \n",
       "0  0.912097            0.912556          0.004845         \n",
       "1  0.932350            0.930634          0.007862         \n",
       "2  0.942199            0.940618          0.004866         \n",
       "3  1.000000            1.000000          0.000000         \n",
       "4  1.000000            1.000000          0.000000         \n",
       "5  1.000000            1.000000          0.000000         "
      ]
     },
     "execution_count": 365,
     "metadata": {},
     "output_type": "execute_result"
    }
   ],
   "source": [
    "# cv results\n",
    "cv_results = pd.DataFrame(grid_search_ABC.cv_results_)\n",
    "cv_results"
   ]
  },
  {
   "cell_type": "code",
   "execution_count": 366,
   "metadata": {},
   "outputs": [
    {
     "data": {
      "image/png": "[encoded data removed]",
      "text/plain": [
       "<Figure size 1152x432 with 2 Axes>"
      ]
     },
     "metadata": {
      "needs_background": "light"
     },
     "output_type": "display_data"
    }
   ],
   "source": [
    "# plotting AUC with hyperparameter combinations\n",
    "\n",
    "plt.figure(figsize=(16,6))\n",
    "for n, depth in enumerate(param_grid['base_estimator__max_depth']):\n",
    "    \n",
    "\n",
    "    # subplot 1/n\n",
    "    plt.subplot(1,3, n+1)\n",
    "    depth_df = cv_results[cv_results['param_base_estimator__max_depth']==depth]\n",
    "\n",
    "    plt.plot(depth_df[\"param_n_estimators\"], depth_df[\"mean_test_score\"])\n",
    "    plt.plot(depth_df[\"param_n_estimators\"], depth_df[\"mean_train_score\"])\n",
    "    plt.xlabel('n_estimators')\n",
    "    plt.ylabel('AUC')\n",
    "    plt.title(\"max_depth={0}\".format(depth))\n",
    "    plt.ylim([0.60, 1])\n",
    "    plt.legend(['test score', 'train score'], loc='upper left')\n",
    "    plt.xscale('log')\n",
    "\n",
    "    \n"
   ]
  },
  {
   "cell_type": "markdown",
   "metadata": {},
   "source": [
    "> <div class=\"alert alert-block alert-info\">\n",
    "    <span style=\"color:black\"><b>Inference:</b>The results above show that:\n",
    "    <ul>\n",
    "    <li>The ensemble with max_depth=5 is clearly overfitting \n",
    "        (training auc is almost 1, while the test score is much lower)</li>\n",
    "    <li>At max_depth=2, the model performs slightly better (approx 95% AUC) with a higher test score</li>\n",
    "    <li> Thus, we should go ahead with max_depth=2 and n_estimators=200.</li>\n",
    "    </ul>\n",
    "        Note that we haven't experimented with many other important hyperparameters till now, such as learning rate, subsample etc., and the results might be considerably improved by tuning them. We'll next experiment with these hyperparameters.\n",
    "    </span>\n",
    "</div>"
   ]
  },
  {
   "cell_type": "markdown",
   "metadata": {},
   "source": [
    "> ### <span style=\"color:#008abc\"><b> 5b. ADABOOST with tuned hyperparameters</b></span>"
   ]
  },
  {
   "cell_type": "code",
   "execution_count": 367,
   "metadata": {},
   "outputs": [
    {
     "data": {
      "text/plain": [
       "AdaBoostClassifier(algorithm='SAMME',\n",
       "                   base_estimator=DecisionTreeClassifier(class_weight=None,\n",
       "                                                         criterion='gini',\n",
       "                                                         max_depth=2,\n",
       "                                                         max_features=None,\n",
       "                                                         max_leaf_nodes=None,\n",
       "                                                         min_impurity_decrease=0.0,\n",
       "                                                         min_impurity_split=None,\n",
       "                                                         min_samples_leaf=1,\n",
       "                                                         min_samples_split=2,\n",
       "                                                         min_weight_fraction_leaf=0.0,\n",
       "                                                         presort=False,\n",
       "                                                         random_state=None,\n",
       "                                                         splitter='best'),\n",
       "                   learning_rate=0.6, n_estimators=200, random_state=None)"
      ]
     },
     "execution_count": 367,
     "metadata": {},
     "output_type": "execute_result"
    }
   ],
   "source": [
    "# model performance on test data with chosen hyperparameters\n",
    "\n",
    "# base estimator\n",
    "tree = DecisionTreeClassifier(max_depth=2)\n",
    "\n",
    "# adaboost with the tree as base estimator\n",
    "# learning rate is arbitrarily set, we'll discuss learning_rate below\n",
    "ABC = AdaBoostClassifier(\n",
    "    base_estimator=tree,\n",
    "    learning_rate=0.6,\n",
    "    n_estimators=200,\n",
    "    algorithm=\"SAMME\")\n",
    "\n",
    "ABC.fit(X_train, y_train)"
   ]
  },
  {
   "cell_type": "code",
   "execution_count": 370,
   "metadata": {},
   "outputs": [],
   "source": [
    "# predict on test data\n",
    "predictions = ABC.predict(X_test)\n",
    "#predictions[:10]"
   ]
  },
  {
   "cell_type": "markdown",
   "metadata": {},
   "source": [
    "> ### Metrics"
   ]
  },
  {
   "cell_type": "code",
   "execution_count": 371,
   "metadata": {},
   "outputs": [
    {
     "name": "stdout",
     "output_type": "stream",
     "text": [
      "Accuracy score: 0.8627986348122867\n",
      "\n",
      "Classification Report:\n",
      "               precision    recall  f1-score   support\n",
      "\n",
      "           0       0.86      0.88      0.87       758\n",
      "           1       0.86      0.85      0.86       707\n",
      "\n",
      "    accuracy                           0.86      1465\n",
      "   macro avg       0.86      0.86      0.86      1465\n",
      "weighted avg       0.86      0.86      0.86      1465\n",
      "\n",
      "\n",
      "Confusion Matrix:\n",
      " [[664  94]\n",
      " [107 600]]\n"
     ]
    }
   ],
   "source": [
    "from sklearn import metrics\n",
    "\n",
    "print(\"Accuracy score:\",metrics.accuracy_score(y_test,predictions))\n",
    "print(\"\\nClassification Report:\\n\",metrics.classification_report(y_test, predictions))\n",
    "print(\"\\nConfusion Matrix:\\n\", metrics.confusion_matrix(y_test,predictions))"
   ]
  },
  {
   "cell_type": "markdown",
   "metadata": {},
   "source": [
    "> <div class=\"alert alert-block alert-info\">\n",
    "    <span style=\"color:black\"><b>Inference:</b> ADABOOST with Decision trees(After tuning hyperparameters). \n",
    "    <b><ul>\n",
    "        <li>Accuracy: 86% </li>\n",
    "        <li>Precision: 86% </li>\n",
    "        <li>Recall: 85% </li>\n",
    "        <li>F1 score: 86% </li>\n",
    "        </ul></b>\n",
    "        <b> This clearly indicates that ADABOOST with decision trees, performs well on predicting the customers who will churn. \n",
    "    </span>\n",
    "</div>\n"
   ]
  },
  {
   "cell_type": "code",
   "execution_count": 373,
   "metadata": {},
   "outputs": [
    {
     "data": {
      "text/plain": [
       "[('loc_ic_mou_8', 0.10004022107519554),\n",
       " ('last_rech_days_8', 0.0943889161707095),\n",
       " ('total_ic_mou_8', 0.07326100560838147),\n",
       " ('roam_ic_mou_8', 0.04287608376907744),\n",
       " ('last_day_rch_amt_8', 0.033440275959336414),\n",
       " ('total_og_diff', 0.03123905618974683),\n",
       " ('avg_isd_ic_mou_627', 0.028370414082594202),\n",
       " ('total_ic_diff', 0.027997660764061988),\n",
       " ('avg_total_rech_num_627', 0.027090693714058804),\n",
       " ('roam_og_mou_8', 0.025959043226337696),\n",
       " ('spl_ic_mou_8', 0.0245342951781224),\n",
       " ('vol_2g_mb_8', 0.023454914925367658),\n",
       " ('total_rech_amt_diff', 0.02343890931950239),\n",
       " ('avg_loc_ic_mou_627', 0.022165674979914333),\n",
       " ('loc_og_mou_8', 0.02196146343278094),\n",
       " ('arpu_diff', 0.021728043443321122),\n",
       " ('avg_arpu_627', 0.020470525003554292),\n",
       " ('arpu_8', 0.02032858033853551),\n",
       " ('vol_3g_mb_8', 0.019744159339553865),\n",
       " ('avg_offnet_mou_627', 0.01927765900736851),\n",
       " ('total_rech_num_8', 0.018828894015330014),\n",
       " ('avg_roam_og_mou_627', 0.018406454836383573),\n",
       " ('avg_roam_ic_mou_627', 0.01695784525119094),\n",
       " ('aon_years', 0.01675088948163511),\n",
       " ('avg_monthly_2g_627', 0.015953216155308703),\n",
       " ('total_og_mou_8', 0.015500042283416041),\n",
       " ('isd_ic_mou_8', 0.0153677260608087),\n",
       " ('std_og_mou_8', 0.014543142617200787),\n",
       " ('avg_vol_2g_mb_627', 0.014168249686587114),\n",
       " ('avg_vol_3g_mb_627', 0.01383814265760828),\n",
       " ('std_ic_mou_8', 0.01254684624260276),\n",
       " ('offnet_mou_8', 0.01036569469620735),\n",
       " ('avg_total_rech_amt_627', 0.009933321311462857),\n",
       " ('avg_std_og_mou_627', 0.009443035409057225),\n",
       " ('avg_isd_og_mou_627', 0.00935414157491949),\n",
       " ('total_rech_amt_8', 0.009120931645664906),\n",
       " ('avg_loc_og_mou_627', 0.008554249953679531),\n",
       " ('avg_sachet_3g_627', 0.007999053371180481),\n",
       " ('avg_last_day_rch_amt_627', 0.0067676339427252975),\n",
       " ('onnet_mou_8', 0.006495537139012819),\n",
       " ('avg_std_ic_mou_627', 0.006419388621751341),\n",
       " ('avg_ic_others_627', 0.0057226873173568445),\n",
       " ('avg_spl_og_mou_627', 0.004375144887198685),\n",
       " ('monthly_2g_8', 0.004107287559797552),\n",
       " ('sachet_2g_8', 0.0034762620504565265),\n",
       " ('ic_others_8', 0.002770496842984618),\n",
       " ('avg_total_ic_mou_627', 0.002751429226758238),\n",
       " ('avg_max_rech_amt_627', 0.0026018394287236307),\n",
       " ('avg_last_rech_days_627', 0.002387227100818675),\n",
       " ('avg_sachet_2g_627', 0.002033882541869246),\n",
       " ('isd_og_mou_8', 0.0020338219002462654),\n",
       " ('vbc_3g_8', 0.001923614775596845),\n",
       " ('avg_og_others_627', 0.0019031748517512395),\n",
       " ('avg_spl_ic_mou_627', 0.001550294425911652),\n",
       " ('avg_onnet_mou_627', 0.0014387951421458549),\n",
       " ('avg_total_og_mou_627', 0.00114204051908875),\n",
       " ('max_rech_amt_8', 0.0006999689480411649),\n",
       " ('spl_og_mou_8', 0.0),\n",
       " ('og_others_8', 0.0),\n",
       " ('monthly_3g_8', 0.0),\n",
       " ('sachet_3g_8', 0.0),\n",
       " ('avg_vbc_3g_627', 0.0),\n",
       " ('avg_monthly_3g_627', 0.0)]"
      ]
     },
     "execution_count": 373,
     "metadata": {},
     "output_type": "execute_result"
    }
   ],
   "source": [
    "# feature importance\n",
    "import operator\n",
    "importance = dict(zip(model_df.columns, ABC.feature_importances_))\n",
    "importance\n",
    "sorted_d = sorted(importance.items(), key=operator.itemgetter(1),reverse=True)\n",
    "sorted_d"
   ]
  },
  {
   "cell_type": "markdown",
   "metadata": {},
   "source": [
    "> <div class=\"alert alert-block alert-info\">\n",
    "    <span style=\"color:black\"><b>Inference:</b> The important features that help to predict churn are:\n",
    "            <ul>\n",
    "            <li> Feature : Weightage</li>\n",
    "            <li>loc_ic_mou_8: 0.10004022107519554</li>\n",
    " <li>last_rech_days_8: 0.0943889161707095</li>\n",
    " <li>total_ic_mou_8: 0.07326100560838147</li>\n",
    " <li>roam_ic_mou_8: 0.04287608376907744</li>\n",
    " <li>last_day_rch_amt_8: 0.033440275959336414</li>\n",
    "            </ul>\n",
    "    </span>\n",
    "</div>"
   ]
  },
  {
   "cell_type": "markdown",
   "metadata": {},
   "source": [
    "## <span style=\"color:#008abc\"><b> Recommendations:</b></span>"
   ]
  },
  {
   "cell_type": "markdown",
   "metadata": {},
   "source": [
    "> <div class=\"alert alert-block alert-info\">\n",
    "    <span style=\"color:black\">\n",
    "            <ul>\n",
    "            <li> The behaviour in the action month (8th month) is a strong indicator of churn. </li>\n",
    "            <li>Also, the customers who are associated with the telecom operator for less than 4 years are more likely to churn.</li>\n",
    "            </ul>\n",
    "            The operator can look into the above mentioned features and provide offers to retain the high value customers who are likely to churn.\n",
    "    </span>\n",
    "</div>"
   ]
  }
 ],
 "metadata": {
  "kernelspec": {
   "display_name": "Python 3",
   "language": "python",
   "name": "python3"
  },
  "language_info": {
   "codemirror_mode": {
    "name": "ipython",
    "version": 3
   },
   "file_extension": ".py",
   "mimetype": "text/x-python",
   "name": "python",
   "nbconvert_exporter": "python",
   "pygments_lexer": "ipython3",
   "version": "3.7.1"
  }
 },
 "nbformat": 4,
 "nbformat_minor": 2
}
